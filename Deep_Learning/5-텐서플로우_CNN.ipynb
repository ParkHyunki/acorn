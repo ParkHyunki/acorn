{
 "cells": [
  {
   "cell_type": "code",
   "execution_count": 1,
   "metadata": {},
   "outputs": [],
   "source": [
    "import tensorflow as tf\n",
    "import numpy as np\n",
    "import pandas as pd\n",
    "import matplotlib.pylab as plt"
   ]
  },
  {
   "cell_type": "markdown",
   "metadata": {},
   "source": [
    "# 모두를 위한 머신러닝 lab11-CNN\n",
    "\n",
    "### 3x3x1 이미지(3x3 크기의 흑백 이미지), 2x2x1 필터"
   ]
  },
  {
   "cell_type": "code",
   "execution_count": null,
   "metadata": {},
   "outputs": [],
   "source": [
    "### 3*3*1 이미지\n",
    "\n",
    "image = np.array([[[[1], [2], [3]], \n",
    "                   [[4], [5], [6]], \n",
    "                   [[7], [8], [9]]]], dtype=np.float32)  #> 이미지는 4차원\n",
    "print(image.shape)  #> 3*3 흑백 이미지 1개\n",
    "\n",
    "plt.imshow(image.reshape(3, 3), cmap=\"Greys\")  #> 시각화 위해 4차원을 2차원으로"
   ]
  },
  {
   "cell_type": "code",
   "execution_count": null,
   "metadata": {},
   "outputs": [],
   "source": [
    "### padding 없이 convolution layer 추출\n",
    "\n",
    "# 1. 필터 준비\n",
    "weight = tf.constant([[[[1.]], [[1.]]], \n",
    "                      [[[1.]], [[1.]]]])\n",
    "print(\"필터의 크기: \", weight.shape)  #> 크기(2x2), 색상 수, 필터 갯수\n",
    "\n",
    "conv2d = tf.nn.conv2d(image, weight, strides=[1, 1, 1, 1], padding=\"VALID\")  \n",
    "    #> 4차원으로 넘겨준다(strides의 차원 맞춰주기 위해 앞뒤로 의미 없는 값 부여). padding=\"VALID\" 패딩 부여x\n",
    "\n",
    "sess = tf.Session()\n",
    "conv2d_img = sess.run(conv2d)\n",
    "\n",
    "print(\"컨볼루션 이미지: \", conv2d_img.shape)  #> 3x3 이미지가 2x2로 축소\n",
    "\n",
    "conv2d_img = np.swapaxes(conv2d_img, 0, 3)  #> swapaxes() 행과 열 교체(Wx+b로 연산)\n",
    "print(\"축의 방향 전환: \", conv2d_img)\n",
    "for i, one_img in enumerate(conv2d_img):\n",
    "    print(\"차원 변경: \", one_img.reshape(2, 2))  #> 4차원을 시각화 위해 2차원으로 변경\n",
    "    plt.subplot(1, 2, i+1)\n",
    "    plt.imshow(one_img.reshape(2, 2), cmap=\"Greys\")"
   ]
  },
  {
   "cell_type": "code",
   "execution_count": null,
   "metadata": {},
   "outputs": [],
   "source": [
    "### padding을 통한 convolution layer 추출\n",
    "\n",
    "# 1. 필터 준비\n",
    "weight = tf.constant([[[[1.]], [[1.]]], \n",
    "                      [[[1.]], [[1.]]]])\n",
    "print(\"필터의 크기: \", weight.shape)  #> 크기(2x2), 색상 수, 필터 갯수\n",
    "\n",
    "conv2d = tf.nn.conv2d(image, weight, strides=[1, 1, 1, 1], padding=\"SAME\")  \n",
    "    #> 4차원으로 넘겨준다(strides의 차원 맞춰주기 위해 앞뒤로 의미 없는 값 부여)\n",
    "    #> padding=\"SAME\" 원본 크기에 맞춰서 패딩 값 부여\n",
    "\n",
    "sess = tf.Session()\n",
    "conv2d_img = sess.run(conv2d)\n",
    "\n",
    "print(\"컨볼루션 이미지: \", conv2d_img.shape)  #> 패딩으로 인해 이미지 크기 변경x\n",
    "\n",
    "conv2d_img = np.swapaxes(conv2d_img, 0, 3)  #> swapaxes() 행과 열 교체(Wx+b로 연산)\n",
    "print(\"축의 방향 전환: \", conv2d_img)\n",
    "for i, one_img in enumerate(conv2d_img):\n",
    "    print(\"차원 변경: \", one_img.reshape(3, 3))  #> 4차원을 시각화 위해 2차원으로 변경\n",
    "    plt.subplot(1, 2, i+1)\n",
    "    plt.imshow(one_img.reshape(3, 3), cmap=\"Greys\")"
   ]
  },
  {
   "cell_type": "code",
   "execution_count": null,
   "metadata": {
    "scrolled": true
   },
   "outputs": [],
   "source": [
    "### 3개의 필터(2*2*1*3) 사용한 convolution layer 추출\n",
    "\n",
    "# 1. 필터 준비\n",
    "weight = tf.constant([[[[1., 10, -1]], [[1., 10, -1]]], \n",
    "                      [[[1., 10, -1]], [[1., 10, -1]]]])\n",
    "print(\"필터의 크기: \", weight.shape)  #> 크기(2x2), 색상, 필터 갯수\n",
    "\n",
    "conv2d = tf.nn.conv2d(image, weight, strides=[1, 1, 1, 1], padding=\"SAME\")  \n",
    "    #> 4차원으로 넘겨준다(strides의 차원 맞춰주기 위해 앞뒤로 의미 없는 값 부여)\n",
    "    #> padding=\"SAME\" 원본 크기에 맞춰서 패딩 값 부여\n",
    "\n",
    "sess = tf.Session()\n",
    "conv2d_img = sess.run(conv2d)\n",
    "\n",
    "print(\"컨볼루션 이미지: \", conv2d_img.shape)  #> 패딩으로 인해 이미지 크기 변경x\n",
    "\n",
    "conv2d_img = np.swapaxes(conv2d_img, 0, 3)  #> swapaxes() 행과 열 교체(Wx+b로 연산)\n",
    "print(\"축의 방향 전환: \", conv2d_img)\n",
    "for i, one_img in enumerate(conv2d_img):\n",
    "    print(\"차원 변경: \", one_img.reshape(3, 3))  #> 4차원을 시각화 위해 2차원으로 변경\n",
    "    plt.subplot(1, 3, i+1)\n",
    "    plt.imshow(one_img.reshape(3, 3), cmap=\"Greys\")"
   ]
  },
  {
   "cell_type": "code",
   "execution_count": null,
   "metadata": {},
   "outputs": [],
   "source": [
    "### Max Pooling(이미지: 2*2, 커널(필터): 2*2)\n",
    "\n",
    "# 1. 이미지 준비\n",
    "image = tf.constant([[[[4], [3]], \n",
    "                      [[2], [1]]]], dtype=np.float32)\n",
    "\n",
    "# 2. 필터 준비\n",
    "pool = tf.nn.max_pool(image, ksize=[1, 2, 2, 1], strides=[1, 1, 1, 1], padding=\"VALID\")  #> ksize= 통해 커널 크기 지정\n",
    "\n",
    "p = sess.run(pool)\n",
    "\n",
    "print(p.shape)\n",
    "print(p)\n",
    "\n",
    "sess.close()"
   ]
  },
  {
   "cell_type": "markdown",
   "metadata": {},
   "source": [
    "## 실습. MNIST 데이터를 이용한 CNN"
   ]
  },
  {
   "cell_type": "code",
   "execution_count": null,
   "metadata": {},
   "outputs": [],
   "source": [
    "from tensorflow.examples.tutorials.mnist import input_data\n",
    "\n",
    "mnist = input_data.read_data_sets(\"data/MNIST_data/\", one_hot=True)\n",
    "\n",
    "# 1. 데이터 확인\n",
    "img = mnist.train.images[0].reshape(28, 28)  #> 시각화 위해 차원 변경\n",
    "plt.imshow(img, cmap=\"gray\")\n",
    "\n",
    "# 2. 입력값 준비\n",
    "X = tf.placeholder(tf.float32, [None, 28*28])\n",
    "y = tf.placeholder(tf.float32, [None, 10])\n",
    "\n",
    "# 3. 첫번째 convolution layer 작성 (필터의 크기: 3*3, 필터의 갯수: 32, 색상 수: 1)\n",
    "x_img = tf.reshape(X, [-1, 28, 28, 1])  \n",
    "    #> 머신러닝에서는 2차원으로 넘겨주었으나, 텐서플로우에서는 4차원으로 넘겨야 한다\n",
    "W1 = tf.Variable(tf.random_normal([3, 3, 1, 32], stddev=0.01))\n",
    "\n",
    "L1 = tf.nn.conv2d(x_img, W1, strides=[1, 1, 1, 1], padding=\"SAME\")\n",
    "print(L1)  #> stride가 1이고 패딩이 있으므로 크기 변화x\n",
    "\n",
    "L1 = tf.nn.relu(L1)  #> 성능 향상 위해 relu 추가(성능 확인 필요)\n",
    "print(\"relu 적용: \", L1)\n",
    "\n",
    "L1 = tf.nn.max_pool(L1, ksize=[1, 2, 2, 1], strides=[1, 2, 2, 1], padding=\"SAME\")\n",
    "print(\"max_pool 적용: \", L1)\n",
    "\n",
    "# 4. 두번째 convolution layer 작성 (필터의 크기: 3*3, 필터의 갯수: 64)\n",
    "W2 = tf.Variable(tf.random_normal([3, 3, 32, 64], stddev=0.01))  #> L1의 출력값 연결받아야 한다\n",
    "\n",
    "L2 = tf.nn.conv2d(L1, W2, strides=[1, 1, 1, 1], padding=\"SAME\")\n",
    "print(L2)  #> stride가 1이고 패딩이 있으므로 크기 변화x\n",
    "\n",
    "L2 = tf.nn.relu(L2)  #> 성능 향상 위해 relu 추가(성능 확인 필요)\n",
    "print(\"relu 적용: \", L2)\n",
    "\n",
    "L2 = tf.nn.max_pool(L2, ksize=[1, 2, 2, 1], strides=[1, 2, 2, 1], padding=\"SAME\")\n",
    "print(\"max_pool 적용: \", L2)\n",
    "\n",
    "### Fully Connected layer 작성 ( = Dense Layer)\n",
    "\n",
    "# 1. hyper parameter 준비\n",
    "learning_rate = 0.001\n",
    "training_epoch = 15\n",
    "batch_size = 500\n",
    "\n",
    "# 2. graph 작성\n",
    "    # 입력 데이터 준비\n",
    "L2 = tf.reshape(L2, [-1, 7*7*64])  #> 4차원인 L2를 2차원으로 변환\n",
    "\n",
    "    # 가중치\n",
    "W3 = tf.Variable(tf.random_normal([7*7*64, 10]))\n",
    "b = tf.Variable(tf.random_normal([10]))\n",
    "\n",
    "    # 비용 계산과 처리\n",
    "logit = tf.matmul(L2, W3) + b\n",
    "cost = tf.reduce_mean(tf.nn.softmax_cross_entropy_with_logits(logits=logit, labels=y))\n",
    "train = tf.train.AdamOptimizer(learning_rate=learning_rate).minimize(cost)\n",
    "\n",
    "    # graph 구현\n",
    "with tf.Session() as sess:\n",
    "    sess.run(tf.global_variables_initializer())\n",
    "    \n",
    "    for enpoch in range(training_epoch):\n",
    "        total_batch = int(mnist.train.num_examples / batch_size)\n",
    "        avg_cost = 0\n",
    "        \n",
    "        for i in range(total_batch):\n",
    "            batch_xs, batch_ys = mnist.train.next_batch(batch_size)\n",
    "            _, c = sess.run([train, cost], feed_dict={X:batch_xs, y:batch_ys})\n",
    "            avg_cost += c/total_batch\n",
    "            \n",
    "        print(\"Epoch: \", \"%04d\"%(enpoch+1), \"cost: \", \"{:.9f}\".format(avg_cost))\n",
    "        \n",
    "    correct_prediction = tf.equal(tf.argmax(logit, 1), tf.argmax(y, 1))\n",
    "    accuracy = tf.reduce_mean(tf.cast(correct_prediction, tf.float32))\n",
    "    print(\"정확도: \", sess.run(accuracy, feed_dict={X:mnist.test.images, y:mnist.test.labels}))"
   ]
  },
  {
   "cell_type": "code",
   "execution_count": null,
   "metadata": {},
   "outputs": [],
   "source": [
    "from tensorflow.examples.tutorials.mnist import input_data\n",
    "\n",
    "mnist = input_data.read_data_sets(\"data/MNIST_data/\", one_hot=True)\n",
    "\n",
    "# 1. 데이터 확인\n",
    "img = mnist.train.images[0].reshape(28, 28)  #> 시각화 위해 차원 변경\n",
    "plt.imshow(img, cmap=\"gray\")"
   ]
  },
  {
   "cell_type": "code",
   "execution_count": null,
   "metadata": {},
   "outputs": [],
   "source": [
    "# 2. 입력값 준비\n",
    "X = tf.placeholder(tf.float32, [None, 28*28])\n",
    "y = tf.placeholder(tf.float32, [None, 10])"
   ]
  },
  {
   "cell_type": "code",
   "execution_count": null,
   "metadata": {},
   "outputs": [],
   "source": [
    "# 3. 첫번째 convolution layer 작성 (필터의 크기: 3*3, 필터의 갯수: 32, 색상 수: 1)\n",
    "x_img = tf.reshape(X, [-1, 28, 28, 1])  \n",
    "    #> 머신러닝에서는 2차원으로 넘겨주었으나, 텐서플로우에서는 4차원으로 넘겨야 한다\n",
    "W1 = tf.Variable(tf.random_normal([3, 3, 1, 32], stddev=0.01))\n",
    "\n",
    "L1 = tf.nn.conv2d(x_img, W1, strides=[1, 1, 1, 1], padding=\"SAME\")\n",
    "print(L1)  #> stride가 1이고 패딩이 있으므로 크기 변화x\n",
    "\n",
    "L1 = tf.nn.relu(L1)  #> 성능 향상 위해 relu 추가(성능 확인 필요)\n",
    "print(\"relu 적용: \", L1)\n",
    "\n",
    "L1 = tf.nn.max_pool(L1, ksize=[1, 2, 2, 1], strides=[1, 2, 2, 1], padding=\"SAME\")\n",
    "print(\"max_pool 적용: \", L1)"
   ]
  },
  {
   "cell_type": "code",
   "execution_count": null,
   "metadata": {},
   "outputs": [],
   "source": [
    "# 4. 두번째 convolution layer 작성 (필터의 크기: 3*3, 필터의 갯수: 64)\n",
    "W2 = tf.Variable(tf.random_normal([3, 3, 32, 64], stddev=0.01))\n",
    "\n",
    "L2 = tf.nn.conv2d(L1, W2, strides=[1, 1, 1, 1], padding=\"SAME\")\n",
    "print(L2)\n",
    "\n",
    "L2 = tf.nn.relu(L2)\n",
    "print(\"relu 적용: \", L2)\n",
    "\n",
    "L2 = tf.nn.max_pool(L2, ksize=[1, 2, 2, 1], strides=[1, 2, 2, 1], padding=\"SAME\")\n",
    "print(\"max_pool 적용: \", L2)"
   ]
  },
  {
   "cell_type": "code",
   "execution_count": null,
   "metadata": {},
   "outputs": [],
   "source": [
    "# ++ layer 추가 (필터 크기 3*3, 필터 갯수 32)\n",
    "W3 = tf.Variable(tf.random_normal([3, 3, 64, 32], stddev=0.01))  #> L1의 출력값 연결받아야 한다\n",
    "\n",
    "L3 = tf.nn.conv2d(L2, W3, strides=[1, 1, 1, 1], padding=\"SAME\")\n",
    "print(L3)  #> stride가 1이고 패딩이 있으므로 크기 변화x\n",
    "\n",
    "L3 = tf.nn.relu(L3)  #> 성능 향상 위해 relu 추가(성능 확인 필요)\n",
    "print(\"relu 적용: \", L3)\n",
    "\n",
    "L3 = tf.nn.max_pool(L3, ksize=[1, 2, 2, 1], strides=[1, 2, 2, 1], padding=\"SAME\")\n",
    "print(\"max_pool 적용: \", L3)"
   ]
  },
  {
   "cell_type": "code",
   "execution_count": null,
   "metadata": {},
   "outputs": [],
   "source": [
    "### 과제: Fully Connected layer 작성 ( = Dense Layer)\n",
    "\n",
    "# 1. hyper parameter 준비\n",
    "learning_rate = 0.001\n",
    "training_epoch = 15\n",
    "batch_size = 500"
   ]
  },
  {
   "cell_type": "code",
   "execution_count": null,
   "metadata": {},
   "outputs": [],
   "source": [
    "# 2. graph 작성\n",
    "    # 입력 데이터 준비\n",
    "L3 = tf.reshape(L3, [-1, 4*4*32])  #> 4차원인 L2를 2차원으로 변환\n",
    "\n",
    "    # 가중치\n",
    "W4 = tf.get_variable(\"W4\", shape=[4*4*32, 10], initializer=tf.contrib.layers.xavier_initializer())\n",
    "b = tf.Variable(tf.random_normal([10]))\n",
    "\n",
    "    # 비용 계산과 처리\n",
    "logit = tf.matmul(L3, W4) + b\n",
    "cost = tf.reduce_mean(tf.nn.softmax_cross_entropy_with_logits(logits=logit, labels=y))\n",
    "train = tf.train.AdamOptimizer(learning_rate=learning_rate).minimize(cost)"
   ]
  },
  {
   "cell_type": "code",
   "execution_count": null,
   "metadata": {},
   "outputs": [],
   "source": [
    "    # graph 구현\n",
    "with tf.Session() as sess:\n",
    "    sess.run(tf.global_variables_initializer())\n",
    "    \n",
    "    for enpoch in range(training_epoch):\n",
    "        total_batch = int(mnist.train.num_examples / batch_size)\n",
    "        avg_cost = 0\n",
    "        \n",
    "        for i in range(total_batch):\n",
    "            batch_xs, batch_ys = mnist.train.next_batch(batch_size)\n",
    "            _, c = sess.run([train, cost], feed_dict={X:batch_xs, y:batch_ys})\n",
    "            avg_cost += c/total_batch\n",
    "            \n",
    "        print(\"Epoch: \", \"%04d\"%(enpoch+1), \"cost: \", \"{:.9f}\".format(avg_cost))\n",
    "        \n",
    "    correct_prediction = tf.equal(tf.argmax(logit, 1), tf.argmax(y, 1))\n",
    "    accuracy = tf.reduce_mean(tf.cast(correct_prediction, tf.float32))\n",
    "    print(\"정확도: \", sess.run(accuracy, feed_dict={X:mnist.test.images, y:mnist.test.labels}))"
   ]
  },
  {
   "cell_type": "markdown",
   "metadata": {},
   "source": [
    "---\n",
    "\n",
    "## Ensemble 기법 : 여러가지 모델 같이 활용\n",
    "\n",
    "    - 여러 모델을 같이 활용하므로 성능은 좋으나, 그만큼 비용이 크다\n",
    "\n",
    "    - Hard voting 방식: 각각의 모델 결과값 따로 구한 후, 가장 높은 값 선택\n",
    "\n",
    "    - Soft voting 방식: 전체를 하나의 확률로 묶어, 가장 확률이 높은 값 선택"
   ]
  },
  {
   "cell_type": "markdown",
   "metadata": {},
   "source": [
    "---\n",
    "\n",
    "## 실습. 교통 표지판 인식\n",
    "\n",
    "    - http://benchmark.ini.rub.de/?section=gtsrb&subsection=dataset\n",
    "    \n",
    "    - 모델링 계획\n",
    "        + 이미지(32x32 로 크기 정형화) > Convolution Layer1 > Max Pooling > Convolution Layer2 > Max Pooling > FC"
   ]
  },
  {
   "cell_type": "markdown",
   "metadata": {},
   "source": [
    "### 1. 이미지 전처리\n",
    "\n",
    "    1) 크기 정형화: 32x32\n",
    "    \n",
    "    2) 색상 흑백으로 전처리"
   ]
  },
  {
   "cell_type": "code",
   "execution_count": 2,
   "metadata": {},
   "outputs": [],
   "source": [
    "import glob  #> 여러 개의 파일 동시에 불러온다\n",
    "from skimage.color import rgb2lab  #> 단일 색상 처리(흑백)\n",
    "from skimage.transform import resize  #> 크기 변경\n",
    "from collections import namedtuple  #> 이미지와 제목 묶어준다\n",
    "np.random.seed(101)"
   ]
  },
  {
   "cell_type": "code",
   "execution_count": 3,
   "metadata": {},
   "outputs": [],
   "source": [
    "N_CLASSES = 43  #> 교통표지판 종류(정답의 개수)\n",
    "RESIZED_IMAGE = (32, 32)  #> 이미지 크기\n",
    "    #> 관례: 상수이며 값 변경하면 안되는 변수인 경우 대문자로\n",
    "\n",
    "Dataset = namedtuple(\"Dataset\", [\"X\", \"y\"])  \n",
    "    #> Dataset이라는 이름으로 (X, y)로 묶임. dict와 유사(X와 y를 key값으로 가질 수 있도록)\n",
    "    #> dict와 차이: 읽기 전용 데이터값 보호(데이터 수정x)"
   ]
  },
  {
   "cell_type": "code",
   "execution_count": 4,
   "metadata": {},
   "outputs": [],
   "source": [
    "def to_tf_format(imags):  #> 이미지 차원과 형식 변환 위한 함수 생성\n",
    "    return np.stack([img[:, :, np.newaxis] for img in imags]).astype(np.float32)  #> 배열로 변환\n",
    "        #> np.stack() 통해 3차원 이미지 계속 쌓아 전체 데이터 정보 얻음"
   ]
  },
  {
   "cell_type": "code",
   "execution_count": 5,
   "metadata": {},
   "outputs": [],
   "source": [
    "def read_dataset_ppm(rootpath, n_labels, resize_to):  \n",
    "    #> 이미지 파일(.ppm) 읽기 위한 함수 생성(이미지 경로, 정답 개수, 변경할 크기)\n",
    "    images = []\n",
    "    labels = []\n",
    "    \n",
    "    for c in range(n_labels):\n",
    "        full_path = rootpath + \"/\" + format(c, \"05d\") + \"/\"  \n",
    "            #> 05d 5자리 숫자 형식으로 c(1에서 43까지) 폴더명 생성(일치)\n",
    "        \n",
    "        for img_name in glob.glob(full_path + \"*.ppm\"):\n",
    "            img = plt.imread(img_name).astype(np.float32)  \n",
    "                #> 이미지를 plt.imread() 이용해 숫자로 변환하여 img 변수에 저장\n",
    "                \n",
    "            img = rgb2lab(img/255.0)[:, :, 0]  #> rgb 색상을 lab 색상으로 변경(0과 1로 변경)\n",
    "            \n",
    "            if resize_to:  #> 조건문 통해 resize_to 값이 전달되면 크기 변환\n",
    "                img = resize(img, resize_to)\n",
    "                \n",
    "            label = np.zeros((n_labels), dtype=np.float32)  #> 43 전체를 0으로 채운 후, 해당 값에만 1 부여\n",
    "            label[c] = 1.0\n",
    "            \n",
    "            images.append(img.astype(np.float32))\n",
    "            labels.append(label)\n",
    "            \n",
    "    return Dataset(X=to_tf_format(images), y=np.matrix(labels).astype(np.float32))  \n",
    "        #> to_tf_format() 리스트 형식의 이미지를 배열로 변환"
   ]
  },
  {
   "cell_type": "code",
   "execution_count": 6,
   "metadata": {},
   "outputs": [
    {
     "name": "stdout",
     "output_type": "stream",
     "text": [
      "(39209, 32, 32, 1)\n",
      "(39209, 43)\n"
     ]
    }
   ],
   "source": [
    "dataset = read_dataset_ppm(\"data/GTSRB/Final_Training/Images\", N_CLASSES, RESIZED_IMAGE)  #> 상위 폴더까지 경로 지정\n",
    "print(dataset.X.shape)\n",
    "print(dataset.y.shape)"
   ]
  },
  {
   "cell_type": "code",
   "execution_count": 7,
   "metadata": {},
   "outputs": [
    {
     "name": "stdout",
     "output_type": "stream",
     "text": [
      "[[1. 0. 0. 0. 0. 0. 0. 0. 0. 0. 0. 0. 0. 0. 0. 0. 0. 0. 0. 0. 0. 0. 0. 0.\n",
      "  0. 0. 0. 0. 0. 0. 0. 0. 0. 0. 0. 0. 0. 0. 0. 0. 0. 0. 0.]]\n"
     ]
    },
    {
     "data": {
      "image/png": "[encoded data removed]",
      "text/plain": [
       "<Figure size 432x288 with 1 Axes>"
      ]
     },
     "metadata": {
      "needs_background": "light"
     },
     "output_type": "display_data"
    }
   ],
   "source": [
    "plt.imshow(dataset.X[0, :, :, :].reshape(RESIZED_IMAGE))\n",
    "print(dataset.y[0, :])  #> 맨 처음 이미지"
   ]
  },
  {
   "cell_type": "code",
   "execution_count": 8,
   "metadata": {},
   "outputs": [
    {
     "name": "stdout",
     "output_type": "stream",
     "text": [
      "[[0. 0. 0. 0. 0. 0. 0. 0. 0. 0. 0. 0. 0. 0. 0. 0. 0. 0. 0. 0. 0. 0. 0. 0.\n",
      "  0. 0. 0. 0. 0. 0. 0. 0. 0. 0. 0. 0. 0. 0. 0. 0. 0. 0. 1.]]\n"
     ]
    },
    {
     "data": {
      "image/png": "[encoded data removed]",
      "text/plain": [
       "<Figure size 432x288 with 1 Axes>"
      ]
     },
     "metadata": {
      "needs_background": "light"
     },
     "output_type": "display_data"
    }
   ],
   "source": [
    "plt.imshow(dataset.X[-1, :, :, :].reshape(RESIZED_IMAGE))\n",
    "print(dataset.y[-1, :])  #> 맨 마지막 이미지"
   ]
  },
  {
   "cell_type": "markdown",
   "metadata": {},
   "source": [
    "    3) 적합도 검정 위해 훈련용 데이터 다시 훈련용과 테스트용으로 나누어 확인"
   ]
  },
  {
   "cell_type": "code",
   "execution_count": 9,
   "metadata": {},
   "outputs": [
    {
     "name": "stdout",
     "output_type": "stream",
     "text": [
      "(29406, 32, 32, 1)\n",
      "(9803, 32, 32, 1)\n",
      "(29406, 43)\n",
      "(9803, 43)\n"
     ]
    }
   ],
   "source": [
    "from sklearn.model_selection import train_test_split\n",
    "\n",
    "idx_train, idx_test = train_test_split(range(dataset.X.shape[0]), test_size=0.25, random_state=0)\n",
    "\n",
    "X_train = dataset.X[idx_train, :, :, :]\n",
    "X_test = dataset.X[idx_test, :, :, :]  #> X는 4차원\n",
    "\n",
    "y_train = dataset.y[idx_train, :]\n",
    "y_test = dataset.y[idx_test, :]  #> y는 2차원\n",
    "    #> 머신러닝과 달리 텐서플로우는 X를 4차원, y는 2차원으로 넘겨야 한다\n",
    "\n",
    "print(X_train.shape)\n",
    "print(X_test.shape)\n",
    "print(y_train.shape)\n",
    "print(y_test.shape)"
   ]
  },
  {
   "cell_type": "markdown",
   "metadata": {},
   "source": [
    "### 2. 모델 훈련과 예측\n",
    "\n",
    "    - minibatch 이용해 데이터 나누어 불러온다"
   ]
  },
  {
   "cell_type": "code",
   "execution_count": 10,
   "metadata": {},
   "outputs": [],
   "source": [
    "def minibatcher(X, y, batch_size, shuffle):  #> minibath 위함 함수 생성\n",
    "    assert X.shape[0] == y.shape[0]  \n",
    "        #> assert 디버깅용 예외처리(테스트). release 할 때는 자동으로 무효처리\n",
    "        #> X와 y의 개수(첫번째 값)가 같으면 진행한다\n",
    "    n_samples = X.shape[0]\n",
    "    \n",
    "    if shuffle:\n",
    "        idx = np.random.permutation(n_samples)  #> np.random.permutation()  순서를 랜덤하게 섞어주는 함수\n",
    "    else:\n",
    "        idx = list(range(n_samples))\n",
    "        \n",
    "    for k in range(int(np.ceil(n_samples/batch_size))):\n",
    "                   from_idx = k * batch_size\n",
    "                   to_idx = (k+1) * batch_size\n",
    "                   yield X[idx[from_idx:to_idx], :, :, :], y[idx[from_idx:to_idx], :]\n",
    "                       #> yield : thread처리(병렬 코드작업)"
   ]
  },
  {
   "cell_type": "code",
   "execution_count": 11,
   "metadata": {},
   "outputs": [
    {
     "name": "stdout",
     "output_type": "stream",
     "text": [
      "(10000, 32, 32, 1) (10000, 43)\n",
      "(10000, 32, 32, 1) (10000, 43)\n",
      "(9406, 32, 32, 1) (9406, 43)\n"
     ]
    }
   ],
   "source": [
    "for mb in minibatcher(X_train, y_train, 10000, True):  #> shuffle=True 통해 순서대로 암기 방지(적절하게 섞음)\n",
    "    print(mb[0].shape, mb[1].shape)"
   ]
  },
  {
   "cell_type": "markdown",
   "metadata": {},
   "source": [
    "    1) FC layer"
   ]
  },
  {
   "cell_type": "code",
   "execution_count": 12,
   "metadata": {},
   "outputs": [],
   "source": [
    "def fc_no_activation_layer(in_tensors, n_units):  #> 가중치 및 bias 학습\n",
    "    W = tf.get_variable(\"fc_W\", [in_tensors.get_shape()[1], n_units], \n",
    "                        tf.float32, tf.contrib.layers.xavier_initializer())  #> 초기값 지정\n",
    "    b = tf.get_variable(\"fc_b\", [n_units], tf.float32, tf.constant_initializer(0.0))  #> 0으로 초기값 지정\n",
    "    \n",
    "    return tf.matmul(in_tensors, W) + b\n",
    "\n",
    "def fc_layer(in_tensors, n_units):\n",
    "    return tf.nn.leaky_relu(fc_no_activation_layer(in_tensors, n_units))"
   ]
  },
  {
   "cell_type": "markdown",
   "metadata": {},
   "source": [
    "    2) Convolution layer"
   ]
  },
  {
   "cell_type": "code",
   "execution_count": 13,
   "metadata": {},
   "outputs": [],
   "source": [
    "def conv_layer(in_tensors, kernal_size, n_units):\n",
    "    W = tf.get_variable(\"conv_W\", [kernal_size, kernal_size, in_tensors.get_shape()[3], n_units], \n",
    "                        tf.float32, tf.contrib.layers.xavier_initializer())\n",
    "    b = tf.get_variable(\"conv_b\", [n_units], tf.float32, tf.constant_initializer(0.0))\n",
    "    return tf.nn.leaky_relu(tf.nn.conv2d(in_tensors, W, [1, 1, 1, 1], \"SAME\") + b)\n",
    "\n",
    "def maxpool_layer(in_tensors, sampling):\n",
    "    return tf.nn.max_pool(in_tensors, [1, sampling, sampling, 1], [1, sampling, sampling, 1], \"SAME\")\n",
    "\n",
    "def dropout(in_tensors, keep_proba, is_training):\n",
    "    return tf.cond(is_training, lambda:tf.nn.dropout(in_tensors, keep_proba), lambda:in_tensors)\n",
    "        #> tf.cond() 조건에 따라 선택한 코드만 실행. 상황연산자"
   ]
  },
  {
   "cell_type": "markdown",
   "metadata": {},
   "source": [
    "    3) Summary\n",
    "    \n",
    "        + 1st 2차원 convolution : 5x5, 32필터\n",
    "        + 2nd 2차원 convolution : 5x5, 64필터\n",
    "        + FC : 1024 units\n",
    "        + dropout : 40%\n",
    "        + Softmax Active Function"
   ]
  },
  {
   "cell_type": "code",
   "execution_count": 14,
   "metadata": {},
   "outputs": [],
   "source": [
    "def model(in_tensors, is_training):\n",
    "    # 1st conv layer 작성: 필터 크기 5x5, 필터 개수 32개, max_pool 2개, dropout 20%\n",
    "    with tf.variable_scope(\"L1\"):\n",
    "        l1 = maxpool_layer(conv_layer(in_tensors, 5, 32), 2)\n",
    "        l1_out = dropout(l1, 0.8, is_training)\n",
    "        \n",
    "    # 2nd conv layer 작성: 5x5, 필터 개수 64개, max_pool 2개, dropout 20%\n",
    "    with tf.variable_scope(\"L2\"):\n",
    "        l2 = maxpool_layer(conv_layer(l1_out, 5, 64), 2)\n",
    "        l2_out = dropout(l2, 0.8, is_training)\n",
    "        \n",
    "    # 평면화\n",
    "    with tf.variable_scope(\"flatten\"):\n",
    "        l2_out_flat = tf.layers.flatten(l2_out)\n",
    "        \n",
    "    # Fully Connected Layer : 1024 neurons, 40% dropout\n",
    "    with tf.variable_scope(\"L3\"):\n",
    "        l3 = fc_layer(l2_out_flat, 1024)\n",
    "        l3_out = dropout(l3, 0.6, is_training)\n",
    "        \n",
    "    # Output\n",
    "    with tf.variable_scope(\"out\"):\n",
    "        out_tensors = fc_no_activation_layer(l3_out, N_CLASSES)\n",
    "        \n",
    "    return out_tensors"
   ]
  },
  {
   "cell_type": "code",
   "execution_count": 15,
   "metadata": {},
   "outputs": [],
   "source": [
    "sess = None\n",
    "\n",
    "def train_model(X_train, y_train, X_test, y_test, learning_rate, max_epochs, batch_size):  \n",
    "        #> 최종 출력 Activation Function\n",
    "    in_X_tensors_batch = tf.placeholder(tf.float32, shape=(None, RESIZED_IMAGE[0], RESIZED_IMAGE[1], 1))\n",
    "        #> 이미지 차원(4차원) 맞춰줌\n",
    "    in_y_tensors_batch = tf.placeholder(tf.float32, shape=(None, N_CLASSES))\n",
    "    is_training = tf.placeholder(tf.bool)\n",
    "    \n",
    "    logits = model(in_X_tensors_batch, is_training)\n",
    "    out_y_pred = tf.nn.softmax(logits)\n",
    "    loss_score = tf.nn.softmax_cross_entropy_with_logits(logits=logits, labels=in_y_tensors_batch)\n",
    "    loss = tf.reduce_mean(loss_score)\n",
    "    train = tf.train.AdamOptimizer(learning_rate).minimize(loss)  #> graph 작업 완료\n",
    "    \n",
    "    sess =  tf.Session()\n",
    "    sess.run(tf.global_variables_initializer())\n",
    "        \n",
    "    for epochs in range(max_epochs):\n",
    "        print(\"Epoch: \", epochs)\n",
    "        tf_score = []\n",
    "            \n",
    "        for mb in minibatcher(X_train, y_train, batch_size, True):  \n",
    "                #> shuffle=True 통해 순서대로 암기 방지(적절하게 섞음)\n",
    "            tf_output = sess.run([train, loss], \n",
    "                                         feed_dict={in_X_tensors_batch:mb[0], in_y_tensors_batch:mb[1], is_training:True})\n",
    "            tf_score.append(tf_output[1])\n",
    "                \n",
    "        print(\"training_loss_score: \", np.mean(tf_score))\n",
    "        \n",
    "    ### Test\n",
    "    print(\"TEST SET PERFORMANCE\")\n",
    "    y_test_pred, test_loss = sess.run([out_y_pred, loss], \n",
    "                                  feed_dict={in_X_tensors_batch:X_test, in_y_tensors_batch:y_test, is_training:False})\n",
    "    print(\"test_loss_score: \", test_loss)\n",
    "    y_test_pred_classified = np.argmax(y_test_pred, axis=1).astype(np.int32)\n",
    "    y_test_true_classified = np.argmax(y_test, axis=1).astype(np.int32)\n",
    "    print(classification_report(y_test_true_classified, y_test_pred_classified))\n",
    "    \n",
    "    ### Confusion matrix\n",
    "    cm = confusion_matrix(y_test_true_classified, y_test_pred_classified)\n",
    "\n",
    "    plt.imshow(cm, interpolation=\"nearest\", cmap=plt.cm.Blues)\n",
    "    plt.colorbar()\n",
    "    plt.tight_layout()\n",
    "    \n",
    "    plt.imshow(np.log2(cm+1), interpolation=\"nearest\", cmap=plt.get_cmap(\"tab20\"))\n",
    "    plt.colorbar()\n",
    "    plt.tight_layout()"
   ]
  },
  {
   "cell_type": "markdown",
   "metadata": {},
   "source": [
    "    4) Test"
   ]
  },
  {
   "cell_type": "code",
   "execution_count": 16,
   "metadata": {
    "scrolled": false
   },
   "outputs": [
    {
     "name": "stdout",
     "output_type": "stream",
     "text": [
      "WARNING:tensorflow:\n",
      "The TensorFlow contrib module will not be included in TensorFlow 2.0.\n",
      "For more information, please see:\n",
      "  * https://github.com/tensorflow/community/blob/master/rfcs/20180907-contrib-sunset.md\n",
      "  * https://github.com/tensorflow/addons\n",
      "  * https://github.com/tensorflow/io (for I/O related ops)\n",
      "If you depend on functionality not listed there, please file an issue.\n",
      "\n",
      "WARNING:tensorflow:From <ipython-input-13-4c43e9ed6174>:11: calling dropout (from tensorflow.python.ops.nn_ops) with keep_prob is deprecated and will be removed in a future version.\n",
      "Instructions for updating:\n",
      "Please use `rate` instead of `keep_prob`. Rate should be set to `rate = 1 - keep_prob`.\n",
      "WARNING:tensorflow:From <ipython-input-14-86edacdba160>:14: flatten (from tensorflow.python.layers.core) is deprecated and will be removed in a future version.\n",
      "Instructions for updating:\n",
      "Use keras.layers.flatten instead.\n",
      "WARNING:tensorflow:Entity <bound method Flatten.call of <tensorflow.python.layers.core.Flatten object at 0x000000001D9FBA58>> could not be transformed and will be executed as-is. Please report this to the AutgoGraph team. When filing the bug, set the verbosity to 10 (on Linux, `export AUTOGRAPH_VERBOSITY=10`) and attach the full output. Cause: converting <bound method Flatten.call of <tensorflow.python.layers.core.Flatten object at 0x000000001D9FBA58>>: AttributeError: module 'gast' has no attribute 'Num'\n",
      "WARNING: Entity <bound method Flatten.call of <tensorflow.python.layers.core.Flatten object at 0x000000001D9FBA58>> could not be transformed and will be executed as-is. Please report this to the AutgoGraph team. When filing the bug, set the verbosity to 10 (on Linux, `export AUTOGRAPH_VERBOSITY=10`) and attach the full output. Cause: converting <bound method Flatten.call of <tensorflow.python.layers.core.Flatten object at 0x000000001D9FBA58>>: AttributeError: module 'gast' has no attribute 'Num'\n",
      "WARNING:tensorflow:From <ipython-input-15-2fe2f6dff58b>:12: softmax_cross_entropy_with_logits (from tensorflow.python.ops.nn_ops) is deprecated and will be removed in a future version.\n",
      "Instructions for updating:\n",
      "\n",
      "Future major versions of TensorFlow will allow gradients to flow\n",
      "into the labels input on backprop by default.\n",
      "\n",
      "See `tf.nn.softmax_cross_entropy_with_logits_v2`.\n",
      "\n",
      "Epoch:  0\n",
      "training_loss_score:  4.275515\n",
      "Epoch:  1\n",
      "training_loss_score:  0.66330236\n",
      "Epoch:  2\n",
      "training_loss_score:  0.33131075\n",
      "Epoch:  3\n",
      "training_loss_score:  0.20608298\n",
      "Epoch:  4\n",
      "training_loss_score:  0.14375322\n",
      "Epoch:  5\n",
      "training_loss_score:  0.11221401\n",
      "Epoch:  6\n",
      "training_loss_score:  0.090263516\n",
      "Epoch:  7\n",
      "training_loss_score:  0.07165752\n",
      "Epoch:  8\n",
      "training_loss_score:  0.063027985\n",
      "Epoch:  9\n",
      "training_loss_score:  0.054440502\n",
      "TEST SET PERFORMANCE\n",
      "test_loss_score:  0.06945878\n",
      "              precision    recall  f1-score   support\n",
      "\n",
      "           0       1.00      0.96      0.98        53\n",
      "           1       1.00      0.97      0.98       552\n",
      "           2       0.97      1.00      0.98       556\n",
      "           3       0.98      0.96      0.97       356\n",
      "           4       0.99      1.00      0.99       496\n",
      "           5       0.97      0.97      0.97       451\n",
      "           6       1.00      0.98      0.99       110\n",
      "           7       1.00      0.97      0.98       372\n",
      "           8       0.97      1.00      0.98       333\n",
      "           9       1.00      0.98      0.99       346\n",
      "          10       1.00      1.00      1.00       489\n",
      "          11       1.00      0.98      0.99       350\n",
      "          12       0.99      0.99      0.99       520\n",
      "          13       1.00      0.99      1.00       553\n",
      "          14       1.00      0.99      1.00       216\n",
      "          15       0.98      0.99      0.99       154\n",
      "          16       1.00      0.99      1.00       106\n",
      "          17       1.00      1.00      1.00       292\n",
      "          18       0.99      0.97      0.98       272\n",
      "          19       1.00      0.95      0.98        44\n",
      "          20       0.97      0.98      0.97        91\n",
      "          21       0.95      1.00      0.98        79\n",
      "          22       1.00      1.00      1.00        93\n",
      "          23       0.98      0.97      0.98       119\n",
      "          24       1.00      0.97      0.99        80\n",
      "          25       0.99      1.00      0.99       394\n",
      "          26       0.93      1.00      0.97       155\n",
      "          27       0.98      0.95      0.97        59\n",
      "          28       0.99      1.00      0.99       166\n",
      "          29       1.00      0.93      0.97        76\n",
      "          30       0.99      1.00      1.00       124\n",
      "          31       0.99      1.00      0.99       198\n",
      "          32       0.73      1.00      0.84        45\n",
      "          33       0.99      0.98      0.99       147\n",
      "          34       0.99      0.98      0.98        98\n",
      "          35       0.99      1.00      0.99       273\n",
      "          36       1.00      0.99      0.99        95\n",
      "          37       0.98      1.00      0.99        63\n",
      "          38       1.00      0.99      0.99       544\n",
      "          39       1.00      1.00      1.00        76\n",
      "          40       0.96      0.99      0.97        91\n",
      "          41       1.00      0.98      0.99        63\n",
      "          42       1.00      1.00      1.00        53\n",
      "\n",
      "    accuracy                           0.99      9803\n",
      "   macro avg       0.98      0.99      0.98      9803\n",
      "weighted avg       0.99      0.99      0.99      9803\n",
      "\n"
     ]
    },
    {
     "data": {
      "image/png": "[encoded data removed]",
      "text/plain": [
       "<Figure size 432x288 with 3 Axes>"
      ]
     },
     "metadata": {
      "needs_background": "light"
     },
     "output_type": "display_data"
    }
   ],
   "source": [
    "from sklearn.metrics import classification_report, confusion_matrix\n",
    "\n",
    "train_model(X_train, y_train, X_test, y_test, 0.001, 10, 256)"
   ]
  },
  {
   "cell_type": "code",
   "execution_count": null,
   "metadata": {},
   "outputs": [],
   "source": []
  },
  {
   "cell_type": "code",
   "execution_count": null,
   "metadata": {},
   "outputs": [],
   "source": []
  }
 ],
 "metadata": {
  "kernelspec": {
   "display_name": "Python 3",
   "language": "python",
   "name": "python3"
  },
  "language_info": {
   "codemirror_mode": {
    "name": "ipython",
    "version": 3
   },
   "file_extension": ".py",
   "mimetype": "text/x-python",
   "name": "python",
   "nbconvert_exporter": "python",
   "pygments_lexer": "ipython3",
   "version": "3.7.3"
  }
 },
 "nbformat": 4,
 "nbformat_minor": 2
}
