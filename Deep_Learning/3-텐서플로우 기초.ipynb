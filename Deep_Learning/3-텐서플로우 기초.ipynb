{
 "cells": [
  {
   "cell_type": "code",
   "execution_count": 1,
   "metadata": {},
   "outputs": [
    {
     "name": "stdout",
     "output_type": "stream",
     "text": [
      "1.14.0\n",
      "3.7.3 (default, Apr 24 2019, 15:29:51) [MSC v.1915 64 bit (AMD64)]\n"
     ]
    }
   ],
   "source": [
    "# cmd > conda install tensorflow\n",
    "import tensorflow as tf\n",
    "print(tf.__version__)\n",
    "\n",
    "import sys\n",
    "print(sys.version)"
   ]
  },
  {
   "cell_type": "markdown",
   "metadata": {},
   "source": [
    "# 텐서플로우\n",
    "\n",
    "    - 구글에서 만든 오픈소스 머신러닝 프레임워크\n",
    "    \n",
    "    - 다양한 언어 제공(파이썬이 가장 많이 사용): R에서는 텐서플로우 사용x\n",
    "    \n",
    "    - 특징: 기본적으로 텐서를 활용한 그래프 수치 연산 하는 도구. 속도가 빠름\n",
    "    \n",
    "    - 공식 사이트: http://www.tensorflow.org\n",
    "    \n",
    "    - 도움말(v1.14): https://www.tensorflow.org/versions/r1.14/api_docs/python/tf"
   ]
  },
  {
   "cell_type": "code",
   "execution_count": 2,
   "metadata": {},
   "outputs": [],
   "source": [
    "import tensorflow as tf\n",
    "import numpy as np"
   ]
  },
  {
   "cell_type": "markdown",
   "metadata": {},
   "source": [
    "## 텐서(tensor)"
   ]
  },
  {
   "cell_type": "code",
   "execution_count": 3,
   "metadata": {},
   "outputs": [
    {
     "data": {
      "text/plain": [
       "0"
      ]
     },
     "execution_count": 3,
     "metadata": {},
     "output_type": "execute_result"
    }
   ],
   "source": [
    "### 스칼라값(0D 텐서) ###\n",
    "\n",
    "x = np.array(10)\n",
    "x.ndim  #> 값이 하나이기 때문에 0차원"
   ]
  },
  {
   "cell_type": "code",
   "execution_count": 4,
   "metadata": {},
   "outputs": [
    {
     "data": {
      "text/plain": [
       "1"
      ]
     },
     "execution_count": 4,
     "metadata": {},
     "output_type": "execute_result"
    }
   ],
   "source": [
    "### 벡터(1D 텐서) ###\n",
    "\n",
    "x = np.array([10, 2, 7, 9, 21])\n",
    "x.ndim"
   ]
  },
  {
   "cell_type": "code",
   "execution_count": 5,
   "metadata": {},
   "outputs": [
    {
     "data": {
      "text/plain": [
       "dtype('int32')"
      ]
     },
     "execution_count": 5,
     "metadata": {},
     "output_type": "execute_result"
    }
   ],
   "source": [
    "### 행렬(2D 텐서) ###\n",
    "\n",
    "x = np.array([[1, 2, 3], [4, 5, 6], [7, 8, 9]])\n",
    "x.ndim\n",
    "x.shape\n",
    "x.dtype"
   ]
  },
  {
   "cell_type": "code",
   "execution_count": 6,
   "metadata": {},
   "outputs": [],
   "source": [
    "### 3D 텐서, 고차원 텐서 ###\n",
    "# 딥러닝에서는 0D ~ 4D 텐서(이미지)까지 주로 사용\n",
    "# 동영상 다룰 때에는 5D 텐서까지 사용\n",
    "\n",
    "# 핵심 속성\n",
    "# - 축의 개수(rank): ndim\n",
    "# - 크기(shape): shape\n",
    "# - 데이터 타입(dtype): dtype"
   ]
  },
  {
   "cell_type": "markdown",
   "metadata": {},
   "source": [
    "## 기본 구성요소\n",
    "\n",
    "    - placeholder()\n",
    "    \n",
    "    - constant(): 필요한 값 바로 준비(값 변경x)\n",
    "        tf.constant(\n",
    "                value,\n",
    "                dtype=None,\n",
    "                shape=None,\n",
    "                name='Const'\n",
    "        )\n",
    "    \n",
    "    - Variable(): 객체\n",
    "        __init__(\n",
    "                initial_value=None,\n",
    "                trainable=None,\n",
    "                validate_shape=True,\n",
    "                caching_device=None,\n",
    "                name=None,\n",
    "                variable_def=None,\n",
    "                dtype=None,\n",
    "                import_scope=None,\n",
    "                constraint=None,\n",
    "                synchronization=tf.VariableSynchronization.AUTO,\n",
    "                aggregation=tf.compat.v1.VariableAggregation.NONE,\n",
    "                shape=None\n",
    "        )"
   ]
  },
  {
   "cell_type": "markdown",
   "metadata": {},
   "source": [
    "## 기본 용어\n",
    "\n",
    "    - 노드(node): 연산 및 데이터 정의\n",
    "    \n",
    "    - 엣지(edge): 노드와 노드 연결해주는 선(데이터 흐름)\n",
    "    \n",
    "    - 텐서(tensor): 다차원 배열(0차원 배열 포함)\n",
    "    \n",
    "    - 세션(session): 그래프 실행시키기 위해 필요한 객체"
   ]
  },
  {
   "cell_type": "markdown",
   "metadata": {},
   "source": [
    "### constant()\n",
    "\n",
    "    - 필요한 값 바로 준비: 자주 쓰이지는 않는다(테스트 및 성능 측정 위해 즉흥적으로 사용)\n",
    "    \n",
    "    - 절대 변하지 않는 상수 의미\n",
    "    \n",
    "    - 자체적으로 그래프 갖는다\n",
    "    \n",
    "    - 메서드"
   ]
  },
  {
   "cell_type": "code",
   "execution_count": 16,
   "metadata": {},
   "outputs": [
    {
     "name": "stdout",
     "output_type": "stream",
     "text": [
      "Tensor(\"Const_5:0\", shape=(), dtype=int32)\n",
      "Tensor(\"Const_6:0\", shape=(), dtype=int32)\n",
      "Tensor(\"Add_2:0\", shape=(), dtype=int32)\n"
     ]
    }
   ],
   "source": [
    "a = tf.constant(10)  #> 바꿀 수 없는 숫자 값 지정\n",
    "print(a)  #> tensor라는 객체로 묶여 출력(값을 바로 쓸 수 없는 상태)\n",
    "\n",
    "b = tf.constant(20)\n",
    "print(b)\n",
    "\n",
    "c = tf.add(a, b)  #> 데이터 흐름 따라 그래프(계획) 생성: 실제 값 확인x. a+b 입력도 마찬가지\n",
    "print(c)"
   ]
  },
  {
   "cell_type": "code",
   "execution_count": 17,
   "metadata": {},
   "outputs": [
    {
     "data": {
      "text/plain": [
       "30"
      ]
     },
     "execution_count": 17,
     "metadata": {},
     "output_type": "execute_result"
    }
   ],
   "source": [
    "sess = tf.Session()  #> 작업 실행 준비\n",
    "\n",
    "sess.run(b)  #> b의 실제 값 가져온다\n",
    "sess.run(c)  #> 그래프 역순으로 실제 작업 실행. 마지막 c 실행하면서 a와 b도 같이 실행(역추적)\n",
    "#sess.close()"
   ]
  },
  {
   "cell_type": "code",
   "execution_count": 18,
   "metadata": {},
   "outputs": [
    {
     "data": {
      "text/plain": [
       "<tensorflow.python.summary.writer.writer.FileWriter at 0xdec3c18>"
      ]
     },
     "execution_count": 18,
     "metadata": {},
     "output_type": "execute_result"
    }
   ],
   "source": [
    "# tensorboard 그래프 시각화\n",
    "tf.summary.FileWriter(\"log_dir\", graph=sess.graph)  #> 텐서플로우로 작업한 내용을 log_dir 폴더에 저장\n",
    "\n",
    "# cmd > tensorboard --logdir=C:/Users/acorn/hghbigdata/pythonwork/Machine_learning/log_dir  \n",
    "# 인터넷 주소창에 localhost:6006 (cmd에 뜬 번호 입력)"
   ]
  },
  {
   "cell_type": "code",
   "execution_count": 19,
   "metadata": {},
   "outputs": [],
   "source": [
    "# (5 + 2) * 3\n",
    "a = tf.constant([5])\n",
    "b = tf.constant([2])\n",
    "c = tf.add(a, b)  #> a + b\n",
    "d = tf.constant([3])\n",
    "e = tf.multiply(c, d)"
   ]
  },
  {
   "cell_type": "code",
   "execution_count": 20,
   "metadata": {},
   "outputs": [
    {
     "data": {
      "text/plain": [
       "array([21])"
      ]
     },
     "execution_count": 20,
     "metadata": {},
     "output_type": "execute_result"
    }
   ],
   "source": [
    "sess.run(e)  #> 마지막 것 실행해야 전체 실행"
   ]
  },
  {
   "cell_type": "code",
   "execution_count": 21,
   "metadata": {},
   "outputs": [
    {
     "data": {
      "text/plain": [
       "<tensorflow.python.summary.writer.writer.FileWriter at 0x51dd940>"
      ]
     },
     "execution_count": 21,
     "metadata": {},
     "output_type": "execute_result"
    }
   ],
   "source": [
    "tf.summary.FileWriter(\"log_dir\", graph=sess.graph)"
   ]
  },
  {
   "cell_type": "code",
   "execution_count": 23,
   "metadata": {},
   "outputs": [],
   "source": [
    "sess.close()"
   ]
  },
  {
   "cell_type": "markdown",
   "metadata": {},
   "source": [
    "### Variable()\n",
    "\n",
    "    - 객체로 정의되어 있다\n",
    "\n",
    "    - 인공신경망 학습 과정 중 내부적으로 가중치(wieght) 계산 위한 도구: 가중치 저장하는 변수(학습 위함)\n",
    "    \n",
    "    - 실제로 값 직접 입력x (시스템 자체적으로 값 바꿔가며 입력)\n",
    "    \n",
    "    - 실행 전 반드시 초기화 필요(initialize_all_variables() 호출)"
   ]
  },
  {
   "cell_type": "code",
   "execution_count": 22,
   "metadata": {},
   "outputs": [
    {
     "name": "stdout",
     "output_type": "stream",
     "text": [
      "Tensor(\"add_4:0\", shape=(1,), dtype=int32)\n"
     ]
    }
   ],
   "source": [
    "v1 = tf.Variable(initial_value=[5])\n",
    "v2 = tf.Variable([3])\n",
    "v3 = tf.Variable([2])\n",
    "v4 = v1 * v2 + v3\n",
    "print(v4)"
   ]
  },
  {
   "cell_type": "code",
   "execution_count": 24,
   "metadata": {},
   "outputs": [
    {
     "name": "stdout",
     "output_type": "stream",
     "text": [
      "WARNING:tensorflow:From C:\\Users\\acorn\\Anaconda3\\lib\\site-packages\\tensorflow\\python\\util\\tf_should_use.py:193: initialize_all_variables (from tensorflow.python.ops.variables) is deprecated and will be removed after 2017-03-02.\n",
      "Instructions for updating:\n",
      "Use `tf.global_variables_initializer` instead.\n"
     ]
    },
    {
     "data": {
      "text/plain": [
       "array([17])"
      ]
     },
     "execution_count": 24,
     "metadata": {},
     "output_type": "execute_result"
    }
   ],
   "source": [
    "sess = tf.Session()\n",
    "sess.run(tf.initialize_all_variables())  #> 실행 전 먼저 초기화 필요\n",
    "sess.run(v4)  "
   ]
  },
  {
   "cell_type": "code",
   "execution_count": 25,
   "metadata": {},
   "outputs": [],
   "source": [
    "sess.close()"
   ]
  },
  {
   "cell_type": "markdown",
   "metadata": {},
   "source": [
    "### placeholder()\n",
    "\n",
    "     - 그래프 만들지 않는다\n",
    "     \n",
    "     - 입력된 데이터를 텐서와 매핑 시키는 역할"
   ]
  },
  {
   "cell_type": "code",
   "execution_count": 26,
   "metadata": {},
   "outputs": [
    {
     "data": {
      "text/plain": [
       "30.0"
      ]
     },
     "execution_count": 26,
     "metadata": {},
     "output_type": "execute_result"
    }
   ],
   "source": [
    "v1 = 5\n",
    "v2 = 3\n",
    "v3 = 2\n",
    "\n",
    "p1 = tf.placeholder(dtype=tf.float32)\n",
    "p2 = tf.placeholder(dtype=tf.float32)\n",
    "p3 = tf.placeholder(dtype=tf.float32)  #> 자리 표시\n",
    "\n",
    "result = p1 * p2 * p3\n",
    "\n",
    "sess = tf.Session()\n",
    "sess.run(result, feed_dict={p1:v1, p2:v2, p3:v3})  #> 실행할 때 필요한 값 입력"
   ]
  },
  {
   "cell_type": "code",
   "execution_count": 27,
   "metadata": {},
   "outputs": [],
   "source": [
    "sess.close()"
   ]
  },
  {
   "cell_type": "markdown",
   "metadata": {},
   "source": [
    "---\n",
    "\n",
    "### 활용 예제: 구구단 프로그램"
   ]
  },
  {
   "cell_type": "code",
   "execution_count": 38,
   "metadata": {},
   "outputs": [],
   "source": [
    "def gugu(dan):\n",
    "    left = tf.placeholder(tf.int32)\n",
    "    right = tf.placeholder(tf.int32)\n",
    "    calc = tf.multiply(left, right)\n",
    "    \n",
    "    with tf.Session() as sess:\n",
    "        for i in range(1, 10):\n",
    "            result = sess.run(calc, feed_dict={left:dan, right:i})\n",
    "            print(\"{0} x {1} = {2:2}\".format(dan, i, result))"
   ]
  },
  {
   "cell_type": "code",
   "execution_count": 39,
   "metadata": {},
   "outputs": [
    {
     "name": "stdout",
     "output_type": "stream",
     "text": [
      "2 x 1 =  2\n",
      "2 x 2 =  4\n",
      "2 x 3 =  6\n",
      "2 x 4 =  8\n",
      "2 x 5 = 10\n",
      "2 x 6 = 12\n",
      "2 x 7 = 14\n",
      "2 x 8 = 16\n",
      "2 x 9 = 18\n"
     ]
    }
   ],
   "source": [
    "gugu(2)"
   ]
  }
 ],
 "metadata": {
  "kernelspec": {
   "display_name": "Python 3",
   "language": "python",
   "name": "python3"
  },
  "language_info": {
   "codemirror_mode": {
    "name": "ipython",
    "version": 3
   },
   "file_extension": ".py",
   "mimetype": "text/x-python",
   "name": "python",
   "nbconvert_exporter": "python",
   "pygments_lexer": "ipython3",
   "version": "3.7.3"
  }
 },
 "nbformat": 4,
 "nbformat_minor": 2
}
