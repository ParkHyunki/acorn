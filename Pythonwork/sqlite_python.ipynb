{
 "cells": [
  {
   "cell_type": "code",
   "execution_count": 3,
   "metadata": {},
   "outputs": [],
   "source": [
    "import sqlite3"
   ]
  },
  {
   "cell_type": "code",
   "execution_count": 5,
   "metadata": {},
   "outputs": [
    {
     "name": "stdout",
     "output_type": "stream",
     "text": [
      "('A', '001-1001', '2341', 500000.0, '2014-01-20')\n",
      "('A', '001-1002', '2341', 500000.0, '2014-01-20')\n",
      "('A', '001-1003', '5467', 750000.0, '2014-01-20')\n",
      "('A', '001-1004', '5467', 750000.0, '2014-01-20')\n",
      "('B', '001-1005', '7009', 250000.0, '2018-01-30')\n",
      "('B', '001-1006', '7009', 250000.0, '2018-01-30')\n",
      "('B', '001-1007', '6650', 125000.0, '2017-02-03')\n",
      "('B', '001-1008', '6650', 125000.0, '2017-02-03')\n",
      "('C', '001-1009', '3321', 615000.0, '2017-02-03')\n",
      "('C', '001-1010', '3321', 615000.0, '2017-02-10')\n",
      "('C', '001-1011', '3321', 615000.0, '2017-02-17')\n",
      "('C', '001-1012', '3321', 615000.0, '2017-02-24')\n"
     ]
    }
   ],
   "source": [
    "conn = sqlite3.connect(\"data/sqlite_test.db\")\n",
    "cur = conn.cursor()\n",
    "\n",
    "sql = \"select * from suppliers\"\n",
    "cur.execute(sql)\n",
    "\n",
    "for row in cur:\n",
    "    print(row)\n",
    "\n",
    "conn.close()"
   ]
  },
  {
   "cell_type": "code",
   "execution_count": 12,
   "metadata": {},
   "outputs": [],
   "source": [
    "conn = sqlite3.connect(\"data/sqlite_test.db\")\n",
    "cur = conn.cursor()\n",
    "\n",
    "sql = \"create table supplier(suppliers_name varchar(20), cost float);\"\n",
    "cur.execute(sql)\n",
    "\n",
    "conn.commit\n",
    "\n",
    "conn.close()"
   ]
  },
  {
   "cell_type": "code",
   "execution_count": 15,
   "metadata": {},
   "outputs": [],
   "source": [
    "conn = sqlite3.connect(\"data/sqlite_test.db\")\n",
    "cur = conn.cursor()\n",
    "\n",
    "sql = \"insert into supplier values('hong', 5000);\"\n",
    "\n",
    "cur.execute(sql)\n",
    "\n",
    "conn.commit()\n",
    "conn.close()"
   ]
  },
  {
   "cell_type": "code",
   "execution_count": 17,
   "metadata": {},
   "outputs": [],
   "source": [
    "conn = sqlite3.connect(\"data/sqlite_test.db\")\n",
    "cur = conn.cursor()\n",
    "\n",
    "sql = \"delete from supplier\"\n",
    "\n",
    "cur.execute(sql)\n",
    "\n",
    "conn.commit()\n",
    "\n",
    "conn.close()"
   ]
  },
  {
   "cell_type": "code",
   "execution_count": 18,
   "metadata": {},
   "outputs": [],
   "source": [
    "conn = sqlite3.connect(\"data/sqlite_test.db\")\n",
    "cur = conn.cursor()\n",
    "\n",
    "sql = \"select * from supplier\"\n",
    "\n",
    "cur.execute(sql)\n",
    "\n",
    "for row in cur:\n",
    "    print(row)\n",
    "    \n",
    "conn.close()"
   ]
  },
  {
   "cell_type": "code",
   "execution_count": 19,
   "metadata": {},
   "outputs": [],
   "source": [
    "import csv"
   ]
  },
  {
   "cell_type": "code",
   "execution_count": 22,
   "metadata": {},
   "outputs": [
    {
     "name": "stdout",
     "output_type": "stream",
     "text": [
      "['Supplier Name', 'Invoice Number', 'Part Number', 'Cost', 'Purchase Date']\n"
     ]
    }
   ],
   "source": [
    "file = csv.reader(open(\"data/input.csv\", \"r\"))\n",
    "header = next(file)\n",
    "print(header)\n",
    "\n",
    "conn = sqlite3.connect(\"data/sqlite_test.db\")\n",
    "cur = conn.cursor()\n",
    "\n",
    "for row in file:\n",
    "    data = []\n",
    "    for col in range(len(header)):\n",
    "        data.append(row[col])\n",
    "    \n",
    "    cur.execute(\"insert into suppliers values(?, ?, ?, ?, ?)\", data)\n",
    "    \n",
    "conn.commit()\n",
    "    \n",
    "conn.close()"
   ]
  },
  {
   "cell_type": "code",
   "execution_count": 24,
   "metadata": {},
   "outputs": [
    {
     "name": "stdout",
     "output_type": "stream",
     "text": [
      "('A', '001-1001', '2341', 500000.0, '2014-01-20')\n",
      "('A', '001-1002', '2341', 500000.0, '2014-01-20')\n",
      "('A', '001-1003', '5467', 750000.0, '2014-01-20')\n",
      "('A', '001-1004', '5467', 750000.0, '2014-01-20')\n",
      "('B', '001-1005', '7009', 250000.0, '2018-01-30')\n",
      "('B', '001-1006', '7009', 250000.0, '2018-01-30')\n",
      "('B', '001-1007', '6650', 125000.0, '2017-02-03')\n",
      "('B', '001-1008', '6650', 125000.0, '2017-02-03')\n",
      "('C', '001-1009', '3321', 615000.0, '2017-02-03')\n",
      "('C', '001-1010', '3321', 615000.0, '2017-02-10')\n",
      "('C', '001-1011', '3321', 615000.0, '2017-02-17')\n",
      "('C', '001-1012', '3321', 615000.0, '2017-02-24')\n",
      "('A', '001-1001', '2341', 500000.0, '2014-01-20')\n",
      "('A', '001-1002', '2341', 500000.0, '2014-01-20')\n",
      "('A', '001-1003', '5467', 750000.0, '2014-01-20')\n",
      "('A', '001-1004', '5467', 750000.0, '2014-01-20')\n",
      "('B', '001-1005', '7009', 250000.0, '2018-01-30')\n",
      "('B', '001-1006', '7009', 250000.0, '2018-01-30')\n",
      "('B', '001-1007', '6650', 125000.0, '2017-02-03')\n",
      "('B', '001-1008', '6650', 125000.0, '2017-02-03')\n",
      "('C', '001-1009', '3321', 615000.0, '2017-02-03')\n",
      "('C', '001-1010', '3321', 615000.0, '2017-02-10')\n",
      "('C', '001-1011', '3321', 615000.0, '2017-02-17')\n",
      "('C', '001-1012', '3321', 615000.0, '2017-02-24')\n"
     ]
    }
   ],
   "source": [
    "conn = sqlite3.connect(\"data/sqlite_test.db\")\n",
    "cur = conn.cursor()\n",
    "\n",
    "cur.execute(\"delete from suppliers\")\n",
    "\n",
    "for row in cur:\n",
    "    print(row)\n",
    "\n",
    "conn.close()"
   ]
  },
  {
   "cell_type": "code",
   "execution_count": null,
   "metadata": {},
   "outputs": [],
   "source": []
  }
 ],
 "metadata": {
  "kernelspec": {
   "display_name": "Python 3",
   "language": "python",
   "name": "python3"
  },
  "language_info": {
   "codemirror_mode": {
    "name": "ipython",
    "version": 3
   },
   "file_extension": ".py",
   "mimetype": "text/x-python",
   "name": "python",
   "nbconvert_exporter": "python",
   "pygments_lexer": "ipython3",
   "version": "3.6.8"
  }
 },
 "nbformat": 4,
 "nbformat_minor": 2
}
