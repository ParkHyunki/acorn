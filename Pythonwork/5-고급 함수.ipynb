{
 "cells": [
  {
   "cell_type": "markdown",
   "metadata": {},
   "source": [
    "## 변수의 생존 범위(global, nonlocal)"
   ]
  },
  {
   "cell_type": "code",
   "execution_count": 17,
   "metadata": {},
   "outputs": [
    {
     "name": "stdout",
     "output_type": "stream",
     "text": [
      "전국대표\n",
      "홍길동 지역대표\n",
      "지역대표\n"
     ]
    }
   ],
   "source": [
    "# < global: 같은 변수명의 전역변수 호출하여 지역변수로 사용 >\n",
    "\n",
    "player = \"전국대표\"     # 전역 변수: 작업 공간 내 어디에서든지 사용 가능  ->  사용하기 편하나, 다른 곳에서 값 오염될 우려\n",
    "\n",
    "def funcSoccer():\n",
    "    global player     # 전역변수를 호출하여 지역변수로 사용\n",
    "    \n",
    "    name = \"홍길동\"\n",
    "    player = \"지역대표\"     # 지역 변수: 함수 내에서 사용(원래는 변수를 같은 이름으로 사용x)\n",
    "    print(name, player)\n",
    "    \n",
    "#########################\n",
    "\n",
    "print(player)\n",
    "funcSoccer()\n",
    "print(player)     # 함수 호출된 후 적용"
   ]
  },
  {
   "cell_type": "code",
   "execution_count": 13,
   "metadata": {},
   "outputs": [
    {
     "name": "stdout",
     "output_type": "stream",
     "text": [
      "mbc 함수 내부:  1 1\n",
      "kbs 함수 내부:  2\n"
     ]
    }
   ],
   "source": [
    "# < 함수 안의 함수(함수의 중첩): 외부 함수가 전용 함수이고, 외부와 내부 함수가 유사한 기능을 가질 때 사용 >\n",
    "\n",
    "a = 100\n",
    "\n",
    "def kbs():\n",
    "    a = 1\n",
    "    \n",
    "    def mbc():\n",
    "        \n",
    "        nonlocal a     # kbs() 내의 a를 호출하여 사용\n",
    "        #global a\n",
    "        b = 1\n",
    "        print(\"mbc 함수 내부: \", b, a)\n",
    "        a = 2\n",
    "    \n",
    "    mbc()     # kbs() 내에서 mbc() 호출 필요\n",
    "    print(\"kbs 함수 내부: \", a)\n",
    "    \n",
    "#########################\n",
    "\n",
    "kbs()     # kbs만 호출\n",
    "#mbc()     # Error: kbs() 내부에 있기 때문\n"
   ]
  },
  {
   "cell_type": "markdown",
   "metadata": {},
   "source": [
    "## 클로저(closure)\n",
    "\n",
    "    > 정의: 임의의 함수 안에서 선언된 지역변수를 함수 밖에서 계속 참조할 수 있게 하는 방법\n",
    "    \n",
    "    > 함수의 중첩에서 주로 사용"
   ]
  },
  {
   "cell_type": "code",
   "execution_count": 1,
   "metadata": {},
   "outputs": [
    {
     "name": "stdout",
     "output_type": "stream",
     "text": [
      "1\n",
      "1\n"
     ]
    }
   ],
   "source": [
    "def out():\n",
    "    count = 0\n",
    "    \n",
    "    def inn():     # 기능 끝나면 안의 값 초기화. \n",
    "        nonlocal count\n",
    "        count += 1\n",
    "        print(count)\n",
    "    \n",
    "    inn()\n",
    "\n",
    "#######################\n",
    "\n",
    "out()\n",
    "out()   "
   ]
  },
  {
   "cell_type": "code",
   "execution_count": 20,
   "metadata": {},
   "outputs": [
    {
     "name": "stdout",
     "output_type": "stream",
     "text": [
      "1\n",
      "2\n"
     ]
    }
   ],
   "source": [
    "count = 0     # 전역변수로 선언하면 값이 초기화되지 않고 계속 진행\n",
    "\n",
    "def out():\n",
    "    #count = 0\n",
    "    \n",
    "    def inn():     \n",
    "        global count\n",
    "        count += 1\n",
    "        print(count)\n",
    "    \n",
    "    inn()\n",
    "\n",
    "#######################\n",
    "\n",
    "out()\n",
    "out()   "
   ]
  },
  {
   "cell_type": "code",
   "execution_count": 28,
   "metadata": {},
   "outputs": [
    {
     "name": "stdout",
     "output_type": "stream",
     "text": [
      "1\n",
      "2\n",
      "3\n",
      "********************\n",
      "1\n",
      "2\n",
      "3\n"
     ]
    }
   ],
   "source": [
    "def out():\n",
    "    count = 0\n",
    "    \n",
    "    def inn():     \n",
    "        nonlocal count\n",
    "        count += 1\n",
    "        print(count)\n",
    "    \n",
    "    inn()\n",
    "    return inn     # inn 주소값을 갖고 출력\n",
    "\n",
    "#######################\n",
    "\n",
    "a = out()   # 메모리 부여\n",
    "a() \n",
    "a()\n",
    "print(\"*\" * 20)\n",
    "b = out()\n",
    "b()\n",
    "b()"
   ]
  },
  {
   "cell_type": "code",
   "execution_count": 42,
   "metadata": {},
   "outputs": [
    {
     "name": "stdout",
     "output_type": "stream",
     "text": [
      "세금 계산 프로그램\n",
      "2500.0\n",
      "3600.0\n",
      "10020.0\n"
     ]
    }
   ],
   "source": [
    "print(\"세금 계산 프로그램\")\n",
    "\n",
    "def outer(tax):     # 외부에서 값을 받는다(세금 비율)\n",
    "    def inner(su, dan):     # 내부에서 계산(수량, 단가)\n",
    "        amount = su * dan * tax\n",
    "        return amount\n",
    "    return inner     # outer에게 inner 함수 주소 리턴\n",
    "\n",
    "#########################\n",
    "\n",
    "tax_rate = outer(0.1)     # tax_rate = inner 주소값 (세금 비율 0.1은 계속 갖고 작업 가능)\n",
    "mouse = tax_rate(5, 5000)     # inner 주소값에 (5, 5000) 값 전달\n",
    "print(mouse)\n",
    "\n",
    "com = tax_rate(3, 12000)     # 세금 비율 0.1로 계속 작업\n",
    "print(com)\n",
    "\n",
    "tax_rate1 = outer(0.05)\n",
    "pen = tax_rate1(2, 100200)\n",
    "print(pen)"
   ]
  },
  {
   "cell_type": "code",
   "execution_count": 44,
   "metadata": {},
   "outputs": [
    {
     "name": "stdout",
     "output_type": "stream",
     "text": [
      "50000.0\n"
     ]
    }
   ],
   "source": [
    "def outer(tax, su, dan):     # 매번 tax, su, dan 입력해야 한다\n",
    "    amount = su * dan * tax\n",
    "    print(amount)\n",
    "    \n",
    "outer(0.1, 5, 100000)       "
   ]
  },
  {
   "cell_type": "code",
   "execution_count": 5,
   "metadata": {},
   "outputs": [
    {
     "name": "stdout",
     "output_type": "stream",
     "text": [
      "502\n"
     ]
    }
   ],
   "source": [
    "def outer(tax):\n",
    "    def inner(n1, n2):\n",
    "        result = n1 + n2\n",
    "        return result\n",
    "    return inner\n",
    "\n",
    "tax_rate = outer(0.1)\n",
    "pen = tax_rate(2, 500)\n",
    "print(pen)"
   ]
  },
  {
   "cell_type": "markdown",
   "metadata": {},
   "source": [
    "## 람다 함수(익명 함수, 축약 함수)\n",
    "\n",
    "    > 일회용 함수: 한 번 사용하고 소멸되는 함수(재호출x)"
   ]
  },
  {
   "cell_type": "code",
   "execution_count": 47,
   "metadata": {},
   "outputs": [
    {
     "name": "stdout",
     "output_type": "stream",
     "text": [
      "5\n"
     ]
    }
   ],
   "source": [
    "def plus(x, y):     # 매개변수 2개 받는다\n",
    "    return x + y\n",
    "\n",
    "################\n",
    "\n",
    "result = plus(2, 3)     # return 값 받아야 하기 때문에 변수 지정\n",
    "print(result)"
   ]
  },
  {
   "cell_type": "code",
   "execution_count": 1,
   "metadata": {},
   "outputs": [
    {
     "name": "stdout",
     "output_type": "stream",
     "text": [
      "5\n",
      "6\n",
      "14\n",
      "3.0\n"
     ]
    }
   ],
   "source": [
    "# 위 예제 축약하여 표현(일회용 사용인데 굳이 메모리 공간 찾이할 필요x)\n",
    "\n",
    "print((lambda x, y : x + y)(2, 3))     # (두 개의 매개변수를 받아 결과값을 리턴하겠다)(실인자)\n",
    "\n",
    "a = (lambda x, y : x + y)(1, 5)     # 변수로 치환1\n",
    "print(a)\n",
    "\n",
    "plus = (lambda x, y : x + y)     # 변수로 치환2\n",
    "print(plus(5, 9))\n",
    "\n",
    "print((lambda x, y : x / y)(6, 2))"
   ]
  },
  {
   "cell_type": "code",
   "execution_count": 57,
   "metadata": {},
   "outputs": [
    {
     "name": "stdout",
     "output_type": "stream",
     "text": [
      "15\n",
      "6\n"
     ]
    }
   ],
   "source": [
    "plus = (lambda x, y=10 : x + y)\n",
    "print(plus(5))\n",
    "print(plus(5, 1))"
   ]
  },
  {
   "cell_type": "code",
   "execution_count": 60,
   "metadata": {},
   "outputs": [
    {
     "name": "stdout",
     "output_type": "stream",
     "text": [
      "1 (2, 3, 4, 5, 7) {'q': 8, 'p': 10}\n"
     ]
    }
   ],
   "source": [
    "lam = (lambda a, *b, **c : print(a, b, c))     # b = list, c = dict\n",
    "lam(1, 2, 3, 4, 5, 7, q=8, p=10)"
   ]
  },
  {
   "cell_type": "code",
   "execution_count": 3,
   "metadata": {},
   "outputs": [
    {
     "name": "stdout",
     "output_type": "stream",
     "text": [
      "<class 'filter'>\n",
      "[2, 4, 6, 8]\n",
      "[0, 2, 4, 6, 8]\n",
      "[1, 3, 5, 7, 9]\n",
      "[0, 2, 4, 6, 8, 10, 12, 14, 16, 18]\n"
     ]
    }
   ],
   "source": [
    "# filter(함수 주소, 집합형 자료형(iterable)): 자료 개수만큼 함수 호출하여 반복 후 값을 걸러낸다\n",
    "\n",
    "def func(a):     # 짝수만 선별하는 함수\n",
    "    if a % 2 == 0:\n",
    "        return a     # '0'을 처리하는 방법이 filter와 def가 다르다(return a를 문자로 표현하면 def에서도 0 표시)\n",
    "    else:\n",
    "        None\n",
    "    \n",
    "#####################\n",
    "\n",
    "result = filter(func, range(10))     # 0~9까지의 data를 func 함수에서 호출. result = 값 저장하는 변수\n",
    "print(type(result))     # result = filter type = 값 저장하고 있는 주소\n",
    "print(list(result))     # 리스트 type으로 변환 필요\n",
    "\n",
    "print(list(filter(lambda a : a % 2 == 0, range(10))))\n",
    "print(list(filter(lambda a : a % 2, range(10))))     # 홀수값만: 숫자상 0은 거짓, 1은 참. a를 2로 나누었을 때 참(1)인 것만 호출 \n",
    "\n",
    "print(list(filter(lambda i : i % 2 == 0, range(20))))"
   ]
  },
  {
   "cell_type": "code",
   "execution_count": 72,
   "metadata": {},
   "outputs": [
    {
     "data": {
      "text/plain": [
       "[1, 3, 5, 7, 9]"
      ]
     },
     "execution_count": 72,
     "metadata": {},
     "output_type": "execute_result"
    }
   ],
   "source": [
    "# generater\n",
    "\n",
    "[i for i in range(10)]     # list 안에 반복문을 넣어 자동으로 값이 들어갈 수 있도록\n",
    "[i for i in range(10) if i % 2]     # 조건에 따라 반복"
   ]
  },
  {
   "cell_type": "code",
   "execution_count": null,
   "metadata": {},
   "outputs": [],
   "source": []
  },
  {
   "cell_type": "code",
   "execution_count": null,
   "metadata": {},
   "outputs": [],
   "source": []
  },
  {
   "cell_type": "code",
   "execution_count": null,
   "metadata": {},
   "outputs": [],
   "source": []
  },
  {
   "cell_type": "code",
   "execution_count": null,
   "metadata": {},
   "outputs": [],
   "source": []
  },
  {
   "cell_type": "code",
   "execution_count": null,
   "metadata": {},
   "outputs": [],
   "source": []
  },
  {
   "cell_type": "code",
   "execution_count": null,
   "metadata": {},
   "outputs": [],
   "source": []
  },
  {
   "cell_type": "code",
   "execution_count": null,
   "metadata": {},
   "outputs": [],
   "source": []
  },
  {
   "cell_type": "code",
   "execution_count": null,
   "metadata": {},
   "outputs": [],
   "source": []
  },
  {
   "cell_type": "code",
   "execution_count": null,
   "metadata": {},
   "outputs": [],
   "source": []
  },
  {
   "cell_type": "code",
   "execution_count": null,
   "metadata": {},
   "outputs": [],
   "source": []
  },
  {
   "cell_type": "code",
   "execution_count": null,
   "metadata": {},
   "outputs": [],
   "source": []
  },
  {
   "cell_type": "code",
   "execution_count": null,
   "metadata": {},
   "outputs": [],
   "source": []
  },
  {
   "cell_type": "code",
   "execution_count": null,
   "metadata": {},
   "outputs": [],
   "source": []
  },
  {
   "cell_type": "code",
   "execution_count": null,
   "metadata": {},
   "outputs": [],
   "source": []
  },
  {
   "cell_type": "code",
   "execution_count": null,
   "metadata": {},
   "outputs": [],
   "source": []
  },
  {
   "cell_type": "code",
   "execution_count": null,
   "metadata": {},
   "outputs": [],
   "source": []
  },
  {
   "cell_type": "code",
   "execution_count": null,
   "metadata": {},
   "outputs": [],
   "source": []
  },
  {
   "cell_type": "code",
   "execution_count": null,
   "metadata": {},
   "outputs": [],
   "source": []
  },
  {
   "cell_type": "code",
   "execution_count": null,
   "metadata": {},
   "outputs": [],
   "source": []
  },
  {
   "cell_type": "code",
   "execution_count": null,
   "metadata": {},
   "outputs": [],
   "source": []
  },
  {
   "cell_type": "code",
   "execution_count": null,
   "metadata": {},
   "outputs": [],
   "source": []
  },
  {
   "cell_type": "code",
   "execution_count": null,
   "metadata": {},
   "outputs": [],
   "source": []
  },
  {
   "cell_type": "code",
   "execution_count": null,
   "metadata": {},
   "outputs": [],
   "source": []
  },
  {
   "cell_type": "code",
   "execution_count": null,
   "metadata": {},
   "outputs": [],
   "source": []
  },
  {
   "cell_type": "code",
   "execution_count": null,
   "metadata": {},
   "outputs": [],
   "source": []
  },
  {
   "cell_type": "code",
   "execution_count": null,
   "metadata": {},
   "outputs": [],
   "source": []
  },
  {
   "cell_type": "code",
   "execution_count": null,
   "metadata": {},
   "outputs": [],
   "source": []
  },
  {
   "cell_type": "code",
   "execution_count": null,
   "metadata": {},
   "outputs": [],
   "source": []
  },
  {
   "cell_type": "code",
   "execution_count": null,
   "metadata": {},
   "outputs": [],
   "source": []
  },
  {
   "cell_type": "code",
   "execution_count": null,
   "metadata": {},
   "outputs": [],
   "source": []
  },
  {
   "cell_type": "code",
   "execution_count": null,
   "metadata": {},
   "outputs": [],
   "source": []
  },
  {
   "cell_type": "code",
   "execution_count": null,
   "metadata": {},
   "outputs": [],
   "source": []
  },
  {
   "cell_type": "code",
   "execution_count": null,
   "metadata": {},
   "outputs": [],
   "source": []
  },
  {
   "cell_type": "code",
   "execution_count": null,
   "metadata": {},
   "outputs": [],
   "source": []
  },
  {
   "cell_type": "code",
   "execution_count": null,
   "metadata": {},
   "outputs": [],
   "source": []
  },
  {
   "cell_type": "code",
   "execution_count": null,
   "metadata": {},
   "outputs": [],
   "source": []
  },
  {
   "cell_type": "code",
   "execution_count": null,
   "metadata": {},
   "outputs": [],
   "source": []
  },
  {
   "cell_type": "code",
   "execution_count": null,
   "metadata": {},
   "outputs": [],
   "source": []
  },
  {
   "cell_type": "code",
   "execution_count": null,
   "metadata": {},
   "outputs": [],
   "source": []
  },
  {
   "cell_type": "code",
   "execution_count": null,
   "metadata": {},
   "outputs": [],
   "source": []
  }
 ],
 "metadata": {
  "kernelspec": {
   "display_name": "Python 3",
   "language": "python",
   "name": "python3"
  },
  "language_info": {
   "codemirror_mode": {
    "name": "ipython",
    "version": 3
   },
   "file_extension": ".py",
   "mimetype": "text/x-python",
   "name": "python",
   "nbconvert_exporter": "python",
   "pygments_lexer": "ipython3",
   "version": "3.7.3"
  }
 },
 "nbformat": 4,
 "nbformat_minor": 2
}
