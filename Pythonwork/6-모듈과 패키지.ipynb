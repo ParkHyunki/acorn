{
 "cells": [
  {
   "cell_type": "markdown",
   "metadata": {},
   "source": [
    "# 모듈\n",
    "\n",
    "+ 정의: 함수나 변수 또는 클래스들을 모아놓은 파일(.py)\n",
    "    \n",
    "+ 비슷하거나 관련된 일을 하는 함수나 상수값들을 모아서 하나의 파일에 저장 / 추후 재사용하기 위한 목적\n",
    "\n",
    "+ 종류:\n",
    "    - 표준 모듈\n",
    "    - 사용자 정의 모듈\n",
    "    - 서드 파티 모듈: 제 3자가 만들어서 배포한 모듈\n",
    "        \n",
    "+ 선언 방법:\n",
    "    - import 모듈\n",
    "    - import 모듈 as 별칭\n",
    "    - from 모듈 import 필요 변수/함수/클래스\n",
    "    - from 모듈 import *  (__ 제외)\n",
    "    - from 모듈 import 이름 as 별칭\n",
    "    \n",
    "+ 참조\n",
    "    - 같은 경로\n",
    "    - sys 모듈의 path 이용하여 경로 등록  (프로그램 실행 중일 때만 사용 가능한 일시적인 방법) -> 다른 프로젝트의 모듈 가져올 때\n",
    "            import sys\n",
    "            sys.path.append(\"경로\")  -> 불러옴\n",
    "            sys.path.remove(\"경로\")  -> 삭제(sys 모듈 path가 휘발성이라 잘 안 쓰임)\n",
    "    - 기존 path에 복사(주로 site-packages 에 복사)\n",
    "    - 제어판 환경변수 이용하여 경로 등록  (설정 영구히 적용)\n",
    "\n",
    "\n",
    "# 패키지\n",
    "\n",
    "+ 정의: 여러 모듈들을 관리할 수 있는 폴더(모듈들을 모아놓은 폴더)     cf> 패키지의 집합: 라이브러리\n",
    "    \n",
    "\n",
    "# __main__\n",
    "\n",
    "+ 현재 실행 파일인지 불러다 놓은 파일인지 확인\n",
    "\n"
   ]
  },
  {
   "cell_type": "code",
   "execution_count": 4,
   "metadata": {},
   "outputs": [
    {
     "name": "stdout",
     "output_type": "stream",
     "text": [
      "This is site-packages/mymodule1/mymod3.py\n"
     ]
    }
   ],
   "source": [
    "import mymodule1.mymod3 as my3\n",
    "print(my3.contents)"
   ]
  },
  {
   "cell_type": "code",
   "execution_count": 1,
   "metadata": {},
   "outputs": [
    {
     "name": "stdout",
     "output_type": "stream",
     "text": [
      "이것은 환경변수를 이용한 방법이다\n"
     ]
    }
   ],
   "source": [
    "import mymod4 as my\n",
    "my.test()"
   ]
  },
  {
   "cell_type": "code",
   "execution_count": 9,
   "metadata": {},
   "outputs": [
    {
     "name": "stdout",
     "output_type": "stream",
     "text": [
      "__main__\n"
     ]
    }
   ],
   "source": [
    "print(__name__)     # 현재 내가 사용하고 있는 객체 공간에서 __name__ 객체 출력\n"
   ]
  },
  {
   "cell_type": "code",
   "execution_count": null,
   "metadata": {},
   "outputs": [],
   "source": []
  },
  {
   "cell_type": "code",
   "execution_count": 1,
   "metadata": {},
   "outputs": [
    {
     "name": "stdout",
     "output_type": "stream",
     "text": [
      "This is site-packages/mymodule1/mymod3.py\n"
     ]
    }
   ],
   "source": [
    "import mymodule1.mymod3 as my3\n",
    "print(my3.contents)"
   ]
  },
  {
   "cell_type": "code",
   "execution_count": 2,
   "metadata": {},
   "outputs": [
    {
     "name": "stdout",
     "output_type": "stream",
     "text": [
      "이것은 환경변수를 이용한 방법이다\n"
     ]
    }
   ],
   "source": [
    "import mymod4 as my\n",
    "my.test()"
   ]
  },
  {
   "cell_type": "code",
   "execution_count": null,
   "metadata": {},
   "outputs": [],
   "source": []
  },
  {
   "cell_type": "code",
   "execution_count": null,
   "metadata": {},
   "outputs": [],
   "source": []
  },
  {
   "cell_type": "code",
   "execution_count": null,
   "metadata": {},
   "outputs": [],
   "source": []
  },
  {
   "cell_type": "code",
   "execution_count": null,
   "metadata": {},
   "outputs": [],
   "source": []
  },
  {
   "cell_type": "code",
   "execution_count": null,
   "metadata": {},
   "outputs": [],
   "source": []
  },
  {
   "cell_type": "code",
   "execution_count": null,
   "metadata": {},
   "outputs": [],
   "source": []
  },
  {
   "cell_type": "code",
   "execution_count": null,
   "metadata": {},
   "outputs": [],
   "source": []
  },
  {
   "cell_type": "code",
   "execution_count": null,
   "metadata": {},
   "outputs": [],
   "source": []
  }
 ],
 "metadata": {
  "kernelspec": {
   "display_name": "Python 3",
   "language": "python",
   "name": "python3"
  },
  "language_info": {
   "codemirror_mode": {
    "name": "ipython",
    "version": 3
   },
   "file_extension": ".py",
   "mimetype": "text/x-python",
   "name": "python",
   "nbconvert_exporter": "python",
   "pygments_lexer": "ipython3",
   "version": "3.7.3"
  }
 },
 "nbformat": 4,
 "nbformat_minor": 2
}
