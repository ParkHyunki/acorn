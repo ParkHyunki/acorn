{
 "cells": [
  {
   "cell_type": "markdown",
   "metadata": {},
   "source": [
    "# 1. 함수의 정의: 일정한 작업을 수행하는 코드 블럭(모듈화의 최소 단위)\n",
    "\n",
    "# 2. 함수의 장점\n",
    "\n",
    "    - 반복적인 코드 없애주어 코드 길이 짧게 만들어 준다\n",
    "    - 프로그램 유지 보수 쉽게 만들어 준다(module의 함수화)\n",
    "    \n",
    "# 3. 함수의 제작\n",
    "\n",
    "    def 함수이름(...):\n",
    "        기능 정의\n",
    "        ...\n",
    "        [return...]     #생략 가능\n",
    "        \n",
    "# 4. 함수의 호출 방식\n",
    "\n",
    "    - 인자(인수)가 없는 방식(jump)\n",
    "    - 인자가 있는 방식(jump): jump할 때 값 부여 필요(매칭. 함수와 같은 모양으로 jump)\n",
    "    - 반환값의 여부(return): return\n",
    "                            - 함수에서 처리된 값 반환\n",
    "                            - 함수를 강제 종료(메인 프로그램으로 리턴시킴)\n",
    "                            \n",
    "# 5. 함수의 종류\n",
    "    \n",
    "    - 사용자 정의 함수\n",
    "    - 내장 함수(built-in)\n",
    "        - 외장 함수: Python에 내장되어 있으나 별도의 선언이나 설치 필요\n",
    "        \n",
    "# 6. 함수 설계시 고려\n",
    "\n",
    "    - 재사용성: 다른 프로그램에서도 사용 가능(보통 별도의 파일로 만들어 계속 사용 - 모듈화)\n",
    "    - 단일 기능: 유지보수 위함"
   ]
  },
  {
   "cell_type": "code",
   "execution_count": null,
   "metadata": {},
   "outputs": [],
   "source": [
    "def line(size, style):                        # 인자가 있는 방식 (size-매개변수)\n",
    "#    pass                              # 아직 코드 작성하지 않음\n",
    "#    print(\"*\" * 30)                   # python 반복\n",
    "    for v in range(size):                # 반복문 사용\n",
    "        print(style, end = \"\")\n",
    "    print()\n",
    "    return (\"아닐ㄹ야\", size)                      # 반환 변수(python 특징: 반환변수 여러개 return 가능)\n",
    "\n",
    "#####################################\n",
    "                            # val = 로 반환 변수 지정\n",
    "val1, val2 = line(30, \"*\")       #(실인자 argument) 함수의 호출: 메인 프로그램 수행하다가 함수가 기록된 메모리로 jump하여 수행 후 다시 메인으로 return\n",
    "print(\"반환된 값 : \", val1, val2)\n",
    "print(\"      채팅 프로그램\")\n",
    "line(27, \"-\")\n",
    "print(\"1. 방 만들기\")\n",
    "print(\"2. 나가기\", val2)\n",
    "line(5, \"=*\")"
   ]
  },
  {
   "cell_type": "code",
   "execution_count": null,
   "metadata": {},
   "outputs": [],
   "source": [
    "def line(size, style):\n",
    "    for v in range(size):\n",
    "        print(style, end = \"\")\n",
    "    print()\n",
    "    return(size, style)\n",
    "\n",
    "var1, var2 = line(27, \"-\")\n",
    "print(\"반환값: \", var1, var2)"
   ]
  },
  {
   "cell_type": "code",
   "execution_count": null,
   "metadata": {},
   "outputs": [],
   "source": [
    "def swap(num1, num2):\n",
    "    num3 = num1\n",
    "    num1 = num2\n",
    "    num2 = num3\n",
    "    return num1, num2                    # 메인에 넘겨줄 수 있도록 return 설정\n",
    "\n",
    "#################################\n",
    "\n",
    "num1 = int(input(\"첫번째 수: \"))\n",
    "num2 = int(input(\"두번째 수: \"))\n",
    "\n",
    "print(\"두 수의 교환\")\n",
    "n1, n2 = swap(num1, num2)                # 넘겨받기 위한 변수 부여\n",
    "print(\"결과 : \", n1, n2)\n",
    "\n",
    "\n"
   ]
  },
  {
   "cell_type": "markdown",
   "metadata": {},
   "source": [
    "------------------------\n",
    "## 파이썬에서 함수를 지원하기 위한 문법"
   ]
  },
  {
   "cell_type": "code",
   "execution_count": null,
   "metadata": {},
   "outputs": [],
   "source": [
    "# 변수의 유효(생존) 범위: 전역 변수(아무데서나 사용 가능) / 지역 변수(다른 곳에서는 사용 불가능)\n",
    "\n",
    "player = \"전국 대표\"                   \n",
    "\n",
    "def funcSoccer():\n",
    "    global player                      # 전역 변수를 내가 원하는 위치에서 계속 사용\n",
    "    \n",
    "    name = \"홍길동\"\n",
    "    player = \"지역 대표\"               # 함수 안에서만 쓰이는 지역 변수\n",
    "    print(name, player)\n",
    "    \n",
    "#######################\n",
    "\n",
    "print(player)\n",
    "funcSoccer()\n",
    "print(player)                          # global 선언한 전국 변수를 함수 실행 후 지역 변수로 변환\n",
    "#print(name)                            # 지역 변수이기 때문에 함수 안에서만 사용 가능"
   ]
  },
  {
   "cell_type": "code",
   "execution_count": null,
   "metadata": {},
   "outputs": [],
   "source": [
    "# default 인수\n",
    "\n",
    "def line(size = 30):                     # 값을 넣지 않아 매칭이 되지 않더라도 사용 가능\n",
    "    for v in range(size):               \n",
    "        print(\"*\", end = \"\")\n",
    "    print()\n",
    "\n",
    "def hello(name = None):\n",
    "    if name == None:\n",
    "        print(\"이름을 입력하세요 : hello(이름)\")\n",
    "        return\n",
    "    \n",
    "    print(\"안녕하세요\", name)\n",
    "\n",
    "def hello2(age = 30, name = None):           # 뒤에서부터 매개변수 채워야 함\n",
    "        print(\"안녕하세요 %s님! 당신의 나이는 %d세 입니다\" % (name, age))\n",
    "        print(\"안녕하세요, {0}님! 당신의 나이는 {1}세 입니다\" .format(name, age))\n",
    "    \n",
    "#######################\n",
    "\n",
    "line(5)\n",
    "line()                                   # 값을 넣지 않아 매칭이 되지 않더라도 사용 가능\n",
    "\n",
    "hello()\n",
    "hello2(name = \"홍길동\", age = 30)        # 변수명까지 넣을 경우 위치 순서 지키지 않아도 상관 x "
   ]
  },
  {
   "cell_type": "code",
   "execution_count": null,
   "metadata": {},
   "outputs": [],
   "source": [
    "# 가변 인수: 인자의 변수 개수가 정해져 있지 않을 때\n",
    "\n",
    "def greeting(*name):             #data 개수와 상관 없이 받을 수 있음: list/tuple 형식으로 전환하여 받음\n",
    "    print(name)\n",
    "    print(type(name))            # tuple 자료형으로 묶임\n",
    "\n",
    "def greeting2(weight = 0, height = 0, *name):           # 뒤에서 가변 인수 주는 것이 좋다        # default 의미 없음\n",
    "    print(weight, height, name)\n",
    "\n",
    "# def greeting3(*name, *age):                         # 하나만 사용 가능\n",
    "#     print(name, age)\n",
    "    \n",
    "##########################\n",
    "\n",
    "greeting((\"홍길동\", \"임꺽정\", \"장길산\"))       # 묶어서 넘겨야 한다\n",
    "greeting([\"gkdsjfl\"])\n",
    "\n",
    "greeting2(85, 180, \"홍길동\", \"너르\")\n",
    "\n",
    "# greeting3([\"거낭\", \"야르\"], [89, 123])"
   ]
  },
  {
   "cell_type": "code",
   "execution_count": null,
   "metadata": {},
   "outputs": [],
   "source": [
    "def info(weight, height, **other):                    # dict 자료형\n",
    "    print(\"몸무게: \", weight, \"키: \", height)\n",
    "    print(\"기타: \", other)\n",
    "######################\n",
    "info(50, 160, name = \"홍길동\", age = 87, add = \"강남\")\n",
    "info(height = 180, weight = 10, name = \"아리\")"
   ]
  },
  {
   "cell_type": "markdown",
   "metadata": {},
   "source": [
    "-------------\n",
    "# 내장 함수"
   ]
  },
  {
   "cell_type": "code",
   "execution_count": null,
   "metadata": {},
   "outputs": [],
   "source": [
    "#-----------------------\n",
    "# 값의 여부에 따라 참/거짓 구분\n",
    "# all(): 모두가 참일 때 참(and)\n",
    "# any(): 하나만 참이어도 참(or)\n",
    "#-----------------------\n",
    "print(all([1, 2, 8, -5, 6]))\n",
    "print(all([1, 2, 0, -5, 6]))                 #-> 0, \"\", None 은 False으로 처리\n",
    "\n",
    "print(any([1, 2, 0, -5, 6]))                 #-> 하나만 참이어도 True\n",
    "print(any([0, \"\", None]))"
   ]
  },
  {
   "cell_type": "code",
   "execution_count": null,
   "metadata": {},
   "outputs": [],
   "source": [
    "#-----------------------\n",
    "# enumerate(iterator: data 나열): 순서가 있는 자료형을 입력받아 index 값 포함하여 return\n",
    "#-----------------------\n",
    "for i, data in enumerate([\"홍길동\", 54, 321, \"andkf\"], start = 10):\n",
    "    print(i, data)"
   ]
  },
  {
   "cell_type": "code",
   "execution_count": null,
   "metadata": {},
   "outputs": [],
   "source": [
    "#-----------------------\n",
    "# eval(expression: 일반 코드): 표현식을 파이썬에서 실행 가능하게 만들어주는 역할\n",
    "#-----------------------\n",
    "print(\"3 + 4\")\n",
    "print(eval(\"3 + 4\"))\n",
    "print(eval(\"3\") + eval(\"4\"))             #-> int() = 숫자로 변환. eval() = 계산 가능하도록 변환(포괄적)\n",
    "print()\n",
    "\n",
    "expr = input(\"수식 입력: \")\n",
    "print(expr)\n",
    "\n",
    "expr = input(\"수식 입력: \")\n",
    "print(eval(expr))\n",
    "print()\n",
    "\n",
    "print(\"divmod(9, 4)\")\n",
    "print(eval(\"divmod(9, 4)\"))                      #-> 몫과 나머지 한꺼번에 구함"
   ]
  },
  {
   "cell_type": "code",
   "execution_count": 1,
   "metadata": {},
   "outputs": [
    {
     "name": "stdout",
     "output_type": "stream",
     "text": [
      "20\n",
      "[20, 40, 60, 80]\n",
      "[20, 40, 60, 80]\n"
     ]
    }
   ],
   "source": [
    "#-----------------------\n",
    "# map(function, iterable): 집합의 각 요소가 함수에 의해 수행된 결과를 묶어서 리턴\n",
    "#-----------------------\n",
    "\n",
    "def calc(x):\n",
    "    return x * 2\n",
    "\n",
    "a = calc(10)\n",
    "print(a)\n",
    "\n",
    "b = []\n",
    "for n in [10, 20, 30, 40]:\n",
    "    a = calc(n)\n",
    "    b.append(a)\n",
    "print(b)\n",
    "\n",
    "print(list(map(calc, [10, 20, 30, 40])))              #-> map(함수의 주소(함수 직접 호출x), data): 함수를 자동으로 대신 호출해주는 함수\n"
   ]
  },
  {
   "cell_type": "code",
   "execution_count": null,
   "metadata": {},
   "outputs": [],
   "source": [
    "def calc(x):\n",
    "    return x *2\n",
    "\n",
    "print(list(map(calc, [10, 20, 30])))"
   ]
  },
  {
   "cell_type": "code",
   "execution_count": 2,
   "metadata": {},
   "outputs": [
    {
     "name": "stdout",
     "output_type": "stream",
     "text": [
      "[(1, 4, 7), (2, 5, 8), (3, 6, 9)]\n"
     ]
    }
   ],
   "source": [
    "#-----------------------\n",
    "# zip(iterable): 동일한 개수로 이루어진 자료형을 묶어주는 역할\n",
    "#-----------------------\n",
    "list1 = [1, 2, 3]\n",
    "list2 = [4, 5, 6]\n",
    "list3 = [7, 8, 9, 10]\n",
    "\n",
    "print(list(zip(list1, list2, list3)))"
   ]
  },
  {
   "cell_type": "code",
   "execution_count": null,
   "metadata": {},
   "outputs": [],
   "source": [
    "# 함수 설계: 다른 프로그램에서도 재사용 가능. 단일 기능"
   ]
  },
  {
   "cell_type": "code",
   "execution_count": null,
   "metadata": {},
   "outputs": [],
   "source": [
    "'''\n",
    "order(\"large\", \"더블 크러스트\")로 호출했을 경우 결과는 다음과 같다\n",
    "------------------------------------------------------------------\n",
    "large size 피자를 주문하셨습니다\n",
    "토핑: 더블 크러스트\n",
    "\n",
    "order(\"medium\", \"파인애플\", \"버섯\", \"토마토\")로 호출했을 경우 결과는 다음과 같다\n",
    "--------------------------------------------------------------------------------\n",
    "medium size 피자를 주문하셨습니다\n",
    "토핑: 파인애플, 버섯, 토마토\n",
    "\n",
    "'''\n",
    "\n",
    "def order(size, *toping):\n",
    "    print(\"%s 사이즈 피자를 주문하셨습니다\" % size)\n",
    "    print(\"토핑 : %s\" % toping)\n",
    "    \n",
    "order(\"large\", \"더블 크러스트\")\n",
    "order(\"medium\", [\"파인애플\", \"버섯\", \"토마토\"])"
   ]
  },
  {
   "cell_type": "markdown",
   "metadata": {},
   "source": [
    "------------------\n",
    "## 외장 함수"
   ]
  },
  {
   "cell_type": "code",
   "execution_count": null,
   "metadata": {},
   "outputs": [],
   "source": [
    "import random                               # Python에 기본으로 설치되어 있지 않기 때문에 import 통해 random.py 불러옴\n",
    "print(random.random())                      # [0, 1] 에서 임의로 추출"
   ]
  },
  {
   "cell_type": "code",
   "execution_count": null,
   "metadata": {},
   "outputs": [],
   "source": [
    "import mymodule                             # 별도의 파일\n",
    "result = mymodule.sum(10, 20)               # mymodule에 저장한 sum 함수 불러와 리턴\n",
    "print(result)\n",
    "\n",
    "import mymodule\n",
    "print(mymodule.sum(10, 20))\n",
    "\n",
    "dir(mymodule)"
   ]
  },
  {
   "cell_type": "code",
   "execution_count": null,
   "metadata": {},
   "outputs": [],
   "source": [
    "import mymodule\n",
    "mymodule.info(45, 160, name = \"홍길동\", add = \"dsfjlsd\")"
   ]
  },
  {
   "cell_type": "code",
   "execution_count": null,
   "metadata": {},
   "outputs": [],
   "source": [
    "import mymodule                             \n",
    "print(mymodule.edu)                         # 변수 불러옴"
   ]
  },
  {
   "cell_type": "code",
   "execution_count": null,
   "metadata": {},
   "outputs": [],
   "source": [
    "import sys\n",
    "print(sys.path)                # path에 걸려있는 것 불러옴\n",
    "# sys.exit()                     # 프로그램 종료\n",
    "# dir(sys)\n",
    "print(sys.platform)            # 운영체제\n",
    "print(sys.version)             # 현재 Python 버전"
   ]
  },
  {
   "cell_type": "code",
   "execution_count": null,
   "metadata": {},
   "outputs": [],
   "source": [
    "import math                        # 수학적 도움\n",
    "print(dir(math))\n",
    "print(math.pi)"
   ]
  },
  {
   "cell_type": "code",
   "execution_count": null,
   "metadata": {},
   "outputs": [],
   "source": [
    "import os                  # 운영체제 환경 도움\n",
    "print(os.getcwd())      # 현재 작업 위치 확인"
   ]
  },
  {
   "cell_type": "markdown",
   "metadata": {},
   "source": [
    "----------------\n",
    "## 날짜형 함수"
   ]
  },
  {
   "cell_type": "code",
   "execution_count": null,
   "metadata": {},
   "outputs": [],
   "source": [
    "import datetime\n",
    "\n",
    "# 현재 날짜\n",
    "today = datetime.date.today()                                     # datetime 파일의 data 클래스(함수의 집합) 내 today 함수\n",
    "print(today, \", \", today.year, \", \", today.month, \", \", today.day)\n",
    "\n",
    "# 현재 시간\n",
    "ctime = datetime.datetime.today()                                  # datetime 파일의 datetime 클래스 내 today 함수\n",
    "print(ctime)\n",
    "\n",
    "# 날짜와 시간 계산 가능\n",
    "myday = datetime.timedelta(days = -1)                             # timedelta 클래스: 날짜 계산 가능 -> 하루 전으로 계산\n",
    "print(myday)\n",
    "print(\"어제: {}\" .format(today + myday))\n",
    "\n",
    "myhours = datetime.timedelta(hours = -8)\n",
    "print(\"8시간 전: {}\" .format(ctime + myhours))                     # 현재로부터 8시간 전\n",
    "\n",
    "# 날짜 형식\n",
    "print(\"%s\" %(today.strftime(\"%B / %d / %y\")))                 # strftime(): 현재 날짜를 문자형으로 전환하는 함수(%? 형식 정해져 있으므로 documnet 참고)\n",
    "print(\"{}\".format(ctime.strftime(\"%Y-%m-%d %H:%M:%S\")))\n",
    "\n",
    "# 날짜 형식 변환(strftime(): 날짜를 문자형으로, strptime(): 문자형을 날짜로)\n",
    "print(type(ctime))\n",
    "d = ctime.strftime(\"%Y-%m-%d %H:%M:%S\")          # 날짜를 문자형으로\n",
    "print(type(d))\n",
    "\n",
    "strDate = \"2019-08-02 11:44:50\"   # 날짜의 모양을 갖는 문자형\n",
    "print(type(strDate))\n",
    "e = datetime.datetime.strptime(strDate, \"%Y-%m-%d %H:%M:%S\")         # 날짜시간 형식이 같아야 함\n",
    "print(type(e))"
   ]
  },
  {
   "cell_type": "markdown",
   "metadata": {},
   "source": [
    "---------\n",
    "## 명령행 인자(인수. Command Line Argument)\n",
    "\n",
    "    명령어를 입력할 수 있는(ex> Dos) + 함수에게 전달할 인자값(data)\n",
    "    ex) 명령 prompt - notepad : 메모장 실행 명령\n",
    "        명령 prompt - notepad test1.py : 메모장 실행하며 test1.py 내용 불러옴(명령 인자 전달)\n",
    "    Dos에서 실행: pycharm에서 작성 후 Dos에서 파일 불러와 실행\n",
    "    반드시 사용하는 기능은 아니나, 사용하면 프로그램 실행시 선택의 폭이 넓어짐"
   ]
  },
  {
   "cell_type": "code",
   "execution_count": null,
   "metadata": {},
   "outputs": [],
   "source": [
    "import sys\n",
    "\n",
    "# print(\"argv의 0번째 값은\", sys.argv[0])                              # 첫 메모리에 항상 값이 들어가 있다\n",
    "# print(\"당신이 입력한 옵션은\", sys.argv[1], sys.argv[2])\n",
    "\n",
    "if len(sys.argv) == 1:                                                 # 첫 메모리에 값이 항상 들어가 있으므로 == 1  =  값 입력 안함\n",
    "    print(\"사용법 : cmdTest arg1 arg2\")                              \n",
    "    sys.exit()                                                         # 명령인자 입력 안되면 사용법 출력되도록\n",
    "\n",
    "# print(\"당신이 입력한 옵션은\", sys.argv[1], sys.argv[2])\n",
    "\n",
    "for i in range(len(sys.argv)):\n",
    "    print(sys.argv[i])                                                 # 명령인자 개수 맞추지 않아도 출력되도록\n"
   ]
  },
  {
   "cell_type": "code",
   "execution_count": null,
   "metadata": {},
   "outputs": [],
   "source": [
    "'''\n",
    "PhoneBook.py 프로그램 작성\n",
    "\n",
    "데이터 준비\n",
    "    홍길동, 010-111-1111, 서울시 강남구\n",
    "    임꺽정, 010-521-1101, 서울시 강북구\n",
    "    장길산, 010-861-1011, 서울시 서초구\n",
    "    \n",
    "프로그램 실행 결과\n",
    "------------------\n",
    "python PhoneBook.py 홍길동\n",
    "->  이름 : 홍길동\n",
    "    전화 : 010-111-1111\n",
    "    주소 : 서울시 강남구\n",
    "'''"
   ]
  },
  {
   "cell_type": "code",
   "execution_count": null,
   "metadata": {},
   "outputs": [],
   "source": [
    "a = [\"홍길동\", \"010-111-1111\", \"서울시 강남구\"]\n",
    "b = [\"임꺽정\", \"010-222-2222\", \"서울시 강북구\"]\n",
    "c = [\"장길산\", \"010-333-3333\", \"서울시 서초구\"]         # data를 하나로 묶어야 한다, data 보관과 사용법 중요\n",
    "\n",
    "import sys\n",
    "\n",
    "name = sys.argv[1]\n",
    "\n",
    "if name == \"홍길동\":\n",
    "    print(\"이름: \", a[0])\n",
    "    print(\"전화: \", a[1])\n",
    "    print(\"주소: \", a[2])\n",
    "elif name == \"임꺽정\":\n",
    "    print(\"이름: \", b[0])\n",
    "    print(\"전화: \", b[1])\n",
    "    print(\"주소: \", b[2])\n",
    "elif name == \"장길산\":\n",
    "    print(\"이름: \", c[0])\n",
    "    print(\"전화: \", c[1])\n",
    "    print(\"주소: \", c[2])\n"
   ]
  },
  {
   "cell_type": "code",
   "execution_count": null,
   "metadata": {},
   "outputs": [],
   "source": [
    "data = [[\"홍길동\", \"010-111-1111\", \"서울시 강남구\"], [\"임꺽정\", \"010-222-2222\", \"서울시 강북구\"], [\"장길산\", \"010-333-3333\", \"서울시 서초구\"]]\n",
    "\n",
    "import sys\n",
    "\n",
    "if len(sys.argv) == 1:\n",
    "    print(\"이름을 입력하시오\")\n",
    "    sys.exit()\n",
    "\n",
    "if sys.argv[1] == \"홍길동\":\n",
    "    print(\"이름 : \", data[0][0])\n",
    "    print(\"전화 : \", data[0][1])\n",
    "    print(\"주소 : \", data[0][2])\n",
    "elif sys.argv[1] == \"임꺽정\":\n",
    "    print(\"이름 : \", data[1][0])\n",
    "    print(\"전화 : \", data[1][1])\n",
    "    print(\"주소 : \", data[1][2])\n",
    "elif sys.argv[1] == \"장길산\":\n",
    "    print(\"이름 : \", data[2][0])\n",
    "    print(\"전화 : \", data[2][1])\n",
    "    print(\"주소 : \", data[2][2])"
   ]
  },
  {
   "cell_type": "code",
   "execution_count": 1,
   "metadata": {},
   "outputs": [
    {
     "name": "stdout",
     "output_type": "stream",
     "text": [
      "찾는 사람이 없습니다.\n",
      "찾는 사람이 없습니다.\n",
      "찾는 사람이 없습니다.\n"
     ]
    }
   ],
   "source": [
    "# 강사님 방법(1. data의 리스트 형식 보관)\n",
    "\n",
    "import sys\n",
    "\n",
    "data = [[\"홍길동\", \"010-111-1111\", \"서울시 강남구\"],\n",
    "        [\"임꺽정\", \"010-222-2222\", \"서울시 강북구\"],\n",
    "        [\"신돌석\", \"010-333-1111\", \"서울시 강남구\"]]\n",
    "\n",
    "if len(sys.argv) == 1:   #( == len(sys.argv) != 2)\n",
    "    print(\"Usage: python phoneBook.py arg1\")\n",
    "    sys.exit()           # 사용자가 입력 잘못했을 때 위함(ex> python phoneBook.py 사람이름입력x)\n",
    "\n",
    "for i in range(len(data)):    # data의 길이만큼 반복(3묶음)\n",
    "    if sys.argv[1] == data[i][0]:\n",
    "        print(\"이름 : \", data[i][0])\n",
    "        print(\"전화 : \", data[i][1])\n",
    "        print(\"주소 : \", data[i][2])\n",
    "        break  # 뒤에 찾는 사람 없음 출력 막기 위함\n",
    "    else:\n",
    "        print(\"찾는 사람이 없습니다.\")\n",
    "\n",
    "# 출력이 앞뒤로 찾는 사람 없습니다 반복됨\n"
   ]
  },
  {
   "cell_type": "code",
   "execution_count": 2,
   "metadata": {},
   "outputs": [
    {
     "name": "stdout",
     "output_type": "stream",
     "text": [
      "찾는 사람이 없습니다\n"
     ]
    }
   ],
   "source": [
    "#반복 문구 수정\n",
    "\n",
    "import sys\n",
    "\n",
    "data = [[\"홍길동\", \"010-111-1111\", \"서울시 강남구\"],\n",
    "        [\"임꺽정\", \"010-222-2222\", \"서울시 강북구\"],\n",
    "        [\"신돌석\", \"010-333-1111\", \"서울시 강남구\"]]\n",
    "\n",
    "if len(sys.argv) == 1:   #( == len(sys.argv) != 2)\n",
    "    print(\"Usage: python phoneBook.py arg1\")\n",
    "    sys.exit()           # 사용자가 입력 잘못했을 때 위함(ex> python phoneBook.py 사람이름입력x)\n",
    "\n",
    "flag = False                  # 파악 위한 변수 부여\n",
    "index = 0\n",
    "for i in range(len(data)):    # data의 길이만큼 반복(3묶음)\n",
    "    if sys.argv[1] == data[i][0]:\n",
    "        flag = True           # 반복 돌고 찾았는지 못 찾았는지 파악\n",
    "        index = i             # 현재 찾은 위치 파악\n",
    "    else:\n",
    "        flag = False          \n",
    "\n",
    "if flag == True:          # 반복 후 필요한 것 출력\n",
    "    print(\"이름 : \", data[index][0])\n",
    "    print(\"전화 : \", data[index][1])\n",
    "    print(\"주소 : \", data[index][2])\n",
    "else:\n",
    "    print(\"찾는 사람이 없습니다\")"
   ]
  },
  {
   "cell_type": "code",
   "execution_count": null,
   "metadata": {},
   "outputs": [],
   "source": [
    "#강사님 두번째 방법: data를 dict로 묶어 관리\n",
    "\n",
    "data = [{\"name\":[\"홍길동\", \"임꺽정\", \"신동석\"], \"tel\":[\"010-111-1111\", \"010-222-2222\", \"010-333-3333\"], \"add\":[\"서울시 강남구\", \"서울시 강북구\", \"서울시 강남구\"]\n",
    "# 리스트 하나이기 때문에 data[0]\n",
    "# 리스트 하나에 idct 자료 3개\n",
    "         \n",
    "if sys.argv[1] in data[0][\"name\"]:\n",
    "    idx = data[0][\"name\"].index(sys.argv[1])  #index로 검색 data[0][\"key값\"].index(입력한 data)\n",
    "    print(\"이름:\", data[0][\"name\"][idx])\n",
    "    print(\"tel\", data[0][\"tel\"][idx])\n",
    "    print(\"add:\", data[0][\"add\"][idx])\n",
    "else:\n",
    "    print(\"찾는 사람 없음))\n",
    "          \n",
    "          \n",
    "#전화번호 검색\n",
    "if sys.argv[1] in data[0][\"tel\"]:\n",
    "    idx = data[0][\"tel\"].index(sys.argv[1])\n",
    "    print(\"이름:\", data[0][\"name\"][idx])\n",
    "    print(\"tel\", data[0][\"tel\"][idx])\n",
    "    print(\"add:\", data[0][\"add\"][idx])\n",
    "else:\n",
    "    print(\"찾는 사람 없음))\n",
    "\n"
   ]
  },
  {
   "cell_type": "code",
   "execution_count": null,
   "metadata": {},
   "outputs": [],
   "source": [
    "a = [\"홍길동\", \"010-111-1111\", \"서울시 강남구\"]\n",
    "b = [\"임꺽정\", \"010-222-2222\", \"서울시 강북구\"]\n",
    "c = [\"장길산\", \"010-333-3333\", \"서울시 서초구\"]\n",
    "\n",
    "name = input(\"이름을 입력하시오: \")\n",
    "\n",
    "if name == \"홍길동\":\n",
    "    print(\"이름: \", a[0])\n",
    "    print(\"전화: \", a[1])\n",
    "    print(\"주소: \", a[2])\n",
    "elif name == \"임꺽정\":\n",
    "    print(\"이름: \", b[0])\n",
    "    print(\"전화: \", b[1])\n",
    "    print(\"주소: \", b[2])\n",
    "elif name == \"장길산\":\n",
    "    print(\"이름: \", c[0])\n",
    "    print(\"전화: \", c[1])\n",
    "    print(\"주소: \", c[2])\n",
    "else:\n",
    "    print(\"저장되지 않은 이름입니다\")"
   ]
  },
  {
   "cell_type": "code",
   "execution_count": null,
   "metadata": {
    "scrolled": true
   },
   "outputs": [],
   "source": [
    "a = [\"홍길동\", \"010-111-1111\", \"서울시 강남구\"]\n",
    "b = [\"임꺽정\", \"010-222-2222\", \"서울시 강북구\"]\n",
    "c = [\"장길산\", \"010-333-3333\", \"서울시 서초구\"]\n",
    "\n",
    "while True: \n",
    "    name = input(\"이름을 입력하시오: \")\n",
    "    \n",
    "    if name == \"홍길동\":\n",
    "        print(\"이름: \", a[0])\n",
    "        print(\"전화: \", a[1])\n",
    "        print(\"주소: \", a[2])\n",
    "    elif name == \"임꺽정\":\n",
    "        print(\"이름: \", b[0])\n",
    "        print(\"전화: \", b[1])\n",
    "        print(\"주소: \", b[2])\n",
    "    elif name == \"장길산\":\n",
    "        print(\"이름: \", c[0])\n",
    "        print(\"전화: \", c[1])\n",
    "        print(\"주소: \", c[2])\n",
    "    else:\n",
    "        print(\"저장되지 않은 이름입니다\")\n",
    "        "
   ]
  },
  {
   "cell_type": "code",
   "execution_count": null,
   "metadata": {},
   "outputs": [],
   "source": []
  },
  {
   "cell_type": "markdown",
   "metadata": {},
   "source": [
    "---\n",
    "## 재귀 함수(Recursive Function)\n",
    "\n",
    "    종료할 수 있는 장치 필요(함수에서 메인으로 돌아갈 수 있는)\n",
    "    반복문으로 해결 가능한데 왜 재귀 함수 필요?\n",
    "        -> 코드 가독성/이해 쉬움. 코드 단순화  but 성능/메모리 면에서 반복문보다 떨어짐\n",
    "    너무 자주 호출되는 것인 경우에는 함수보다 재귀함수가 나을 수도"
   ]
  },
  {
   "cell_type": "code",
   "execution_count": null,
   "metadata": {},
   "outputs": [],
   "source": [
    "# def countDown(n):\n",
    "#     print(n)               # 함수 안에서만 계속 무한 반복(stack에 저장만 되는 상태)\n",
    "\n",
    "\n",
    "def countDown(n):\n",
    "    if n == 0:\n",
    "        print(\"완료\")        # 반복 종료할 수 있도록 조건 부여\n",
    "    else:\n",
    "        print(n)\n",
    "        countDown(n-1)                        \n",
    "\n",
    "################\n",
    "countDown(5)\n",
    "\n",
    "for i in range(5, -1, -1):        # 5부터 시작해서 0까지 -1씩 감소\n",
    "    countDown(i)                  # 반복문으로도 해결 가능한데 왜 재귀 함수 필요?\n",
    "\n"
   ]
  },
  {
   "cell_type": "code",
   "execution_count": null,
   "metadata": {},
   "outputs": [],
   "source": [
    "def factorial_recu(n):\n",
    "    if n == 1:                                    # n = 1 이면 반복 종료\n",
    "        return 1\n",
    "    return n * factorial_recu(n-1)\n",
    "\n",
    "    \n",
    "def factorial_iter(n):\n",
    "    return 1\n",
    "    while (n > 0):\n",
    "        print(n)\n",
    "        result = result * n\n",
    "        n = n * (n - 1)\n",
    "    return result\n",
    "    \n",
    "    \n",
    "print(factorial_recu(5))                          # 5! 계산\n",
    "print()\n",
    "print(factorial_iter(5))\n"
   ]
  },
  {
   "cell_type": "code",
   "execution_count": null,
   "metadata": {},
   "outputs": [],
   "source": [
    "def factorial_iter(n):\n",
    "    for n in range(n, 0, n-1):\n",
    "        if n == 1:\n",
    "            print(\"완료\")\n",
    "        else:\n",
    "            \n",
    "        "
   ]
  },
  {
   "cell_type": "markdown",
   "metadata": {},
   "source": [
    "---\n",
    "# 파일 처리(Data Persistence: 데이터 지속성)\n",
    "\n",
    "    - open(파일명(경로 포함), 모드값) : 보조기억장치에 있는 파일을 주기억장치로 불러옴\n",
    "        - mode: r(읽기 전용), w(덮어씌우기-기존삭제), a(추가저장), rb(이진수로 읽기), wb(이진수w), ab(이진수a)\n",
    "        \n",
    "    - close() : 메모리에서 지움\n",
    "    \n",
    "    - 읽어올 때: readline(), readlines(), read()\n",
    "    \n",
    "    - 출력(저장)할 때: write()\n",
    "    \n",
    "    - with - as ? : close 하지 않아도 with 내에서 종결\n",
    "    \n",
    "    - 순차 처리 방식: 읽기에는 편하나 data 수정에는 번거로움"
   ]
  },
  {
   "cell_type": "code",
   "execution_count": null,
   "metadata": {},
   "outputs": [],
   "source": [
    "#readline()\n",
    "#-------------------\n",
    "\n",
    "f = open(\"mymodule.py\", \"r\")                  # 불러온 파일을 실행시키기 위해 변수로 지정(주소값)\n",
    "print(f.readline())                                # readline: 한 줄씩 읽어옴\n",
    "f.close()                                     # 종료 필수\n"
   ]
  },
  {
   "cell_type": "code",
   "execution_count": null,
   "metadata": {},
   "outputs": [],
   "source": [
    "f = open(\"C:\\\\Users\\\\acorn\\\\hghbigdata\\\\pythonwork\\\\basic\\\\data\\\\fileTest1.txt\", \"r\")   # 절대경로: 현재 작업위치와 상관 없이 경로 변화x\n",
    "\n",
    "print(f.readline())\n",
    "print(f.readline())\n",
    "print(f.readline())\n",
    "print(f.readline())\n",
    "f.close()\n",
    "\n",
    "#절대경로: 길이가 너무 길다. 다른 컴퓨터에서도 같은 방식으로 저장? \n",
    "\n",
    "\n",
    "f = open(\".\\\\data\\\\fileTest1.txt\", \"r\")   # 상대경로: . -> 현재 작업 위치, .. > 상위 폴더\n",
    "f = open(\"data\\\\fileTest1.txt\", \"r\")  # 현재 위치 바로 아래의 폴더는 직접 사용도 가능\n",
    "\n",
    "print(f.readline())\n",
    "print(f.readline())\n",
    "print(f.readline())\n",
    "print(f.readline())\n",
    "f.close()\n",
    "\n",
    "#상대경로: 현재 나의 위치(.)에 따라 경로 변화"
   ]
  },
  {
   "cell_type": "code",
   "execution_count": 1,
   "metadata": {},
   "outputs": [
    {
     "name": "stdout",
     "output_type": "stream",
     "text": [
      "a b c d e f g h i j k l m n o p q r s t u v w x y z\n",
      "\n",
      "123456\n",
      "\n",
      "78910\n",
      "\n",
      "으어어어어어ㅓ어어어엉\n",
      "<class 'str'>\n"
     ]
    }
   ],
   "source": [
    "# readline의 반복문(반복 횟수 알 수 없음)\n",
    "\n",
    "f = open(\"data\\\\fileTest1.txt\", \"r\") \n",
    "\n",
    "while True:                                # 읽기 반복(자료가 집합형이 아니고 반복 범위 미정인 경우 for보다 while이 더 편함)\n",
    "    line = f.readline()\n",
    "    \n",
    "    if not line:                           #끝날 수 있는 조건: line에 값이 없을 때(not True일 때)\n",
    "        break                           # 자료 있음 = True, 자료 없음 = False\n",
    "    \n",
    "    print(line)\n",
    "f.close()                                  # 메모리 확보 위함(자료 용량 클 경우 성능 down 우려)\n",
    "\n",
    "print(type(line))"
   ]
  },
  {
   "cell_type": "code",
   "execution_count": 2,
   "metadata": {},
   "outputs": [
    {
     "name": "stdout",
     "output_type": "stream",
     "text": [
      "<class 'list'>\n",
      "['a b c d e f g h i j k l m n o p q r s t u v w x y z\\n', '123456\\n', '78910\\n', '으어어어어어ㅓ어어어엉']\n",
      "a b c d e f g h i j k l m n o p q r s t u v w x y z\n",
      "\n",
      "123456\n",
      "\n",
      "78910\n",
      "\n",
      "으어어어어어ㅓ어어어엉\n"
     ]
    }
   ],
   "source": [
    "# readlines(): 모든 행을 한꺼번에 읽어서 각각의 행을 하나의 요소로 갖는 list형으로 변환\n",
    "#---------------\n",
    "\n",
    "f = open(\"data\\\\fileTest1.txt\", \"r\") \n",
    "\n",
    "lines = f.readlines()\n",
    "print(type(lines))                            # 각각의 줄을 하나의 요소로 취급하는 list형식\n",
    "print(lines)                                  # data 보여줌\n",
    "\n",
    "for i in lines:\n",
    "    print(i)                                  # data 가져옴\n",
    "    \n",
    "f.close()"
   ]
  },
  {
   "cell_type": "code",
   "execution_count": 3,
   "metadata": {},
   "outputs": [
    {
     "name": "stdout",
     "output_type": "stream",
     "text": [
      "<class 'str'>\n",
      "a b c d e f g h i j k l m n o p q r s t u v w x y z\n",
      "123456\n",
      "78910\n",
      "으어어어어어ㅓ어어어엉\n",
      "['a b c d e f g h i j k l m n o p q r s t u v w x y z', '123456', '78910', '으어어어어어ㅓ어어어엉']\n",
      "(0, 'a b c d e f g h i j k l m n o p q r s t u v w x y z')\n",
      "(1, '123456')\n",
      "(2, '78910')\n",
      "(3, '으어어어어어ㅓ어어어엉')\n",
      "0 : a b c d e f g h i j k l m n o p q r s t u v w x y z\n",
      "1 : 123456\n",
      "2 : 78910\n",
      "3 : 으어어어어어ㅓ어어어엉\n"
     ]
    }
   ],
   "source": [
    "#read(): 파일을 문자형으로 한번에 읽어옴\n",
    "#---------------\n",
    "\n",
    "f = open(\"data\\\\fileTest1.txt\", \"r\") \n",
    "\n",
    "data = f.read()\n",
    "print(type(data))                  # 전체의 data를 하나의 문자형으로 묶음\n",
    "print(data)\n",
    "\n",
    "var1 = data\n",
    "var2 = var1.split(\"\\n\")            # split(): 값 기준으로 str을 나눔\n",
    "\n",
    "print(var2)\n",
    "\n",
    "sdata = data.split(\"\\n\")\n",
    "\n",
    "for line in enumerate(sdata):        # 각 data와 index 묶어 tuple로 리턴\n",
    "    print(line)\n",
    "    \n",
    "f.close()\n",
    "\n",
    "\n",
    "sdata = data.split(\"\\n\")\n",
    "count = 0\n",
    "\n",
    "for count, line in enumerate(sdata):\n",
    "    print(count, \":\", line)\n",
    "\n",
    "f.close()"
   ]
  },
  {
   "cell_type": "code",
   "execution_count": null,
   "metadata": {},
   "outputs": [],
   "source": [
    "# write(): 파일에 저장\n",
    "\n",
    "\n",
    "f = open(\"data\\\\fileTest2.txt\", \"w\")               # 모드 w로 변경: 불러온 파일에 새로운 data 저장. 저장할 때 파일 없는 경우 파일을 자동으로 만든다\n",
    "\n",
    "f.write(\"이름: 홍길동, \")\n",
    "f.write(\"전화번호: 010-111-1111, \")\n",
    "f.write(\"주소: 서울시 강남구\\n\")                     # data를 ,로 구분하여 저장: .csv 확장자로 저장하는 것이 호환면에서 더 유리\n",
    "f.write(\"이름: 임꺽정, \")\n",
    "f.write(\"전화번호: 010-222-2222, \")\n",
    "f.write(\"주소: 서울시 강북구\\n\")       \n",
    "f.write(\"이름: 장길산, \")\n",
    "f.write(\"전화번호: 010-333-3333, \")\n",
    "f.write(\"주소: 서울시 강서구\\n\")       \n",
    "\n",
    "f.close()"
   ]
  },
  {
   "cell_type": "code",
   "execution_count": null,
   "metadata": {},
   "outputs": [],
   "source": [
    "f = open(\"data\\\\fileTest2.txt\", \"a\")              # 모드 w: 기존 data 전부 삭제되고 새로운 data 저장, 모드 a: 기존 내용의 뒤에 저장\n",
    "\n",
    "f.write(\"이름: 엄홍길, \")\n",
    "f.write(\"전화번호: 010-444-4444, \")\n",
    "f.write(\"주소: 서울시 강동구\\n\")  \n",
    "\n",
    "f.close()"
   ]
  },
  {
   "cell_type": "code",
   "execution_count": null,
   "metadata": {},
   "outputs": [],
   "source": [
    "f = open(\"data\\\\fileTest2.txt\", \"r\")              # 친구관리프로그램 확장에 사용 가능\n",
    "\n",
    "data = f.read()\n",
    "\n",
    "print(data)"
   ]
  },
  {
   "cell_type": "code",
   "execution_count": 10,
   "metadata": {},
   "outputs": [],
   "source": [
    "#nums의 data를 result1 파일에 .csv로 저장\n",
    "\n",
    "nums = [1, 2, 3, 4, 5, 6, 7, 8, 9]\n",
    "count = len(nums)\n",
    "\n",
    "f = open(\"data\\\\result1.csv\", \"w\")           # f에 주소값 부여\n",
    "\n",
    "for i in range(count):\n",
    "    if i < count-1:\n",
    "        f.write(str(nums[i]) + \",\")\n",
    "    else:\n",
    "        f.write(str(nums[i]))\n",
    "        \n",
    "f.close()"
   ]
  },
  {
   "cell_type": "code",
   "execution_count": 11,
   "metadata": {},
   "outputs": [],
   "source": [
    "# with 문법\n",
    "\n",
    "nums = [1, 2, 3, 4, 5, 6, 7, 8, 9]\n",
    "count = len(nums)\n",
    "\n",
    "with open(\"data\\\\result1.csv\", \"w\") as f:    # open의 코드는 f로 줄여서 사용(블럭 내에서는 f라는 코드로 사용 가능)\n",
    "    for i in range(count):\n",
    "        if i < count-1:\n",
    "            f.write(str(nums[i]) + \",\")\n",
    "        else:\n",
    "            f.write(str(nums[i]))           # with 끝나면 f 코드 끝나기 때문에 별도로 close() 사용할 필요 x\n",
    "            \n"
   ]
  },
  {
   "cell_type": "code",
   "execution_count": 27,
   "metadata": {},
   "outputs": [
    {
     "name": "stdout",
     "output_type": "stream",
     "text": [
      "1,2,3,4,5,6,7,8,9\n",
      "a b c d e f g h i j k l m n o p q r s t u v w x y z\n",
      "123456\n",
      "78910\n",
      "으어어어어어ㅓ어어어엉\n",
      "---------------------\n",
      "파일 포인터: 90\n",
      "파일 포인터: 0\n",
      "a b c d e f g h i j k l m n o p q r s t u v w x y z\n",
      "\n",
      "e f g h i j k l m n o p q r s t u v w x y z\n",
      "\n",
      "b c d e f g h i j k l m n o p q r s t u v w x y z\n",
      "\n"
     ]
    }
   ],
   "source": [
    "# 임의 접근 방식(순차 처리 방식의 예외): seek(이동할 위치, 기준 위치) 원하는 data로 찾아갈 수 있도록, tell() 현재 파일의 위치 확인\n",
    "# 기준 위치: 0(default, 파일의 시작 위치-기본값), 1(파일의 현재 위치), 2(파일의 끝 위치)\n",
    "\n",
    "with open(\"data\\\\result1.csv\", \"r\") as f:\n",
    "    print(f.readline())\n",
    "\n",
    "with open(\"data\\\\fileTest1.txt\", \"r\") as f:\n",
    "    for line in f:                                 # 한 줄씩 반복하여 출력(== readline())\n",
    "        print(line, end = '')\n",
    "        \n",
    "    print(\"\\n---------------------\")\n",
    "\n",
    "    print(\"파일 포인터: %d\" %f.tell())                # 앞에서 파일 다 읽은 상태이기 때문에 포인터가 파일의 마지막에 위치\n",
    "    \n",
    "    f.seek(0, 0)\n",
    "    print(\"파일 포인터: %d\" %f.tell())                # 파일 시작 위치 기준으로 첫 번째 위치로 포인터 옮겨짐\n",
    "    print(f.readline())\n",
    "    \n",
    "    f.seek(8, 0)                                      # 파일 시작 위치 기준으로 8번재 위치로 포인터 옮김\n",
    "    print(f.readline())                               # 그 위치부터 1줄 출력\n",
    "    \n",
    "    f.seek(2, 0)\n",
    "    print(f.readline())"
   ]
  },
  {
   "cell_type": "code",
   "execution_count": 35,
   "metadata": {},
   "outputs": [
    {
     "name": "stdout",
     "output_type": "stream",
     "text": [
      "<class 'list'>\n",
      "['1-변수와 자료형.ipynb', '2-제어문.ipynb', '3-함수.ipynb', 'data', 'mymodule.py', '__pycache__', '실습 및 과제.ipynb']\n",
      "['1-변수와 자료형.ipynb', '2-제어문.ipynb', '3-함수.ipynb', 'mymodule.py', '실습 및 과제.ipynb']\n",
      "['1-변수와 자료형.ipynb', '2-제어문.ipynb', '3-함수.ipynb', '실습 및 과제.ipynb']\n",
      "1-변수와 자료형.ipynb\n",
      "2-제어문.ipynb\n",
      "3-함수.ipynb\n",
      "실습 및 과제.ipynb\n"
     ]
    }
   ],
   "source": [
    "# glob: 동시에 여러 개의 파일/폴더을 불러오는 방법\n",
    "\n",
    "import glob             # glob 파일 불러옴\n",
    "files = glob.glob(\"*\")             # glob 파일 내 glob 함수 불러옴. (\"*\") 현재 작업하는 위치의 모든 파일/폴더 불러옴\n",
    "print(type(files))\n",
    "print(files)\n",
    "\n",
    "files = glob.glob(\"*.*\")   # 확장자 부여(파일만 가져옴)\n",
    "print(files)\n",
    "\n",
    "files = glob.glob(\"*.ipynb\")     #.ipynb 확장자 파일만 불러옴\n",
    "print(files)\n",
    "\n",
    "for title in files:\n",
    "    print(title)"
   ]
  },
  {
   "cell_type": "code",
   "execution_count": null,
   "metadata": {},
   "outputs": [],
   "source": [
    "\n"
   ]
  },
  {
   "cell_type": "code",
   "execution_count": null,
   "metadata": {},
   "outputs": [],
   "source": []
  },
  {
   "cell_type": "code",
   "execution_count": null,
   "metadata": {},
   "outputs": [],
   "source": []
  },
  {
   "cell_type": "code",
   "execution_count": null,
   "metadata": {},
   "outputs": [],
   "source": []
  },
  {
   "cell_type": "code",
   "execution_count": null,
   "metadata": {},
   "outputs": [],
   "source": []
  },
  {
   "cell_type": "code",
   "execution_count": null,
   "metadata": {},
   "outputs": [],
   "source": []
  },
  {
   "cell_type": "code",
   "execution_count": null,
   "metadata": {},
   "outputs": [],
   "source": []
  },
  {
   "cell_type": "code",
   "execution_count": null,
   "metadata": {},
   "outputs": [],
   "source": []
  },
  {
   "cell_type": "code",
   "execution_count": null,
   "metadata": {},
   "outputs": [],
   "source": []
  }
 ],
 "metadata": {
  "kernelspec": {
   "display_name": "Python 3",
   "language": "python",
   "name": "python3"
  },
  "language_info": {
   "codemirror_mode": {
    "name": "ipython",
    "version": 3
   },
   "file_extension": ".py",
   "mimetype": "text/x-python",
   "name": "python",
   "nbconvert_exporter": "python",
   "pygments_lexer": "ipython3",
   "version": "3.7.3"
  }
 },
 "nbformat": 4,
 "nbformat_minor": 2
}
