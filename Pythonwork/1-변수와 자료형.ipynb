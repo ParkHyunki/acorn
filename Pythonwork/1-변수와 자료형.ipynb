{
 "cells": [
  {
   "cell_type": "markdown",
   "metadata": {},
   "source": [
    "# 1.변수의 특징\n"
   ]
  },
  {
   "cell_type": "code",
   "execution_count": 1,
   "metadata": {},
   "outputs": [],
   "source": [
    "a = 1\n",
    "#별도의 절차 없이 변수 사용 가능"
   ]
  },
  {
   "cell_type": "code",
   "execution_count": 2,
   "metadata": {},
   "outputs": [
    {
     "data": {
      "text/plain": [
       "1"
      ]
     },
     "execution_count": 2,
     "metadata": {},
     "output_type": "execute_result"
    }
   ],
   "source": [
    "a"
   ]
  },
  {
   "cell_type": "code",
   "execution_count": 3,
   "metadata": {},
   "outputs": [
    {
     "name": "stdout",
     "output_type": "stream",
     "text": [
      "1\n"
     ]
    }
   ],
   "source": [
    "print(a)"
   ]
  },
  {
   "cell_type": "code",
   "execution_count": 4,
   "metadata": {},
   "outputs": [
    {
     "data": {
      "text/plain": [
       "5"
      ]
     },
     "execution_count": 4,
     "metadata": {},
     "output_type": "execute_result"
    }
   ],
   "source": [
    "a + 4"
   ]
  },
  {
   "cell_type": "code",
   "execution_count": 6,
   "metadata": {},
   "outputs": [
    {
     "data": {
      "text/plain": [
       "9"
      ]
     },
     "execution_count": 6,
     "metadata": {},
     "output_type": "execute_result"
    }
   ],
   "source": [
    "a = 2\n",
    "a = 4\n",
    "a = 9\n",
    "a\n",
    "#변수는 한번에 하나의 값만 저장(기본자료형)"
   ]
  },
  {
   "cell_type": "code",
   "execution_count": 7,
   "metadata": {},
   "outputs": [
    {
     "data": {
      "text/plain": [
       "'가'"
      ]
     },
     "execution_count": 7,
     "metadata": {},
     "output_type": "execute_result"
    }
   ],
   "source": [
    "a = \"가\"\n",
    "a"
   ]
  },
  {
   "cell_type": "code",
   "execution_count": 8,
   "metadata": {},
   "outputs": [
    {
     "data": {
      "text/plain": [
       "3.15648"
      ]
     },
     "execution_count": 8,
     "metadata": {},
     "output_type": "execute_result"
    }
   ],
   "source": [
    "a = 3.15648\n",
    "a\n",
    "#변수는 보관 형식 가리지 않음"
   ]
  },
  {
   "cell_type": "code",
   "execution_count": 12,
   "metadata": {},
   "outputs": [
    {
     "name": "stdout",
     "output_type": "stream",
     "text": [
      "<class 'int'>\n",
      "<class 'str'>\n",
      "<class 'float'>\n"
     ]
    }
   ],
   "source": [
    "a = 10\n",
    "print(type(a))\n",
    "\n",
    "a = \"으허허허\"\n",
    "print(type(a))\n",
    "\n",
    "a = 3.5468\n",
    "print(type(a))"
   ]
  },
  {
   "cell_type": "code",
   "execution_count": 17,
   "metadata": {},
   "outputs": [
    {
     "name": "stdout",
     "output_type": "stream",
     "text": [
      "8791480505440 8791480505440\n",
      "True\n",
      "True\n"
     ]
    }
   ],
   "source": [
    "a = 10\n",
    "#변수는 수정되지 않음(a에 10을 넣었다가 5로 수정했다는 의미X). 변수값이 아니라 주소값 대체(10과 5 둘 다 메모리 어딘가에 저장되어 있다)\n",
    "\n",
    "b = 10\n",
    "\n",
    "print(id(a), id(b))\n",
    "#a와 b의 주소값이 같으므로 같은 주소에서 가져온 값\n",
    "\n",
    "print(a == b)\n",
    "# ==: 값이 같다는 의미\n",
    "\n",
    "print(a is b)\n",
    "# is: 주소가 같다는 의미"
   ]
  },
  {
   "cell_type": "code",
   "execution_count": 18,
   "metadata": {},
   "outputs": [],
   "source": [
    "a = 10\n",
    "a = 5\n",
    "a = 3\n",
    "a = 12\n",
    "#파이썬은 참조하지 않는 주소값 스스로 처리 (Garbage Collection 자동 처리)"
   ]
  },
  {
   "cell_type": "markdown",
   "metadata": {},
   "source": [
    "2.자료형\n",
    "===\n",
    "\n",
    "## 종류\n",
    "     1) 기본 자료형: 정수형(int), 실수형(float), 문자형(str), 함수형(function), 복수형(complex)\n",
    "     2) 집합 자료형: 리스트형(list), 튜플형(tuple), 딕트형(dict), 셑형(set)\n",
    "## 수정 여부\n",
    "     1) 수정 가능: list, set, dict\n",
    "     2) 수정 불가능: tuple, int, float, str, complex, fuction, bool"
   ]
  },
  {
   "cell_type": "code",
   "execution_count": 22,
   "metadata": {},
   "outputs": [
    {
     "name": "stdout",
     "output_type": "stream",
     "text": [
      "가나다라마\n",
      "<class 'str'>\n"
     ]
    }
   ],
   "source": [
    "#Data Type: 기본자료형(하나의 data만 저장) vs 집합자료형(여러 data 묶어서 저장)\n",
    "a = \"가\"\n",
    "a = \"가나다라마\"\n",
    "print(a)\n",
    "print(type(a))"
   ]
  },
  {
   "cell_type": "code",
   "execution_count": 36,
   "metadata": {},
   "outputs": [
    {
     "name": "stdout",
     "output_type": "stream",
     "text": [
      "abc\n",
      "d\n",
      "\n",
      "ef\n",
      "abc\t\tdef\n",
      "\"\\t는 Tab키의 역할을 수행한다\"\n",
      "95\n"
     ]
    }
   ],
   "source": [
    "# str\n",
    "var1 = 'python is very simple'\n",
    "var1\n",
    "\n",
    "var1 = '''문자들을\n",
    "여러 줄로\n",
    "\n",
    "작성 가능'''\n",
    "var1\n",
    "\n",
    "# 특수문자(제어문자): 문자 앞에 역슬래시 표시(\\문자)하여 특수기능 실행\n",
    "var1 = 'abc' #-> 일반문자\n",
    "var1 = 'abc\\nd\\n\\nef'\n",
    "print(var1)\n",
    "\n",
    "var1 = 'abc\\t\\tdef'\n",
    "print(var1)\n",
    "\n",
    "# '\\t는 Tab키의 역할을 수행한다'\n",
    "# 이스케이프 문자: 특수기능 취소: \\\n",
    "var1 = '\\\"\\\\t는 Tab키의 역할을 수행한다\\\"'\n",
    "print(var1)\n",
    "\n",
    "# 코드가 길어질 때  줄바꿈 할 때도 \\ 사용(python 전용)\n",
    "var1 = 10 + 20 * 3 + 20 \\\n",
    "+ 5\n",
    "print(var1)"
   ]
  },
  {
   "cell_type": "code",
   "execution_count": 86,
   "metadata": {},
   "outputs": [
    {
     "name": "stdout",
     "output_type": "stream",
     "text": [
      "python  is fun 100\n",
      "python is fun100\n",
      "pythonpythonpython\n",
      "==================================================\n",
      "o L e\n",
      ". t\n",
      "Life\n",
      "is too short, You need python.\n",
      "Life is to\n",
      "Life is too short, You need python.\n",
      "python\n",
      "==================================================\n",
      "덧셈 결과: 3 + 4 = 7\n",
      "덧셈 결과: 4 + 3 = 7\n",
      "==================================================\n",
      "a, b, c, d, e, f, g\n",
      "['Life', 'is', 'too', 'short']\n",
      "['홍길동', '임꺽정', '정약용', '정조']\n",
      "3 14\n",
      "-1 0\n"
     ]
    }
   ],
   "source": [
    "# 문자열 연결\n",
    "head = 'python'\n",
    "tail = ' is fun'\n",
    "num = 100\n",
    "print(head, tail, num) # a 공백 b 연결. 문자 취급하여 연결\n",
    "print(head + tail + str(num)) # ab 연결. 에러 발생(문자+숫자)\n",
    "print(head * 3) # 반복\n",
    "print(\"=\" * 50)\n",
    "\n",
    "# indexing : 특정 위치의 한 글자에 접근\n",
    "var1 = \"Life is too short, You need python.\"\n",
    "print(var1[10], var1[0], var1[3])\n",
    "print(var1[-1], var1[-5]) # 뒤에서부터 찾음\n",
    "\n",
    "# slicing : 특정 위치의 한 범위에 접근\n",
    "print(var1[0:4]) # 첫번째부터 3번째(n-1) 글자까지\n",
    "print(var1[5:]) # 뒤 위치 생략: 뒤의 나머지 글자 전부 가져옴\n",
    "print(var1[:10]) # 앞 위치 생략: 맨 앞에서부터 지정 범위까지의 글자만 가져옴\n",
    "print(var1[:]) # 전체 글자\n",
    "\n",
    "# 수정 \n",
    "a = 'pithon'\n",
    "#a[1] = y\n",
    "#print(a)\n",
    "b = a[0] + \"y\" + a[2:]\n",
    "print(b)\n",
    "print(\"=\" * 50)\n",
    "\n",
    "# 포맷팅: 형식 지정 %, format()\n",
    "#\"덧셈 결과: 3 + 4 = 7\"\n",
    "print(\"%s 결과: %d + %d = %d\"% (\"덧셈\", 3, 4, 3+4)) # s 문자열, d 숫자\n",
    "print(\"{0} 결과: {2} + {1} = {3}\".format(\"덧셈\", 3, 4, 3+4)) # 순서(위치)만 지정. 형식 상관X\n",
    "print('=' * 50)\n",
    "\n",
    "# 관련 함수: count(), index(), find(), join(), split()...\n",
    "var1 = \", \"\n",
    "var2 = var1.join(\"abcdefg\")\n",
    "print(var2)\n",
    "\n",
    "var1 = \"Life is too short\"\n",
    "var2 = var1.split() # =공백 기준으로 분류. 따로 \"\" 지정 없을 경우 공백으로 처리\n",
    "print(var2)\n",
    "\n",
    "var1 = \"홍길동;임꺽정;정약용;정조\"\n",
    "var2 = var1.split(\";\")\n",
    "print(var2)\n",
    "\n",
    "print(var1.count(\"정\"), len(var1)) #특정 문자 개수=count(), 전체 문자 개수=len()\n",
    "\n",
    "print(var1.find(\"김\"), var1.index(\"홍\")) # find: 특정 문자 찾음(없는 경우 -1), index: 특정 문자 찾음(없는 경우 에러 발생)"
   ]
  },
  {
   "cell_type": "markdown",
   "metadata": {},
   "source": [
    "+ list\n",
    "    - 임의의 객체를 순차적으로 저장하는 집합적 자료형\n",
    "    - 각 값에 대해 인덱스(일련번호) 부여: 접근 가능하도록\n",
    "    - 변경 가능\n",
    "    - \"[ ]\" 사용\n",
    "    - 복합 자료형: 여러 개의 자료를 묶어서 사용 가능"
   ]
  },
  {
   "cell_type": "code",
   "execution_count": 90,
   "metadata": {},
   "outputs": [
    {
     "name": "stdout",
     "output_type": "stream",
     "text": [
      "<class 'list'>\n",
      "1 고우\n",
      "5\n",
      "77763464\n",
      "[1, 8975, 5, '고우', 68]\n",
      "77763464\n",
      "68 68\n"
     ]
    }
   ],
   "source": [
    "#리스트: 연속적인 장소에 보관. 맨 앞의 주소값 찾아 적용. 개별적인 data 추출하여 사용 가능. 주소값에 있는 값 변경 가능\n",
    "a = [1, 3.32, 5, \"고우\", 68]\n",
    "a\n",
    "print(type(a))\n",
    "print(a[0], a[3])\n",
    "print(a[2])\n",
    "print(id(a))\n",
    "\n",
    "a[1] = 8975\n",
    "print(a)\n",
    "print(id(a))\n",
    "\n",
    "print(a[-1], a[4])"
   ]
  },
  {
   "cell_type": "code",
   "execution_count": 152,
   "metadata": {},
   "outputs": [
    {
     "name": "stdout",
     "output_type": "stream",
     "text": [
      "[1, 2, 3, '가', 5.89, ['a', 'b', 'c']]\n",
      "['a', 'b', 'c'] ['a', 'b', 'c']\n",
      "b\n",
      "==================================================\n",
      "[10, 2, 3, 4, 5] [10, 2, 3, 4, 5]\n",
      "[10, 2, 3, 4, 5] [6, 2, 3, 4, 5]\n",
      "==================================================\n",
      "[1, 2, 3, 4, 5, 6]\n",
      "1hi\n",
      "==================================================\n",
      "[1, 2, 5, 3]\n",
      "[1, 2, 5, 3, [89, 6, 3]]\n",
      "[1, 2, 5, 3, [89, 6, 3], 8, 6]\n",
      "[1, 2, 5, 3, [89, 6, 3], 8, 6, 12, 13]\n",
      "==================================================\n",
      "[1, 3, 5, 8, 9]\n",
      "[9, 8, 5, 3, 1]\n",
      "2\n",
      "[3, 1, 2, 3]\n",
      "[2, 3, 1, 2, 3]\n",
      "[2, 3, 2, 3]\n",
      "[1, 2]\n",
      "3\n",
      "==================================================\n",
      "True\n",
      "False\n"
     ]
    }
   ],
   "source": [
    "# indexing\n",
    "b = [1, 2, 3, \"가\", 5.89, [\"a\", \"b\", \"c\"]]\n",
    "print(b)\n",
    "print(b[5], b[-1])\n",
    "print(b[5][1]) # list 내 list도 불러옴 가능\n",
    "print(\"=\" *50)\n",
    "\n",
    "# 복사: 얕은 복사 vs 깊은 복사\n",
    "a = [1, 2, 3, 4, 5]\n",
    "b = a # 얕은 복사: 같은  data의 위치 가져옴\n",
    "b[0] = 10\n",
    "print(a, b) # b값 바꾸었더니 a값도 바뀜\n",
    "b = a[:] # 깊은 복사: 실제 data를 다시 만든다\n",
    "b[0] = 6\n",
    "print(a, b) # b값 바꾸어도 a값 바뀌지 않음\n",
    "print(\"=\" * 50)\n",
    "\n",
    "# 연산\n",
    "a = [1, 2, 3]\n",
    "b = [4, 5, 6]\n",
    "print(a + b) # 문자열처럼 연결\n",
    "print(str(a[0]) + \"hi\")\n",
    "print(\"=\" * 50)\n",
    "\n",
    "# 추가: 현재 list에 data 추가(insert(원하는 위치 지정 가능), append(무조건 맨 뒤에 추가), extend(), +=)\n",
    "a = [1, 2, 3]\n",
    "a.insert(2, 5) # 3번째 위치에 5 추가\n",
    "print(a)\n",
    "a.append([89, 6, 3]) # 맨 뒤에 89, 6, 3 추가(중첩 list로 추가)\n",
    "print(a)\n",
    "a.extend([8, 6]) # 맨 뒤에 집합 자료로만 추가(기본 list에 확장된 것으로 추가)\n",
    "print(a)\n",
    "a += [12, 13] # 집합 자료로만 추가(extend() 간단히 사용 위한 연산자)\n",
    "print(a)\n",
    "print(\"=\" * 50)\n",
    "\n",
    "# 정렬\n",
    "a = [1, 8, 9, 5, 3]\n",
    "a.sort() #오름차순 정렬\n",
    "print(a)\n",
    "a.reverse() #반전: 오름차순 정렬 후 적용(따로 내림차순 함수X)\n",
    "print(a) \n",
    "\n",
    "# 위치 찾기\n",
    "a = [5, 9, 7]\n",
    "print(a.index(7)) #index()로는 가능하나 fin d()는 못 찾음(document 참고)\n",
    "#print(a.index(3))\n",
    "\n",
    "# 제거\n",
    "a = [1, 2, 3, 1, 2, 3]\n",
    "a[0:2] = [] # 빈 대괄호\n",
    "print(a)\n",
    "a = [1, 2, 3, 1, 2, 3]\n",
    "a.remove(1) # 왼쪽부터 해당 값 하나 삭제\n",
    "print(a)\n",
    "\n",
    "del a[2] # 몇 번째 값 삭제. 적용 양식 다름\n",
    "print(a)\n",
    "\n",
    "a = [1, 2, 3]\n",
    "b = a.pop() # 맨 뒤 값 꺼내어 사용(stock 저장 방법: 가장 나중에 넣은 data값 꺼내온다)\n",
    "print(a)\n",
    "print(b)\n",
    "print(\"=\" * 50)\n",
    "\n",
    "# 포함 여부(true or false): 위치 확인x\n",
    "a = [1, 2, 3, 4, 5]\n",
    "print( 2 in a) #2가 a에 포함되어 있는가?\n",
    "print(2 not in a) #2가 a에 포함되어 있지 않은가?"
   ]
  },
  {
   "cell_type": "markdown",
   "metadata": {},
   "source": [
    "+ 튜플(tuple)\n",
    "  - 리스트와 거의 유사\n",
    "  - \"( )\" 사용\n",
    "  - 변경 불가(읽기 전용: data 보관 안정성 더 높음)\n",
    "  - 리스트보다 속도 빠르다"
   ]
  },
  {
   "cell_type": "code",
   "execution_count": 176,
   "metadata": {},
   "outputs": [
    {
     "name": "stdout",
     "output_type": "stream",
     "text": [
      "('a', 'b', 'c', 'd')\n",
      "<class 'tuple'>\n",
      "4\n",
      "1\n",
      "0\n",
      "==================================================\n",
      "['a', 'b', 'c', 'd']\n",
      "['a', 10, 'c', 'd']\n",
      "('a', 10, 'c', 'd')\n",
      "==================================================\n",
      "10 30\n",
      "==================================================\n",
      "5 10\n",
      "10 5\n"
     ]
    }
   ],
   "source": [
    "a = ('a', 'b', 'c', 'd')\n",
    "print(a)\n",
    "print(type(a))\n",
    "print(len(a))\n",
    "print(a.count('a'))\n",
    "print(a.index('a'))\n",
    "print(\"=\" * 50)\n",
    "\n",
    "#a[1] = 10\n",
    "b = list(a) # 튜플을 리스트로 바꿈(값 수정 위함)\n",
    "print(b)\n",
    "b[1] = 10\n",
    "print(b)\n",
    "c = tuple(b)\n",
    "print(c) # 리스트를 튜플로 바꿈(data 수정 보호)\n",
    "print(\"=\" * 50)\n",
    "\n",
    "#a, b, c = (10, 20, 30)\n",
    "t1 = (10, 20, 30)\n",
    "a, b, c = t1 # 개수만 맞으면 된다\n",
    "print(a, c)\n",
    "print(\"=\" * 50)\n",
    "\n",
    "# SWAP 알고리즘\n",
    "a = 10\n",
    "b = 5\n",
    "\n",
    "c = a\n",
    "a = b\n",
    "b = c\n",
    "print(a, b) # 다른 프로그램 언어에서 swap\n",
    "\n",
    "a, b = b, a\n",
    "print(a, b) # python에서 swap: 병렬수행 가능"
   ]
  },
  {
   "cell_type": "markdown",
   "metadata": {},
   "source": [
    "-----------------------------\n",
    "+ dict(dictionary)  = map(다른 언어): data 두 개씩 묶어 한 쌍으로 보관(하나는 키, 하나는 값)\n",
    "  - 검색의 용도로 data 보관할 때 사용: 값 쉽게 찾을 수 있음(값에 대한 표시 부여 가능)\n",
    "  - 순서가 없다(index 없다)\n",
    "  - key 이용하여 값 저장하거나 조회 가능\n",
    "  - \"{키:값}\" 으로 사용"
   ]
  },
  {
   "cell_type": "code",
   "execution_count": 200,
   "metadata": {},
   "outputs": [
    {
     "name": "stdout",
     "output_type": "stream",
     "text": [
      "<class 'dict'>\n",
      "김철수 0100000000 900126\n",
      "김철수 0100000000 900126\n",
      "dict_keys(['name', 'phone', 'birth'])\n",
      "dict_values(['김철수', '0100000000', '900126'])\n",
      "dict_items([('name', '김철수'), ('phone', '0100000000'), ('birth', '900126')])\n",
      "<class 'dict_items'>\n",
      "('name', '김철수')\n",
      "==================================================\n",
      "{'name': '홍길동', 'phone': '0100000000', 'birth': '900126'}\n",
      "{'name': '홍길동', 'phone': '0100000000', 'birth': '900126', 'addr': '서울시 강남구'}\n",
      "{'name': '홍길동', 'phone': '0100000000', 'addr': '서울시 강남구'}\n",
      "{}\n",
      "{'k1': 1, 'k2': 'abc', 'k3': 3.33}\n"
     ]
    }
   ],
   "source": [
    "a = {\"name\":\"김철수\", \"phone\":\"0100000000\", \"birth\":\"900126\"}\n",
    "print(type(a))\n",
    "print(a[\"name\"], a[\"phone\"], a[\"birth\"])\n",
    "print(a.get(\"name\"), a.get(\"phone\"), a.get(\"birth\")) # get() 함수 사용\n",
    "\n",
    "print(a.keys()) # 키들만 알려줌\n",
    "print(a.values()) # 값들만 알려줌\n",
    "\n",
    "print(a.items()) # 키-값을 튜플로 묶고, 전체를 리스트로 묶어 보여줌: 자료형 dict_items (새로운 자료형)\n",
    "b = a.items()\n",
    "print(type(b))\n",
    "b = list(a.items()) #dict_items의 리스트화\n",
    "print(b[0])\n",
    "print(\"=\" * 50)\n",
    "\n",
    "a[\"name\"] = \"홍길동\"\n",
    "print(a)\n",
    "a[\"addr\"] = \"서울시 강남구\" # 새로운 변수 추가\n",
    "print(a)\n",
    "\n",
    "del a[\"birth\"]\n",
    "print(a)\n",
    "\n",
    "a.clear() # 전체 삭제\n",
    "print(a)\n",
    "\n",
    "a = dict(k1=1, k2=\"abc\", k3=3.33) # dict 함수\n",
    "print(a)"
   ]
  },
  {
   "cell_type": "markdown",
   "metadata": {},
   "source": [
    "--------------------------------------------------\n",
    "+ set\n",
    "    - \"{ }\" 를 사용(key 사용X)\n",
    "    - 순서가 없다\n",
    "    - 중복된 data 사용X: 중복 제거 위한 data형으로 사용(제거 후 리스트나 튜플로 전환하여 사용)\n",
    "    - union(합집합), intersection(교집합), difference(차집합)"
   ]
  },
  {
   "cell_type": "code",
   "execution_count": 2,
   "metadata": {},
   "outputs": [
    {
     "name": "stdout",
     "output_type": "stream",
     "text": [
      "{1, 2, 3, 9}\n",
      "4\n",
      "<class 'set'>\n",
      "==================================================\n",
      "{4, 5, 6}\n",
      "{4, 5, 6}\n",
      "{1, 2, 3, 4, 5, 6, 7, 8}\n",
      "{1, 2, 3, 4, 5, 6, 7, 8}\n",
      "{1, 2, 3}\n",
      "{1, 2, 3}\n",
      "==================================================\n",
      "{1, 2, 3, 4, 5, 6, 7, 8}\n",
      "{1, 2, 3, 4, 5, 6, 7, 8, 9}\n",
      "{2, 3, 4, 5, 6, 7, 8, 9}\n",
      "{2, 3, 4, 5, 6, 7, 8, 9}\n",
      "==================================================\n",
      "{1, 2, 3, 4, 8}\n",
      "<class 'set'>\n",
      "<class 'list'>\n",
      "[1, 2, 3, 4, 8]\n"
     ]
    }
   ],
   "source": [
    "a = {1, 3, 9, 1, 2}\n",
    "print(a) # 중복 data 입력X\n",
    "print(len(a))\n",
    "print(type(a))\n",
    "print(\"=\" * 50)\n",
    "\n",
    "s1 = {1, 2, 3, 4, 5, 6}\n",
    "s2 = {4, 5, 6, 7, 8}\n",
    "print(s1.intersection(s2))\n",
    "print(s1 & s2) # and연산자(&연산자): 둘 다 참일 경우 True \n",
    "\n",
    "print(s1.union(s2))\n",
    "print(s1 | s2) # or연산자(|연산자): 둘 중 하나라도 참일 경우 True\n",
    "\n",
    "print(s1.difference(s2))\n",
    "print(s1 - s2)\n",
    "print(\"=\" * 50)\n",
    "\n",
    "# 여러 개 추가\n",
    "s1.update({7, 8})\n",
    "print(s1)\n",
    "\n",
    "# 한 개 추가\n",
    "s1.add(9)\n",
    "print(s1)\n",
    "\n",
    "#삭제\n",
    "s1.remove(1) # 삭제하고자 하는 data 없는 경우 에러 발생\n",
    "print(s1)\n",
    "\n",
    "s1.discard(10) # 삭제하고자 하는 data 없는 경우에도 그냥 실행(에러 발생X)\n",
    "print(s1)\n",
    "print(\"=\" * 50)\n",
    "\n",
    "a = set()\n",
    "b = [1, 2, 3, 4, 4, 8, 2, 1]\n",
    "a = set(b)\n",
    "print(a)\n",
    "print(type(a))\n",
    "b = list(a)\n",
    "print(type(b))\n",
    "print(b)"
   ]
  },
  {
   "cell_type": "markdown",
   "metadata": {},
   "source": [
    "# 연산자\n",
    "    \"()\" 사용하여 연산 우선순위 부여\n",
    "    모양만 보고 판단하지 말것(주변 자료형 및 문장 흐름 고려) ex) str + str = 연결\n",
    "\n",
    "## 산술 연산자\n",
    "\n",
    "    +, -, *, /(몫), %(나머지), //(몫의 정수값만), **(지수 승-python)\n",
    "\n",
    "## 비교 연산자: 참/거짓 판단(bool형)\n",
    "\n",
    "    <, >, <=, >=, ==, !=(같지 않음)\n",
    "    \n",
    "## 논리 연산자(문자만: &와 |은 논리 연산자x): bool형: 10진수 대응\n",
    "    단락회로 연산자(불필요한 연산 더이상 진행x)\n",
    "    and, or, not(단항 연산자, 토글 연산자(하나의 키로 두 가지 기능 반전))\n",
    "    \n",
    "## 대입(치환) 연산자\n",
    "\n",
    "    =, +=(복합치환연산자: 누적), -=, *=, /=, ...\n",
    "    \n",
    "----------------------------------------------------------------------------------\n",
    "\n",
    "## 포함 여부 연산자\n",
    "\n",
    "    in, not in\n",
    "    \n",
    "## 비트 연산자: 2진수로 계산(일반적으로 연산속도 더 빠름(예외. 단락회로 연산자))\n",
    "\n",
    "    &(and), |(or), ^(xor), <<, >>, ~\n",
    "    \n",
    "    ? ^(xor: 배타적or): 서로 다를 때(배타적일 때) True. Data 암호화/복구에 사용\n",
    "      a     b     a&b     a|b     a^b\n",
    "      -------------------------------------\n",
    "      T     T      T       T       F\n",
    "      T     F      F       T       T\n",
    "      F     T      F       T       T\n",
    "      F     F      F       F       F"
   ]
  },
  {
   "cell_type": "code",
   "execution_count": 1,
   "metadata": {},
   "outputs": [
    {
     "name": "stdout",
     "output_type": "stream",
     "text": [
      "2.142857142857143\n",
      "2\n",
      "32\n"
     ]
    }
   ],
   "source": [
    "print(15/7)\n",
    "print(15//7)\n",
    "print(2**5)"
   ]
  },
  {
   "cell_type": "code",
   "execution_count": 5,
   "metadata": {},
   "outputs": [
    {
     "name": "stdout",
     "output_type": "stream",
     "text": [
      "3\n",
      "False\n",
      "False\n",
      "4\n"
     ]
    }
   ],
   "source": [
    "print(12 and 3)  \n",
    "print(12>5 and 3>5)  # and 사이에 참/거짓 판단 가능한 수식이 들어가야 함\n",
    "print(12>5 & 3>5)  # 비트연산자: 성능면에서 더 유리\n",
    "print(12 & 6)  # 10진수를 2진수로 변환하여 계산. 결과값 다시 10진수로 변환하여 출력"
   ]
  },
  {
   "cell_type": "code",
   "execution_count": 7,
   "metadata": {},
   "outputs": [
    {
     "name": "stdout",
     "output_type": "stream",
     "text": [
      "암호화:  85272500\n",
      "password:  64528\n"
     ]
    }
   ],
   "source": [
    "# ^ 사용 예제\n",
    "password = 64528\n",
    "key = 85318564\n",
    "\n",
    "encode = password^key\n",
    "print(\"암호화: \", encode)\n",
    "\n",
    "decode = encode^key\n",
    "print(\"password: \", decode)"
   ]
  },
  {
   "cell_type": "code",
   "execution_count": 9,
   "metadata": {},
   "outputs": [
    {
     "name": "stdout",
     "output_type": "stream",
     "text": [
      "1 2 [3, 4, 5, 6]\n"
     ]
    }
   ],
   "source": [
    "# a, b, c = [1, 2, 3]\n",
    "a, b, *c = [1, 2, 3, 4, 5, 6]  # a=1, b=2, 나머지 값은 전부 c (하나만 사용 가능)\n",
    "print(a, b, c)"
   ]
  },
  {
   "cell_type": "code",
   "execution_count": 16,
   "metadata": {},
   "outputs": [
    {
     "name": "stdout",
     "output_type": "stream",
     "text": [
      "True True False False\n",
      "False\n"
     ]
    }
   ],
   "source": [
    "print(bool(\"hello\"), bool(10), bool(\"\"), bool([]))  # 값이 있는 경우 True, 없을 경우 False\n",
    "print(bool(None))  # 아직 어떤 주소도 할당하지 않음(변수만 미리 준비) a=None"
   ]
  },
  {
   "cell_type": "markdown",
   "metadata": {},
   "source": [
    "## 입력 기능"
   ]
  },
  {
   "cell_type": "code",
   "execution_count": 21,
   "metadata": {},
   "outputs": [
    {
     "name": "stdout",
     "output_type": "stream",
     "text": [
      "당신의 이름은홍길동\n",
      "안녕하세요 홍길동 님!\n"
     ]
    }
   ],
   "source": [
    "name = input(\"당신의 이름은\")\n",
    "print(\"안녕하세요\", name, \"님!\")"
   ]
  },
  {
   "cell_type": "code",
   "execution_count": 27,
   "metadata": {},
   "outputs": [
    {
     "name": "stdout",
     "output_type": "stream",
     "text": [
      "첫번째 숫자5\n",
      "두번째 숫자9\n",
      "결과:  14\n"
     ]
    }
   ],
   "source": [
    "num1 = int(input(\"첫번째 숫자\"))\n",
    "num2 = int(input(\"두번째 숫자\"))\n",
    "print(\"결과: \", num1 + num2)"
   ]
  },
  {
   "cell_type": "markdown",
   "metadata": {},
   "source": [
    "### 동전 교환 프로그램\n",
    "\n",
    "교환할 돈은 얼마입니까? 2760 (엔터)\n",
    "\n",
    "오백원짜리 ==> ?개\n",
    "\n",
    "백원짜리 ==> ?개\n",
    "\n",
    "오십원짜리 ==> ?개\n",
    "\n",
    "십원짜리 ==> ?개\n",
    "\n",
    "나머지 바꾸지 못한 잔돈 ==> ?원"
   ]
  },
  {
   "cell_type": "code",
   "execution_count": 4,
   "metadata": {},
   "outputs": [
    {
     "name": "stdout",
     "output_type": "stream",
     "text": [
      "교환할 돈은 얼마입니까? : 26570\n",
      "오백원짜리 ==>  53 개\n",
      "백원짜리 ==>  0 개\n",
      "오십원짜리 ==>  1 개\n",
      "십원짜리 ==>  2 개\n",
      "나머지 바꾸지 못한 잔돈 ==>  0 원\n"
     ]
    }
   ],
   "source": [
    "money = int(input(\"교환할 돈은 얼마입니까? : \"))\n",
    "\n",
    "c500 = money // 500\n",
    "money %= 500\n",
    "\n",
    "c100 = money // 100\n",
    "money %= 100\n",
    "\n",
    "c50 = money // 50\n",
    "money %= 50\n",
    "\n",
    "c10 = money // 10\n",
    "money %= 10\n",
    "\n",
    "print(\"오백원짜리 ==> \", c500, \"개\")\n",
    "print(\"백원짜리 ==> \", c100, \"개\")\n",
    "print(\"오십원짜리 ==> \", c50, \"개\")\n",
    "print(\"십원짜리 ==> \", c10, \"개\")\n",
    "print(\"나머지 바꾸지 못한 잔돈 ==> \", money, \"원\")"
   ]
  },
  {
   "cell_type": "code",
   "execution_count": 47,
   "metadata": {},
   "outputs": [
    {
     "name": "stdout",
     "output_type": "stream",
     "text": [
      "교환할 돈은 얼마입니까?2760\n",
      "오백원짜리 ==> 5개\n"
     ]
    }
   ],
   "source": [
    "money, c500, c100, c50, c10 = 0, 0, 0, 0, 0\n",
    "money = int(input(\"교환할 돈은 얼마입니까? : \", \"원\"))\n",
    "\n",
    "c500 = money // 500\n",
    "money %= 500\n",
    "\n",
    "c100 = money // 100\n",
    "money %= 100\n",
    "print(\"오백원짜리 ==> %d개\" %c500)"
   ]
  },
  {
   "cell_type": "code",
   "execution_count": null,
   "metadata": {},
   "outputs": [],
   "source": []
  }
 ],
 "metadata": {
  "kernelspec": {
   "display_name": "Python 3",
   "language": "python",
   "name": "python3"
  },
  "language_info": {
   "codemirror_mode": {
    "name": "ipython",
    "version": 3
   },
   "file_extension": ".py",
   "mimetype": "text/x-python",
   "name": "python",
   "nbconvert_exporter": "python",
   "pygments_lexer": "ipython3",
   "version": "3.6.8"
  }
 },
 "nbformat": 4,
 "nbformat_minor": 2
}
