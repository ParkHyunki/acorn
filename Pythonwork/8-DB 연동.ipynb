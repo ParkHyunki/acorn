{
 "cells": [
  {
   "cell_type": "markdown",
   "metadata": {},
   "source": [
    "# MySQL 연결\n",
    "\n",
    "+ 일반 사용자와 DB를 파이썬 프로그램으로 연결: 일반 사용자  - (파이썬) - (Library 프로그램) -  DB"
   ]
  },
  {
   "cell_type": "code",
   "execution_count": 1,
   "metadata": {},
   "outputs": [
    {
     "name": "stdout",
     "output_type": "stream",
     "text": [
      "Collecting mysqlclient\n",
      "  Downloading https://files.pythonhosted.org/packages/64/46/3811fe37b1e1a39d6c47f44957cdae9c207bc23bf6c22ebb1d7a6892a55f/mysqlclient-1.4.4-cp37-cp37m-win_amd64.whl (178kB)\n",
      "Installing collected packages: mysqlclient\n",
      "Successfully installed mysqlclient-1.4.4\n"
     ]
    }
   ],
   "source": [
    "# pip install mysqlclient: Library 프로그램 설치\n",
    "\n",
    "!pip install mysqlclient"
   ]
  },
  {
   "cell_type": "code",
   "execution_count": 2,
   "metadata": {},
   "outputs": [],
   "source": [
    "import MySQLdb"
   ]
  },
  {
   "cell_type": "code",
   "execution_count": 5,
   "metadata": {
    "scrolled": true
   },
   "outputs": [
    {
     "name": "stdout",
     "output_type": "stream",
     "text": [
      "<_mysql.connection open to '127.0.0.1' at 00000000046D77B8>\n"
     ]
    }
   ],
   "source": [
    "config={\"host\":\"127.0.0.1\", \"user\":\"root\", \"password\":\"1111\", \"database\":\"testdb\"}  # testdb 접속.\n",
    "conn = MySQLdb.connect(**config)  # 가변인수로 받아 사용\n",
    "print(conn)  # 접속 확인(주소값)\n",
    "\n",
    "conn.close()  # 사용 후 반드시 종료 필요"
   ]
  },
  {
   "cell_type": "markdown",
   "metadata": {},
   "source": [
    "### SELECT 관련"
   ]
  },
  {
   "cell_type": "code",
   "execution_count": 45,
   "metadata": {},
   "outputs": [
    {
     "name": "stdout",
     "output_type": "stream",
     "text": [
      "<MySQLdb.cursors.Cursor object at 0x00000000052775F8>\n",
      "7369 SMITH 800.0 CLERK 20\n",
      "7499 ALLEN 1600.0 SALESMAN 30\n",
      "7521 WARD 1250.0 SALESMAN 30\n",
      "7566 JONES 2975.0 MANAGER 20\n",
      "7654 MARTIN 1250.0 SALESMAN 30\n",
      "7698 BLAKE 2850.0 MANAGER 30\n",
      "7782 CLARK 2450.0 MANAGER 10\n",
      "7788 SCOTT 3000.0 ANALYST 20\n",
      "7839 KING 5000.0 PRESIDENT 10\n",
      "7844 TURNER 1500.0 SALESMAN 30\n",
      "7876 ADAMS 1100.0 CLERK 20\n",
      "7900 JAMES 950.0 CLERK 30\n",
      "7902 FORD 3000.0 ANALYST 20\n",
      "7934 MILLER 1300.0 CLERK 10\n"
     ]
    }
   ],
   "source": [
    "\n",
    "conn = MySQLdb.connect(**config)\n",
    "cur = conn.cursor()  # cursor(): 데이터 조작 위한 위치로.\n",
    "                     # cur 변수에서 모든 작업 가능\n",
    "print(cur)  # 접속 확인(주소값)\n",
    "\n",
    "sql = \"select empno, ename, sal, job, deptno from scott_emp\"  # 명령어 준비\n",
    "cur.execute(sql)  # execute(): 현재 명령어를 db에 전달하여 결과값 받아와 cur 객체에 저장\n",
    "\n",
    "# for data in cur:  # data가 여러 개이므로 반복문 사용\n",
    "#     print(data)  # tuple로 가져온다\n",
    "#     print(\"%d, %s, %d, %s, %d\" %data)  # data 하나씩 가져온다\n",
    "\n",
    "for (empno, ename, sal, job, deptno) in cur:\n",
    "    print(empno, ename, sal, job, deptno)  # data 가져오는 다른 방법\n",
    "    \n",
    "conn.close()"
   ]
  },
  {
   "cell_type": "markdown",
   "metadata": {},
   "source": [
    "### INSERT 관련"
   ]
  },
  {
   "cell_type": "code",
   "execution_count": 17,
   "metadata": {},
   "outputs": [],
   "source": [
    "# values 값 직접 넣기\n",
    "\n",
    "conn = MySQLdb.connect(**config)\n",
    "cur = conn.cursor()\n",
    "\n",
    "sql = \"\"\"insert into scott_emp(empno, ename, sal, job, mgr, deptno, hiredate) \n",
    "            values(1, 'Tom', 7000, 'clerk', 7788, 20, now())\"\"\"\n",
    "\n",
    "cur.execute(sql)  # DML 작업(insert, update, delete)는 항상 끝에 conn.commit() 사용\n",
    "conn.commit()\n",
    "\n",
    "conn.close()"
   ]
  },
  {
   "cell_type": "code",
   "execution_count": 25,
   "metadata": {},
   "outputs": [],
   "source": [
    "# values 값들의 변수 처리\n",
    "\n",
    "conn = MySQLdb.connect(**config)\n",
    "cur = conn.cursor()\n",
    "\n",
    "v_empno = 2\n",
    "v_ename = 'Jane'\n",
    "v_sal = 1000\n",
    "\n",
    "sql = \"insert into scott_emp(empno, ename, sal) values(\" + str(v_empno) + \", '\" + v_ename + \"', \" \\\n",
    "        + str(v_sal) + \")\"\n",
    "  # 변수 이용하여 values 값 처리. 변수값 입력 위해 \"\"로 문자 입력 끊고 +로 연결(구분 처리 중요)\n",
    "print(sql)  # Query 이상 없는지 확인 필요. v_ename 문자열 인식 위해 '' 추가\n",
    "\n",
    "cur.execute(sql) \n",
    "conn.commit()\n",
    "\n",
    "conn.close()\n",
    "\n",
    "# Query문에 직접 입력: 불편 + 보안취약(SQL Injection 해킹 공격에 취약)"
   ]
  },
  {
   "cell_type": "code",
   "execution_count": 28,
   "metadata": {},
   "outputs": [],
   "source": [
    "# sql 코드의 단순화: 값의 자리 마련 후 따로 전달\n",
    "\n",
    "conn = MySQLdb.connect(**config)\n",
    "cur = conn.cursor()\n",
    "\n",
    "v_empno = 3\n",
    "v_ename = 'John'\n",
    "v_sal = 600\n",
    "\n",
    "sql = \"insert into scott_emp(empno, ename, sal) values(%s, %s, %s)\"  # 값 자리 마련\n",
    "\n",
    "sql_data = (str(v_empno), str(v_ename), str(v_sal))\n",
    "cur.execute(sql, sql_data)  # 변수 따로 선언하여 values 값에 전달\n",
    "\n",
    "conn.commit()\n",
    "\n",
    "conn.close()"
   ]
  },
  {
   "cell_type": "markdown",
   "metadata": {},
   "source": [
    "### DELETE 관련: INSERT와 동일"
   ]
  },
  {
   "cell_type": "code",
   "execution_count": 31,
   "metadata": {},
   "outputs": [],
   "source": [
    "\n",
    "conn = MySQLdb.connect(**config)\n",
    "cur = conn.cursor()\n",
    "\n",
    "sql = \"delete from scott_emp where empno between 1 and 3\"\n",
    "\n",
    "cur.execute(sql)\n",
    "conn.commit()\n",
    "\n",
    "conn.close()"
   ]
  },
  {
   "cell_type": "markdown",
   "metadata": {},
   "source": [
    "## MySQL 활용 예제\n",
    "\n",
    "+ 파일 형식의 데이터를 받아 DB에 저장\n",
    "\n",
    "+ DB 접속하여 테이블 작성\n",
    "\n",
    "    CREATE TABLE IF NOT EXISTS suppliers(\n",
    "        Supplier_Name varchar(20),\n",
    "        Invoice_Number varchar(20),\n",
    "        Part_Number varchar(20),\n",
    "        Cost float,\n",
    "        Purchase_Date date\n",
    "    );\n",
    "    \n",
    "  cf. IF NOT EXISTS: (테이블을 만들 때)데이터의 값이 있으면 업데이트, 없으면 새로 만들어라"
   ]
  },
  {
   "cell_type": "code",
   "execution_count": 38,
   "metadata": {},
   "outputs": [],
   "source": [
    "import csv  # csv 파일 전문적으로 다루는 모듈. 작업 편이성 위해 import\n",
    "import datetime  # 날짜 전문적으로 다루는 모듈. 작업 편이성 위해 import\n",
    "from datetime import datetime  # 파일 이름과 클래스명 같아 축소 사용 위해\n",
    "                                # datetime 모듈로부터 datetime 클래스를 가져온다\n",
    "\n",
    "conn = MySQLdb.connect(**config)\n",
    "cur = conn.cursor()\n",
    "\n",
    "sql = \"delete from suppliers\"  # 기존 내용 삭제\n",
    "\n",
    "cur.execute(sql)\n",
    "conn.commit()\n",
    "\n",
    "conn.close()"
   ]
  },
  {
   "cell_type": "code",
   "execution_count": 39,
   "metadata": {},
   "outputs": [],
   "source": [
    "\n",
    "conn = MySQLdb.connect(**config)\n",
    "cur = conn.cursor()\n",
    "\n",
    "file = csv.reader(open(\"data/input.csv\", \"r\"))  # reader(): 기존 함수 기능 + 새로운 기능 추가 사용\n",
    "                                                # 파이썬 기본 함수인 open()에 기능을 추가해서 사용하기 위함\n",
    "#print(file)  확인\n",
    "\n",
    "header = next(file)  # file의 한 줄을 불러와(next(file)) 제목으로 저장\n",
    "#print(header)  확인\n",
    "\n",
    "for row in file:\n",
    "    #print(row)  확인. DB 전달 용이성 위해 데이터 다듬기 필요(문자형으로 입력된 날짜를 날짜형식으로 변환)\n",
    "    data = []\n",
    "    for col in range(len(header)):  # header의 개수만큼 반복(column의 개수 만큼 = 5번)\n",
    "        if col == 4:  # header의 5번째 위치(날짜값)에 온다면\n",
    "            tmp = datetime.strptime(row[col], \"%Y-%m-%d\")  # strptime(대상, 양식): 문자형 날짜를 날짜형으로 변환시키는 함수\n",
    "            data.append(tmp)\n",
    "        else:\n",
    "            data.append(row[col])  # 아니라면 그대로 출력\n",
    "            \n",
    "    #print(data) 확인\n",
    "    cur.execute(\"insert into suppliers values(%s, %s, %s, %s, %s)\", data)  # 문자형 날짜를 날짜형으로 변환(위 과정 축약)\n",
    "    \n",
    "conn.commit()\n",
    "conn.close()"
   ]
  },
  {
   "cell_type": "code",
   "execution_count": 40,
   "metadata": {},
   "outputs": [
    {
     "name": "stdout",
     "output_type": "stream",
     "text": [
      "('A', '001-1001', '2341', 500000.0, datetime.date(2014, 1, 20))\n",
      "('A', '001-1002', '2341', 500000.0, datetime.date(2014, 1, 20))\n",
      "('A', '001-1003', '5467', 750000.0, datetime.date(2014, 1, 20))\n",
      "('A', '001-1004', '5467', 750000.0, datetime.date(2014, 1, 20))\n",
      "('B', '001-1005', '7009', 250000.0, datetime.date(2018, 1, 30))\n",
      "('B', '001-1006', '7009', 250000.0, datetime.date(2018, 1, 30))\n",
      "('B', '001-1007', '6650', 125000.0, datetime.date(2017, 2, 3))\n",
      "('B', '001-1008', '6650', 125000.0, datetime.date(2017, 2, 3))\n",
      "('C', '001-1009', '3321', 615000.0, datetime.date(2017, 2, 3))\n",
      "('C', '001-1010', '3321', 615000.0, datetime.date(2017, 2, 10))\n",
      "('C', '001-1011', '3321', 615000.0, datetime.date(2017, 2, 17))\n",
      "('C', '001-1012', '3321', 615000.0, datetime.date(2017, 2, 24))\n"
     ]
    }
   ],
   "source": [
    "\n",
    "conn = MySQLdb.connect(**config)\n",
    "cur = conn.cursor() \n",
    "\n",
    "sql = \"select * from suppliers\"\n",
    "cur.execute(sql) \n",
    "\n",
    "for data in cur:  \n",
    "    print(data) \n",
    "    \n",
    "conn.close()"
   ]
  },
  {
   "cell_type": "code",
   "execution_count": 44,
   "metadata": {},
   "outputs": [],
   "source": [
    "conn = MySQLdb.connect(**config)\n",
    "cur = conn.cursor() \n",
    "\n",
    "cur.execute(\"select * from suppliers where cost>500000\")\n",
    "file = csv.writer(open(\"data/output.csv\", \"w\"), delimiter=\",\")  # writer(): csv로 저장하기 위한 함수\n",
    "                                                                # delimiter 구분 기호 결정\n",
    "                                                                # DB 에서 가져오는 즉시 file로 저장\n",
    "\n",
    "header = [\"Supplier Name\", \"Invoice Number\", \"Part Number\", \"Cost\", \"Purchase Date\"]\n",
    "file.writerow(header)  # header 통해 제목만 저장\n",
    "\n",
    "for row in cur:\n",
    "    file.writerow(row)\n",
    "\n",
    "conn.close()"
   ]
  },
  {
   "cell_type": "code",
   "execution_count": null,
   "metadata": {},
   "outputs": [],
   "source": []
  },
  {
   "cell_type": "markdown",
   "metadata": {},
   "source": [
    "---\n",
    "\n",
    "# SQLite 연결"
   ]
  },
  {
   "cell_type": "code",
   "execution_count": 2,
   "metadata": {},
   "outputs": [
    {
     "name": "stdout",
     "output_type": "stream",
     "text": [
      "3.29.0\n"
     ]
    }
   ],
   "source": [
    "import sqlite3  # 내장되어 있어 설치x. import 통해 불러옴\n",
    "print(sqlite3.sqlite_version)  "
   ]
  },
  {
   "cell_type": "code",
   "execution_count": 52,
   "metadata": {},
   "outputs": [
    {
     "name": "stdout",
     "output_type": "stream",
     "text": [
      "<sqlite3.Connection object at 0x0000000004F1CE30>\n",
      "<sqlite3.Cursor object at 0x0000000005286880>\n"
     ]
    }
   ],
   "source": [
    "conn = sqlite3.connect(\"data/mysqlite.db\")  # sqlite=계정x. connect(연결할 db): 파일 기반이기 때문에 없으면 자동으로 db 생성\n",
    "                                            # DB 접속\n",
    "print(conn)\n",
    "\n",
    "cur = conn.cursor()  # 접속한 DB 사용 위해 cursor() 통한 객체 생성\n",
    "print(cur)\n",
    "\n",
    "conn.close()"
   ]
  },
  {
   "cell_type": "markdown",
   "metadata": {},
   "source": [
    "### SELECT 관련"
   ]
  },
  {
   "cell_type": "code",
   "execution_count": 3,
   "metadata": {},
   "outputs": [
    {
     "name": "stdout",
     "output_type": "stream",
     "text": [
      "(1, '홍길동', '2019-1-1')\n",
      "(2, '임꺽정', '2017-9-4')\n"
     ]
    }
   ],
   "source": [
    "\n",
    "conn = sqlite3.connect(\"data/mysqlite.db\") \n",
    "cur = conn.cursor()\n",
    "\n",
    "sql = \"select * from member\"\n",
    "cur.execute(sql)\n",
    "\n",
    "for row in cur:\n",
    "    print(row)\n",
    "\n",
    "conn.close()"
   ]
  },
  {
   "cell_type": "code",
   "execution_count": 3,
   "metadata": {},
   "outputs": [
    {
     "name": "stdout",
     "output_type": "stream",
     "text": [
      "['Supplier Name', 'Invoice Number', 'Part Number', 'Cost', 'Purchase Date']\n"
     ]
    }
   ],
   "source": [
    "\n",
    "import csv\n",
    "\n",
    "file = csv.reader(open(\"data/input.csv\", \"r\"), delimiter = \",\")\n",
    "header = next(file)\n",
    "    # next 선언 했기 때문에 file의 첫 줄은 데이터로 분류되지 않고 제목으로 분류\n",
    "    # next 선언 전: 0번째=supplier name / next 선언 후: 1번째=A\n",
    "print(header)\n",
    "\n",
    "conn = sqlite3.connect(\"data/sqlite_test.db\") \n",
    "cur = conn.cursor()\n",
    "\n",
    "for row in file:  # input.csv에 있는 데이터 개수만큼 반복\n",
    "    data = []\n",
    "    for col in range(len(header)):  # 컬럼 5개를 모아서 data 리스트에 저장\n",
    "        data.append(row[col])  \n",
    "        \n",
    "    cur.execute(\"insert into suppliers values(?, ?, ?, ?, ?)\", data)  # MySQL values(%s, %s,..), SQLite values(?, ?,..)\n",
    "    \n",
    "conn.commit()\n",
    "conn.close()"
   ]
  },
  {
   "cell_type": "code",
   "execution_count": null,
   "metadata": {},
   "outputs": [],
   "source": [
    "for row in file:\n",
    "    # 1. row = A, 001, 1001, 2341, 500000, 2014-01-20\n",
    "    # 5. file 변수의 input.csv 데이터 개수만큼 반복\n",
    "   \n",
    "    data = []\n",
    "    for col in range(len(header)):\n",
    "        # 2. col = 0번째\n",
    "        data.append(row[col])\n",
    "            # 3-1. data 변수에 추가: row의 0번째 데이터를\n",
    "            # 3-2. 반복. row의 1번째 데이터를 data 변수에 추가~ 5번째 데이터까지\n",
    "            # 3-3. 5번째 데이터까지 끝나면 반복 종료\n",
    "    cur.execute(\"insert into suppliers values(?, ?, ?, ?, ?)\", data)\n",
    "    # 4. data에 저장한 데이터들을 양식에 맞춰 suppliers 테이블의 값에 넣는다\n",
    "    \n"
   ]
  },
  {
   "cell_type": "code",
   "execution_count": 5,
   "metadata": {},
   "outputs": [
    {
     "name": "stdout",
     "output_type": "stream",
     "text": [
      "('A', '001-1001', '2341', 500000.0, '2014-01-20')\n",
      "('A', '001-1002', '2341', 500000.0, '2014-01-20')\n",
      "('A', '001-1003', '5467', 750000.0, '2014-01-20')\n",
      "('A', '001-1004', '5467', 750000.0, '2014-01-20')\n",
      "('B', '001-1005', '7009', 250000.0, '2018-01-30')\n",
      "('B', '001-1006', '7009', 250000.0, '2018-01-30')\n",
      "('B', '001-1007', '6650', 125000.0, '2017-02-03')\n",
      "('B', '001-1008', '6650', 125000.0, '2017-02-03')\n",
      "('C', '001-1009', '3321', 615000.0, '2017-02-03')\n",
      "('C', '001-1010', '3321', 615000.0, '2017-02-10')\n",
      "('C', '001-1011', '3321', 615000.0, '2017-02-17')\n",
      "('C', '001-1012', '3321', 615000.0, '2017-02-24')\n"
     ]
    }
   ],
   "source": [
    "conn = sqlite3.connect(\"data/sqlite_test.db\") \n",
    "cur = conn.cursor()\n",
    "\n",
    "sql = \"select * from suppliers\"\n",
    "cur.execute(sql)\n",
    "\n",
    "for row in cur:\n",
    "    print(row)\n",
    "\n",
    "conn.close()"
   ]
  },
  {
   "cell_type": "code",
   "execution_count": 10,
   "metadata": {},
   "outputs": [
    {
     "name": "stdout",
     "output_type": "stream",
     "text": [
      "('A', '001-1003', '5467', 750000.0, '2014-01-20')\n",
      "A 001-1003\n",
      "------------------------------\n",
      "('A', '001-1001', '2341', 500000.0, '2014-01-20')\n",
      "('A', '001-1002', '2341', 500000.0, '2014-01-20')\n"
     ]
    }
   ],
   "source": [
    "# 일부 데이터 조회 (메서드 사용)\n",
    "\n",
    "conn = sqlite3.connect(\"data/sqlite_test.db\") \n",
    "cur = conn.cursor()\n",
    "\n",
    "sql = \"select * from suppliers\"\n",
    "cur.execute(sql)\n",
    "\n",
    "rows = cur.fetchmany(2)  # cur객체 내 전체 데이터 중 2개의 레코드만 가져온다\n",
    "                         # fetchmany(): 원하는 개수만큼 레코드를 가져온다\n",
    "                         # MySQL = select * from suppliers limit 2\n",
    "for row in rows:\n",
    "    print(row)\n",
    "        \n",
    "rows1 = cur.fetchone()  # fetchone(): 하나의 레코드만 가져온다(인자 필요x)\n",
    "print(rows1)\n",
    "print(rows1[0], rows1[1])\n",
    "print(\"-\" * 30)\n",
    "\n",
    "conn.close()"
   ]
  },
  {
   "cell_type": "code",
   "execution_count": null,
   "metadata": {},
   "outputs": [],
   "source": [
    "'''\n",
    "1. mysql의 scott_emp 테이블을 emp.csv로 저장\n",
    "\n",
    "2. scott_emp 테이블 이용해서 아래와 같은 프로그램 작성\n",
    "    1) 연결할 db 종류 선택:\n",
    "        1. mysql\n",
    "        2. sqlite\n",
    "        \n",
    "    2) 연결할 주소와 계정 입력(mysql):\n",
    "        주소: xxx.xxx.xxx.xxx\n",
    "        아이디: xxxx\n",
    "        패스워드: xxxx\n",
    "        \n",
    "    3) 메뉴 선택:\n",
    "        1. 조회\n",
    "        2. 입력\n",
    "        3. 수정\n",
    "        4. 삭제\n",
    "'''"
   ]
  },
  {
   "cell_type": "code",
   "execution_count": 1,
   "metadata": {},
   "outputs": [
    {
     "ename": "IndentationError",
     "evalue": "unexpected indent (<ipython-input-1-699ee3f27df4>, line 12)",
     "output_type": "error",
     "traceback": [
      "\u001b[1;36m  File \u001b[1;32m\"<ipython-input-1-699ee3f27df4>\"\u001b[1;36m, line \u001b[1;32m12\u001b[0m\n\u001b[1;33m    if host == 127.0.0.1, user == \"root\", password == 1111:\u001b[0m\n\u001b[1;37m    ^\u001b[0m\n\u001b[1;31mIndentationError\u001b[0m\u001b[1;31m:\u001b[0m unexpected indent\n"
     ]
    }
   ],
   "source": [
    "import MySQLdb\n",
    "config={\"host\":\"127.0.0.1\", \"user\":\"root\", \"password\":\"1111\", \"database\":\"testdb\"}  # testdb 접속.\n",
    "conn = MySQLdb.connect(**config)\n",
    "\n",
    "Database = input(\"연결할 db 종류 선택(1.MySQL, 2.SQLite): \")\n",
    "\n",
    "if Database == 1:\n",
    "    host = input(\"연결할 주소: \")\n",
    "    user = input(\"아이디 입력: \")\n",
    "    password = input(\"패스워드 입력: \")\n",
    "\n",
    "            \n",
    "        \n",
    "    "
   ]
  },
  {
   "cell_type": "markdown",
   "metadata": {},
   "source": [
    "---\n",
    "\n",
    "# MongoDB"
   ]
  },
  {
   "cell_type": "code",
   "execution_count": 1,
   "metadata": {},
   "outputs": [
    {
     "name": "stdout",
     "output_type": "stream",
     "text": [
      "Collecting pymongo\n",
      "  Downloading https://files.pythonhosted.org/packages/c9/36/715c4ccace03a20cf7e8f15a670f651615744987af62fad8b48bea8f65f9/pymongo-3.9.0-cp37-cp37m-win_amd64.whl (351kB)\n",
      "Installing collected packages: pymongo\n",
      "Successfully installed pymongo-3.9.0\n"
     ]
    }
   ],
   "source": [
    "# pip install pymongo\n",
    "!pip install pymongo"
   ]
  },
  {
   "cell_type": "code",
   "execution_count": 4,
   "metadata": {},
   "outputs": [],
   "source": [
    "#import pymongo\n",
    "from pymongo import MongoClient"
   ]
  },
  {
   "cell_type": "code",
   "execution_count": 6,
   "metadata": {},
   "outputs": [
    {
     "name": "stdout",
     "output_type": "stream",
     "text": [
      "MongoClient(host=['127.0.0.1:27017'], document_class=dict, tz_aware=False, connect=True)\n"
     ]
    }
   ],
   "source": [
    "#conn = MongoClient(\"127.0.0.1\", 27017)  # 27017 = 포트번호\n",
    "conn = MongoClient(\"mongodb://127.0.0.1:27017\")  # 서버 연결\n",
    "print(conn)\n",
    "\n",
    "conn.close()"
   ]
  },
  {
   "cell_type": "code",
   "execution_count": 10,
   "metadata": {},
   "outputs": [
    {
     "name": "stdout",
     "output_type": "stream",
     "text": [
      "Database(MongoClient(host=['127.0.0.1:27017'], document_class=dict, tz_aware=False, connect=True), 'testdb')\n"
     ]
    }
   ],
   "source": [
    "conn = MongoClient(\"mongodb://127.0.0.1:27017\")\n",
    "#db = conn.testdb  # testdb와 연결\n",
    "#db = conn[\"testdb\"]\n",
    "db = conn.get_database(\"testdb\")  # get_database() 메서드 이용한 testdb연결\n",
    "print(db)\n",
    "\n",
    "conn.close()"
   ]
  },
  {
   "cell_type": "code",
   "execution_count": 17,
   "metadata": {},
   "outputs": [
    {
     "name": "stdout",
     "output_type": "stream",
     "text": [
      "Collection(Database(MongoClient(host=['127.0.0.1:27017'], document_class=dict, tz_aware=False, connect=True), 'testdb'), 'articles')\n"
     ]
    }
   ],
   "source": [
    "conn = MongoClient(\"mongodb://127.0.0.1:27017\")  # 서버연결\n",
    "db = conn.get_database(\"testdb\")  # db연결\n",
    "#collect = db.articles  # 컬렉션 연결\n",
    "#collect = db[\"articles\"]\n",
    "collect = db.get_collection(\"articles\")\n",
    "print(collect)\n",
    "\n",
    "conn.close()"
   ]
  },
  {
   "cell_type": "code",
   "execution_count": 18,
   "metadata": {},
   "outputs": [],
   "source": [
    "# insert_one() 하나씩 레코드 입력\n",
    "\n",
    "conn = MongoClient(\"mongodb://127.0.0.1:27017\")\n",
    "db = conn.get_database(\"testdb\")\n",
    "collect = db.get_collection(\"people\")\n",
    "\n",
    "data = {\"author\":\"Mike\", \"text\":\"my first blog post\", \"tag\":[\"mongodb\", \"python\"]}\n",
    "collect.insert_one(data)  # people 컬렉션에 insert_one() 이용하여 data변수의 값 삽입\n",
    "\n",
    "conn.close()"
   ]
  },
  {
   "cell_type": "code",
   "execution_count": 20,
   "metadata": {},
   "outputs": [
    {
     "name": "stdout",
     "output_type": "stream",
     "text": [
      "5d6391f300c973b68c90eda2\n"
     ]
    }
   ],
   "source": [
    "# _id 값까지 출력 : inserted_id\n",
    "\n",
    "conn = MongoClient(\"mongodb://127.0.0.1:27017\")\n",
    "db = conn.get_database(\"testdb\")\n",
    "collect = db.get_collection(\"people\")\n",
    "\n",
    "data = {\"author\":\"Mike\", \"text\":\"my first blog post\", \"tag\":[\"mongodb\", \"python\"]}\n",
    "post_id = collect.insert_one(data).inserted_id  # inserted_id : 입력될 때 생성되는 _id값을 리턴받는다\n",
    "print(post_id)\n",
    "\n",
    "conn.close()"
   ]
  },
  {
   "cell_type": "code",
   "execution_count": 25,
   "metadata": {},
   "outputs": [
    {
     "name": "stdout",
     "output_type": "stream",
     "text": [
      "9\n",
      "19\n"
     ]
    },
    {
     "name": "stderr",
     "output_type": "stream",
     "text": [
      "C:\\Users\\acorn\\Anaconda3\\lib\\site-packages\\ipykernel_launcher.py:7: DeprecationWarning: count is deprecated. Use estimated_document_count or count_documents instead. Please note that $where must be replaced by $expr, $near must be replaced by $geoWithin with $center, and $nearSphere must be replaced by $geoWithin with $centerSphere\n",
      "  import sys\n",
      "C:\\Users\\acorn\\Anaconda3\\lib\\site-packages\\ipykernel_launcher.py:10: DeprecationWarning: count is deprecated. Use estimated_document_count or count_documents instead. Please note that $where must be replaced by $expr, $near must be replaced by $geoWithin with $center, and $nearSphere must be replaced by $geoWithin with $centerSphere\n",
      "  # Remove the CWD from sys.path while we load stuff.\n"
     ]
    }
   ],
   "source": [
    "# 현재 collect 안에 들어있는 document 개수 확인 : count()\n",
    "# 연속된 값 입력 경우 : 반복문 사용\n",
    "\n",
    "conn = MongoClient(\"mongodb://127.0.0.1:27017\")\n",
    "db = conn.get_database(\"testdb\")\n",
    "collect = db.get_collection(\"people\")\n",
    "\n",
    "print(collect.count())\n",
    "\n",
    "collect.insert_many([{\"number\":i} for i in range(10)])  # 여러 개의 레코드를 한번에 입력\n",
    "print(collect.count())\n",
    "\n",
    "conn.close()"
   ]
  },
  {
   "cell_type": "code",
   "execution_count": 27,
   "metadata": {},
   "outputs": [],
   "source": [
    "# 입력하려는 값 다른 경우\n",
    "\n",
    "conn = MongoClient(\"mongodb://127.0.0.1:27017\")\n",
    "db = conn.get_database(\"testdb\")\n",
    "collect = db.get_collection(\"people\")\n",
    "\n",
    "data = list()\n",
    "data.append({\"name\":\"aron\", \"age\":20})\n",
    "data.append({\"name\":\"ton\", \"age\":21})\n",
    "data.append({\"name\":\"jane\", \"age\":22})\n",
    "data.append({\"name\":\"jerry\", \"age\":23})\n",
    "\n",
    "collect.insert_many(data)\n",
    "\n",
    "conn.close()"
   ]
  },
  {
   "cell_type": "code",
   "execution_count": 28,
   "metadata": {},
   "outputs": [
    {
     "name": "stdout",
     "output_type": "stream",
     "text": [
      "{'_id': ObjectId('5d63591b5550541136db3fc3'), 'name': 'Abet', 'age': 20.0, 'score': 10.0}\n",
      "{'_id': ObjectId('5d63591b5550541136db3fc4'), 'name': 'Betty', 'age': 20.0, 'score': 10.0}\n",
      "{'_id': ObjectId('5d63591b5550541136db3fc5'), 'name': 'Charlie', 'age': 23.0, 'skills': ['mongodb', 'python']}\n",
      "{'_id': ObjectId('5d63591b5550541136db3fc6'), 'name': 'David', 'age': 23.0, 'score': 20.0}\n",
      "{'_id': ObjectId('5d637952957a62e0e1e892cb'), 'name': 'Elly', 'age': 17.0, 'score': 10.0}\n",
      "{'_id': ObjectId('5d6379a9957a62e0e1e892d4'), 'name': 'ddd', 'age': 17.0, 'score': 10.0}\n",
      "{'_id': ObjectId('5d638f1c00c973b68c90ed9e'), 'author': 'Mike', 'text': 'my first blog post', 'tag': ['mongodb', 'python']}\n",
      "{'_id': ObjectId('5d63919500c973b68c90eda0'), 'author': 'Mike', 'text': 'my first blog post', 'tag': ['mongodb', 'python']}\n",
      "{'_id': ObjectId('5d6391f300c973b68c90eda2'), 'author': 'Mike', 'text': 'my first blog post', 'tag': ['mongodb', 'python']}\n",
      "{'_id': ObjectId('5d63936a00c973b68c90eda5'), 'number': 0}\n",
      "{'_id': ObjectId('5d63936a00c973b68c90eda6'), 'number': 1}\n",
      "{'_id': ObjectId('5d63936a00c973b68c90eda7'), 'number': 2}\n",
      "{'_id': ObjectId('5d63936a00c973b68c90eda8'), 'number': 3}\n",
      "{'_id': ObjectId('5d63936a00c973b68c90eda9'), 'number': 4}\n",
      "{'_id': ObjectId('5d63936a00c973b68c90edaa'), 'number': 5}\n",
      "{'_id': ObjectId('5d63936a00c973b68c90edab'), 'number': 6}\n",
      "{'_id': ObjectId('5d63936a00c973b68c90edac'), 'number': 7}\n",
      "{'_id': ObjectId('5d63936a00c973b68c90edad'), 'number': 8}\n",
      "{'_id': ObjectId('5d63936a00c973b68c90edae'), 'number': 9}\n",
      "{'_id': ObjectId('5d63945200c973b68c90edb1'), 'name': 'aron', 'age': 20}\n",
      "{'_id': ObjectId('5d63945200c973b68c90edb2'), 'name': 'ton', 'age': 21}\n",
      "{'_id': ObjectId('5d63945200c973b68c90edb3'), 'name': 'jane', 'age': 22}\n",
      "{'_id': ObjectId('5d63945200c973b68c90edb4'), 'name': 'jerry', 'age': 23}\n"
     ]
    }
   ],
   "source": [
    "# 반복문 통해 컬렉션 전체 출력\n",
    "\n",
    "conn = MongoClient(\"mongodb://127.0.0.1:27017\")\n",
    "db = conn.get_database(\"testdb\")\n",
    "collect = db.get_collection(\"people\")\n",
    "\n",
    "for i in collect.find():\n",
    "    print(i)\n",
    "\n",
    "conn.close()"
   ]
  },
  {
   "cell_type": "code",
   "execution_count": 30,
   "metadata": {},
   "outputs": [
    {
     "name": "stdout",
     "output_type": "stream",
     "text": [
      "{'_id': ObjectId('5d63591b5550541136db3fc3'), 'name': 'Abet', 'age': 20.0, 'score': 10.0}\n",
      "{'_id': ObjectId('5d638f1c00c973b68c90ed9e'), 'author': 'Mike', 'text': 'my first blog post', 'tag': ['mongodb', 'python']}\n"
     ]
    }
   ],
   "source": [
    "# 특정 데이터만\n",
    "\n",
    "conn = MongoClient(\"mongodb://127.0.0.1:27017\")\n",
    "db = conn.get_database(\"testdb\")\n",
    "collect = db.get_collection(\"people\")\n",
    "\n",
    "print(collect.find_one())  # 맨 위 하나만 출력\n",
    "print(collect.find_one({\"author\":\"Mike\"}))  # 조건 통해 하나만 출력\n",
    "\n",
    "conn.close()"
   ]
  },
  {
   "cell_type": "code",
   "execution_count": 31,
   "metadata": {},
   "outputs": [],
   "source": [
    "# 수정 : update_one(), update_many\n",
    "\n",
    "conn = MongoClient(\"mongodb://127.0.0.1:27017\")\n",
    "db = conn.get_database(\"testdb\")\n",
    "collect = db.get_collection(\"people\")\n",
    "\n",
    "collect.update_one({\"author\":\"Mike\"}, {\"$set\":{\"text\":\"my second blog post\"}})\n",
    "\n",
    "conn.close()"
   ]
  },
  {
   "cell_type": "code",
   "execution_count": null,
   "metadata": {},
   "outputs": [],
   "source": []
  },
  {
   "cell_type": "code",
   "execution_count": null,
   "metadata": {},
   "outputs": [],
   "source": []
  },
  {
   "cell_type": "code",
   "execution_count": null,
   "metadata": {},
   "outputs": [],
   "source": []
  },
  {
   "cell_type": "code",
   "execution_count": null,
   "metadata": {},
   "outputs": [],
   "source": []
  },
  {
   "cell_type": "code",
   "execution_count": null,
   "metadata": {},
   "outputs": [],
   "source": []
  },
  {
   "cell_type": "code",
   "execution_count": null,
   "metadata": {},
   "outputs": [],
   "source": []
  },
  {
   "cell_type": "code",
   "execution_count": null,
   "metadata": {},
   "outputs": [],
   "source": []
  }
 ],
 "metadata": {
  "kernelspec": {
   "display_name": "Python 3",
   "language": "python",
   "name": "python3"
  },
  "language_info": {
   "codemirror_mode": {
    "name": "ipython",
    "version": 3
   },
   "file_extension": ".py",
   "mimetype": "text/x-python",
   "name": "python",
   "nbconvert_exporter": "python",
   "pygments_lexer": "ipython3",
   "version": "3.7.3"
  }
 },
 "nbformat": 4,
 "nbformat_minor": 2
}
