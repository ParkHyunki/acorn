{
 "cells": [
  {
   "cell_type": "markdown",
   "metadata": {},
   "source": [
    "# 1. 조건문\n",
    "\n",
    "## if\n",
    "        1) if 조건식:     # 만약 조건식이 참일 경우 밑의 문장 실행. 거짓일 경우 밑의 문장 실행x\n",
    "                문장      # 들여쓰기 필요: Tab or space 키\n",
    "                문장\n",
    "                ...\n",
    "           if 조건식: 문장     # 한 문장일 경우\n",
    "           \n",
    "        2) if 조건식:\n",
    "                문장\n",
    "           else:\n",
    "                문장\n",
    "                \n",
    "        3) if 조건식:\n",
    "                문장\n",
    "           elif 조건식:\n",
    "                문장\n",
    "           elif 조건식:\n",
    "                문장\n",
    "           ...\n",
    "           [else:\n",
    "                문장]     # 생략 가능"
   ]
  },
  {
   "cell_type": "code",
   "execution_count": 2,
   "metadata": {},
   "outputs": [
    {
     "name": "stdout",
     "output_type": "stream",
     "text": [
      "숫자 입력 : 5\n",
      "홀수입니다.\n"
     ]
    }
   ],
   "source": [
    "# 입력받은 숫자가 짝수/홀수 구별하는 프로그램\n",
    "\n",
    "num1 = int(input(\"숫자 입력 : \"))\n",
    "\n",
    "if num1 % 2 == 0:\n",
    "    print(\"짝수입니다.\")\n",
    "\n",
    "if num1 % 2 != 0:\n",
    "    print(\"홀수입니다.\")"
   ]
  },
  {
   "cell_type": "code",
   "execution_count": 3,
   "metadata": {},
   "outputs": [
    {
     "name": "stdout",
     "output_type": "stream",
     "text": [
      "숫자 입력 : 5\n",
      "홀수입니다.\n"
     ]
    }
   ],
   "source": [
    "num1 = int(input(\"숫자 입력 : \"))\n",
    "\n",
    "if num1 % 2 == 0:\n",
    "    print(\"짝수입니다.\")\n",
    "else:\n",
    "    print(\"홀수입니다.\")"
   ]
  },
  {
   "cell_type": "code",
   "execution_count": 1,
   "metadata": {},
   "outputs": [
    {
     "name": "stdout",
     "output_type": "stream",
     "text": [
      "입력값 : 5\n",
      "오답\n"
     ]
    }
   ],
   "source": [
    "# 입력받은 값이 a, b, c, d이면 \"정답\"이라고 출력하고 아니면 \"오답\"이라고 출력하는 프로그램\n",
    "\n",
    "ans = input(\"입력값 : \")\n",
    "\n",
    "if ans == \"a\" or ans == \"b\" or ans == \"c\" or ans == \"d\":\n",
    "    print(\"정답\")\n",
    "else:\n",
    "    print(\"오답\")"
   ]
  },
  {
   "cell_type": "code",
   "execution_count": 5,
   "metadata": {
    "scrolled": true
   },
   "outputs": [
    {
     "name": "stdout",
     "output_type": "stream",
     "text": [
      "5\n",
      "오답\n"
     ]
    }
   ],
   "source": [
    "data = input()\n",
    "\n",
    "if data in (\"a\", \"b\", \"c\", \"d\"):\n",
    "    print(\"정답\")\n",
    "else:\n",
    "    print(\"오답\")"
   ]
  },
  {
   "cell_type": "code",
   "execution_count": 3,
   "metadata": {},
   "outputs": [
    {
     "name": "stdout",
     "output_type": "stream",
     "text": [
      "입력 : s\n",
      "오답\n"
     ]
    }
   ],
   "source": [
    "data = input(\"입력 : \")\n",
    "answer = (\"a\", \"b\", \"c\", \"d\")\n",
    "\n",
    "if answer.count(data) > 0:\n",
    "    print(\"정답\")\n",
    "else:\n",
    "    print(\"오답\")"
   ]
  },
  {
   "cell_type": "code",
   "execution_count": 4,
   "metadata": {},
   "outputs": [
    {
     "name": "stdout",
     "output_type": "stream",
     "text": [
      "입력 : s\n",
      "오답\n"
     ]
    }
   ],
   "source": [
    "data = input(\"입력 : \")\n",
    "\n",
    "if data >= \"a\" and data <= \"d\":     # data가 연속적일 경우 사용 가능(문자도 숫자처럼 사용할 수 있는 이유: ASCii 코드)\n",
    "    print(\"정답\")\n",
    "else:\n",
    "    print(\"오답\")"
   ]
  },
  {
   "cell_type": "code",
   "execution_count": 8,
   "metadata": {},
   "outputs": [
    {
     "name": "stdout",
     "output_type": "stream",
     "text": [
      "97 98 99 100 65\n",
      "a b\n"
     ]
    }
   ],
   "source": [
    "print(ord(\"a\"), ord(\"b\"), ord(\"c\"), ord(\"d\"), ord(\"A\"))     #문자의 ASCii코드 확인\n",
    "print(chr(97), chr(98))     #ASCii코드의 문자 확인"
   ]
  },
  {
   "cell_type": "markdown",
   "metadata": {},
   "source": [
    "\n",
    "윤년 계산 프로그램\n",
    "\n",
    "1) 기원 연수가 4로 나누어 떨어지는 해는 우선 윤년으로 한다\n",
    "\n",
    "2) 그 중에서 100으로 나누어 떨어지는 해는 평년으로 한다\n",
    "\n",
    "3) 다만 400으로 나누어 떨어지는 해는 다시 윤년으로 정한다\n",
    "\n",
    "연도 입력 : ??? (엔터)\n",
    "\n",
    "결과 : 해당 연도 ???은 윤년입니다 (또는 윤년이 아닙니다)\n"
   ]
  },
  {
   "cell_type": "code",
   "execution_count": 21,
   "metadata": {},
   "outputs": [
    {
     "name": "stdout",
     "output_type": "stream",
     "text": [
      "연도 : 2020\n",
      "2020는 윤년입니다\n"
     ]
    }
   ],
   "source": [
    "year = int(input(\"연도 : \"))\n",
    "\n",
    "if ((year % 4 == 0) and (year % 100 != 0)) or (year % 400 == 0):\n",
    "    print(\"%d는 윤년입니다\" % year)\n",
    "else:\n",
    "    print(\"%d는 윤년이 아닙니다\" % year)"
   ]
  },
  {
   "cell_type": "code",
   "execution_count": 1,
   "metadata": {},
   "outputs": [
    {
     "name": "stdout",
     "output_type": "stream",
     "text": [
      "학점 : 80\n",
      "당신의 학점은 B학점 입니다\n"
     ]
    }
   ],
   "source": [
    "# 학점 구하기\n",
    "\n",
    "avg = int(input(\"학점 : \"))\n",
    "grade = None\n",
    "\n",
    "if avg >= 90:\n",
    "    grade = \"A학점\"\n",
    "elif avg >= 80:\n",
    "    grade = \"B학점\"\n",
    "elif avg >= 70:\n",
    "    grade = \"C학점\"\n",
    "elif avg >= 60:\n",
    "    grade = \"D학점\"\n",
    "else:\n",
    "    grade = \"F학점\"\n",
    "    \n",
    "print(\"당신의 학점은\", grade, \"입니다\")"
   ]
  },
  {
   "cell_type": "code",
   "execution_count": null,
   "metadata": {},
   "outputs": [],
   "source": [
    "'''\n",
    "전자계산기 프로그램(사칙연산)\n",
    "\n",
    "연산자 입력 : ? (엔터)\n",
    "숫자1 : ? (엔터)\n",
    "숫자2 : ? (엔터)\n",
    "\n",
    "결과 : ? + ? = ?\n",
    "'''"
   ]
  },
  {
   "cell_type": "code",
   "execution_count": null,
   "metadata": {
    "scrolled": true
   },
   "outputs": [],
   "source": [
    "\n"
   ]
  },
  {
   "cell_type": "code",
   "execution_count": 24,
   "metadata": {},
   "outputs": [
    {
     "name": "stdout",
     "output_type": "stream",
     "text": [
      "연산자 입력 : /\n",
      "숫자1 : 5\n",
      "숫자2 : 9\n",
      "결과 :  5 / 9 = 0.5555555555555556\n"
     ]
    }
   ],
   "source": [
    "cal = input(\"연산자 입력 : \")\n",
    "num1 = int(input(\"숫자1 : \"))\n",
    "num2 = int(input(\"숫자2 : \"))\n",
    "\n",
    "if cal == \"+\":\n",
    "    a = num1 + num2\n",
    "elif cal == \"-\":\n",
    "    a = num1 - num2\n",
    "elif cal == \"/\":\n",
    "    a = num1 / num2\n",
    "elif cal == \"*\":\n",
    "    a = num1 * num2\n",
    "    \n",
    "print(\"결과 : \", num1, cal, num2, \"=\", a)"
   ]
  },
  {
   "cell_type": "markdown",
   "metadata": {},
   "source": [
    "## 조건문의 중첩(Nest): 실수 줄이기 위함\n",
    "\n",
    "    if 조건식:\n",
    "        문장\n",
    "        ...\n",
    "        if 조건식:\n",
    "            문장\n",
    "        ...\n",
    "    else:\n",
    "        문장:\n",
    "        ...\n",
    "        if 조건식:\n",
    "            문장"
   ]
  },
  {
   "cell_type": "code",
   "execution_count": 7,
   "metadata": {},
   "outputs": [
    {
     "name": "stdout",
     "output_type": "stream",
     "text": [
      "ID : tom\n",
      "PASS : 1234\n",
      "로그인\n"
     ]
    }
   ],
   "source": [
    "a, b, c = 8, 10, 3\n",
    "\n",
    "# if a > b:\n",
    "#     if a > c:\n",
    "#         print(\"a가 제일 크다\")\n",
    "#     else:\n",
    "#         print(\"c가 제일 크다\")\n",
    "# else:\n",
    "#     if b > c:\n",
    "#         print(\"b가 제일 크다\")\n",
    "#     else:\n",
    "#         print(\"c가 제일 크다\")\n",
    "\n",
    "# 블록 잡고 ctrl+/ 는 범위 주석 처리\n",
    "\n",
    "id = input(\"ID : \")     # ID = tom\n",
    "ps = input(\"PASS : \")     # PS = 1234\n",
    "\n",
    "if id == \"tom\":\n",
    "    if ps != \"1234\":\n",
    "        print(\"비밀번호가 틀렸습니다\")\n",
    "    else:\n",
    "        print(\"로그인\")\n",
    "else:\n",
    "    if ps != \"1234\":\n",
    "        print(\"둘 다 틀렸습니다\")\n",
    "    else:\n",
    "        print(\"아이디가 틀렸습니다\")"
   ]
  },
  {
   "cell_type": "code",
   "execution_count": 13,
   "metadata": {},
   "outputs": [
    {
     "name": "stdout",
     "output_type": "stream",
     "text": [
      "1\n"
     ]
    }
   ],
   "source": [
    "'''\n",
    "가위 바위 보 게임\n",
    "\n",
    "(가위, 바위, 보) 중에서 하나를 선택 : ? (엔터)\n",
    "이겼습니다 or 졌습니다\n",
    "'''\n",
    "\n",
    "import random\n",
    "rand = random.randint(0, 2)     # scr 맨 위에 선언\n",
    "print(rand)"
   ]
  },
  {
   "cell_type": "code",
   "execution_count": 3,
   "metadata": {},
   "outputs": [
    {
     "name": "stdout",
     "output_type": "stream",
     "text": [
      "가위, 바위, 보 중에 선택하시오 : 가위\n",
      "컴퓨터 :  바위\n",
      "결과 :  패배\n"
     ]
    }
   ],
   "source": [
    "import random\n",
    "rand = random.randint(0, 2)\n",
    "\n",
    "if (rand == 0):\n",
    "    rand = \"가위\"\n",
    "elif (rand == 1):\n",
    "    rand = \"바위\"\n",
    "elif (rand == 2):\n",
    "    rand = \"보\"   \n",
    "\n",
    "user = input(\"가위, 바위, 보 중에 선택하시오 : \")\n",
    "\n",
    "if rand == \"바위\":\n",
    "    if user == \"가위\":\n",
    "        result = \"패배\"\n",
    "    if user == \"바위\":\n",
    "        result = \"비김\"\n",
    "    if user == \"보\":\n",
    "        result = \"승리\"\n",
    "\n",
    "if rand == \"가위\":\n",
    "    if user == \"바위\":\n",
    "        result = \"승리\"\n",
    "    if user == \"보\":\n",
    "        result = \"패배\"\n",
    "    if user == \"가위\":\n",
    "        result = \"비김\"\n",
    "        \n",
    "if rand == \"보\":\n",
    "    if user == \"바위\":\n",
    "        result = \"승리\"\n",
    "    if user == \"가위\":\n",
    "        result = \"패배\"\n",
    "    if user == \"보\":\n",
    "        result = \"비김\"\n",
    "        \n",
    "print(\"컴퓨터 : \", rand) \n",
    "print(\"결과 : \", result)"
   ]
  },
  {
   "cell_type": "markdown",
   "metadata": {},
   "source": [
    "# 2. 반복문\n",
    "\n",
    "## while\n",
    "\n",
    "    while 조건식:     # 이 조건이 참일 동안 아래 문장을 반복하겠다\n",
    "        문장\n",
    "        ...     \n",
    "        \n",
    "    주의: 무한 루프, 반복 횟수\n",
    "    패턴: 초기화 - 조건식 - 카운터(반복 모니터링)\n",
    "    집합 자료형 아닌 경우 유리\n",
    "\n",
    "## for\n",
    "\n",
    "    for 변수 in 집합 자료형\"\n",
    "        문장\n",
    "        ...\n",
    "        \n",
    "## 강제 종료\n",
    "    \n",
    "    break : 완전 종료\n",
    "    \n",
    "    continue : 일시 종료\n",
    "    \n",
    "## 반복문의 중첩\n",
    "\n",
    "    "
   ]
  },
  {
   "cell_type": "code",
   "execution_count": 28,
   "metadata": {},
   "outputs": [
    {
     "name": "stdout",
     "output_type": "stream",
     "text": [
      "**********\n",
      "* * * * * * * * * * "
     ]
    }
   ],
   "source": [
    "print(\"*\" *10)\n",
    "\n",
    "cnt = 0     #초기화\n",
    "while cnt < 10:\n",
    "    print(\"*\", end = \" \")     #end = \"\" 별도의 줄바꿈 없음(간격 부여 가능)\n",
    "    cnt += 1     #카운터\n",
    "    "
   ]
  },
  {
   "cell_type": "code",
   "execution_count": 30,
   "metadata": {},
   "outputs": [
    {
     "name": "stdout",
     "output_type": "stream",
     "text": [
      "결과 :  55\n"
     ]
    }
   ],
   "source": [
    "# 1부터 10까지의 합계: 55\n",
    "\n",
    "cnt = 0\n",
    "sum = 0\n",
    "\n",
    "while cnt <= 10:\n",
    "    sum += cnt\n",
    "    cnt+= 1\n",
    "    \n",
    "print(\"결과 : \", sum)"
   ]
  },
  {
   "cell_type": "code",
   "execution_count": 2,
   "metadata": {},
   "outputs": [
    {
     "name": "stdout",
     "output_type": "stream",
     "text": [
      "결과 :  1024\n"
     ]
    }
   ],
   "source": [
    "# 2의 10승: 1024\n",
    "\n",
    "cnt = 0\n",
    "sum = 1\n",
    "\n",
    "while cnt < 10:\n",
    "    sum *= 2\n",
    "    cnt += 1\n",
    "    \n",
    "print(\"결과 : \", sum)"
   ]
  },
  {
   "cell_type": "code",
   "execution_count": 10,
   "metadata": {},
   "outputs": [
    {
     "name": "stdout",
     "output_type": "stream",
     "text": [
      "* 0* 1* 2* 3* 4* 5* 6* 7* 8* 9\n",
      "5 6 7 8 9 \n",
      "2 4 6 8 10 12 14 16 18 "
     ]
    }
   ],
   "source": [
    "for v in range(10):     #range(10) = 0~9까지의 범위\n",
    "    print(\"*\", str(v), end = \"\")\n",
    "    \n",
    "print()\n",
    "\n",
    "# range(시작, 끝, 간격)\n",
    "for v in range(5, 10):\n",
    "    print(v, end = \" \")\n",
    "    \n",
    "print()\n",
    "\n",
    "for v in range(2, 20, 2):\n",
    "    print(v, end = \" \")"
   ]
  },
  {
   "cell_type": "code",
   "execution_count": 7,
   "metadata": {},
   "outputs": [
    {
     "name": "stdout",
     "output_type": "stream",
     "text": [
      "a b c d e f g h i j k "
     ]
    }
   ],
   "source": [
    "data = \"abcdefghijk\"\n",
    "\n",
    "for v in data:\n",
    "    print(v, end = \" \")"
   ]
  },
  {
   "cell_type": "code",
   "execution_count": 13,
   "metadata": {},
   "outputs": [
    {
     "name": "stdout",
     "output_type": "stream",
     "text": [
      "0\n",
      "1\n",
      "2\n",
      "3\n",
      "4\n"
     ]
    }
   ],
   "source": [
    "for v in range(10):\n",
    "    if v == 5:\n",
    "        break\n",
    "    print(v)"
   ]
  },
  {
   "cell_type": "code",
   "execution_count": 15,
   "metadata": {},
   "outputs": [
    {
     "name": "stdout",
     "output_type": "stream",
     "text": [
      "0\n",
      "1\n",
      "2\n",
      "3\n",
      "4\n",
      "6\n",
      "7\n",
      "8\n",
      "9\n"
     ]
    }
   ],
   "source": [
    "for v in range(10):\n",
    "    if v == 5:\n",
    "        continue\n",
    "    print(v)"
   ]
  },
  {
   "cell_type": "code",
   "execution_count": 16,
   "metadata": {},
   "outputs": [
    {
     "data": {
      "text/plain": [
       "'\\n가위 바위 보 게임을 반복문을 사용하여 업그레이드\\n(x 나 q 를 입력하면 종료)\\n출력 포맷: ?승 ?패\\n'"
      ]
     },
     "execution_count": 16,
     "metadata": {},
     "output_type": "execute_result"
    }
   ],
   "source": [
    "'''\n",
    "전자계산기 프로그램을 반복문을 이용해 업그레이드\n",
    "(조건은 연산자에 x 입력하면 종료)\n",
    "'''\n",
    "\n",
    "'''\n",
    "숫자를 입력 받아서 짝수의 합과 홀수의 합을 구하시오\n",
    "(단 0을 입력하면 종료)\n",
    "'''\n",
    "\n",
    "'''\n",
    "가위 바위 보 게임을 반복문을 사용하여 업그레이드\n",
    "(x 나 q 를 입력하면 종료)\n",
    "출력 포맷: ?승 ?패\n",
    "'''"
   ]
  },
  {
   "cell_type": "code",
   "execution_count": null,
   "metadata": {},
   "outputs": [
    {
     "name": "stdout",
     "output_type": "stream",
     "text": [
      "연산자 입력 : e\n",
      "첫번째 숫자 : 8\n",
      "두번째 숫자 : 8\n",
      "입력 오류\n"
     ]
    }
   ],
   "source": [
    "while True:\n",
    "    cal = input(\"연산자 입력 : \")\n",
    "    num1 = int(input(\"첫번째 숫자 : \"))\n",
    "    num2 = int(input(\"두번째 숫자 : \"))\n",
    "    \n",
    "    if cal == \"x\":\n",
    "        print(\"연산 종료\")\n",
    "        break\n",
    "        \n",
    "    if cal == \"+\":\n",
    "        result = num1 + num2\n",
    "    if cal == \"-\":\n",
    "        result = num1 - num2\n",
    "    if cal == \"*\":\n",
    "        result = num1 * num2\n",
    "    if cal == \"/\":\n",
    "        result = num1 / num2\n",
    "    else:\n",
    "        result = \"입력 오류\"\n",
    "        \n",
    "    print(result)"
   ]
  },
  {
   "cell_type": "code",
   "execution_count": null,
   "metadata": {
    "scrolled": true
   },
   "outputs": [
    {
     "name": "stdout",
     "output_type": "stream",
     "text": [
      "숫자 입력 : 5\n",
      "짝수의 합은 0이고, 홀수의 합은 5이다\n",
      "숫자 입력 : 2\n",
      "짝수의 합은 2이고, 홀수의 합은 5이다\n",
      "숫자 입력 : 6\n",
      "짝수의 합은 8이고, 홀수의 합은 5이다\n"
     ]
    }
   ],
   "source": [
    "data = 0\n",
    "num1, num2 = 0, 0\n",
    "\n",
    "while True:\n",
    "    data = int(input(\"숫자 입력 : \"))\n",
    "    \n",
    "    if data == 0:\n",
    "        print(\"연산 종료\")\n",
    "        break\n",
    "        \n",
    "    if data % 2 == 0:\n",
    "        num2 += data\n",
    "    else:\n",
    "        num1 += data\n",
    "        \n",
    "    print(\"짝수의 합은 %d이고, 홀수의 합은 %d이다\" %(num2, num1))"
   ]
  },
  {
   "cell_type": "code",
   "execution_count": null,
   "metadata": {},
   "outputs": [
    {
     "name": "stdout",
     "output_type": "stream",
     "text": [
      "가위, 바위, 보 중 하나 입력 : 가위\n",
      "비김\n",
      "0 승 0 패 1 무\n"
     ]
    }
   ],
   "source": [
    "import random\n",
    "rand = random.randint(0, 2)\n",
    "\n",
    "if rand == 0:\n",
    "    rand = \"가위\"\n",
    "elif rand == 1:\n",
    "    rand = \"바위\"\n",
    "elif rand == 2:\n",
    "    rand = \"보\"\n",
    "\n",
    "win, lose, tie = 0, 0, 0\n",
    "\n",
    "while True:\n",
    "    user = input(\"가위, 바위, 보 중 하나 입력 : \")\n",
    "    if user == (\"x\" or \"q\"):\n",
    "        print(\"종료\")\n",
    "        break\n",
    "        \n",
    "    if rand == \"가위\":\n",
    "        if user == \"바위\":\n",
    "            print(\"승리\")\n",
    "            win += 1\n",
    "        if user == \"보\":\n",
    "            print(\"패배\")\n",
    "            lose += 1\n",
    "        if user == \"가위\":\n",
    "            print(\"비김\")\n",
    "            tie += 1\n",
    "    if rand == \"바위\":\n",
    "        if user == \"가위\":\n",
    "            print(\"패배\")\n",
    "            lose += 1\n",
    "        if user == \"바위\":\n",
    "            print(\"비김\")\n",
    "            tie += 1\n",
    "        if user == \"보\":\n",
    "            print(\"승리\")\n",
    "            win += 1\n",
    "    if rand == \"보\":\n",
    "        if user == \"가위\":\n",
    "            print(\"승리\")\n",
    "            win += 1\n",
    "        if user == \"바위\":\n",
    "            print(\"패배\")\n",
    "            lose += 1\n",
    "        if user == \"보\":\n",
    "            print(\"비김\")\n",
    "            tie += 1\n",
    "    print(\"%d 승 %d 패 %d 무\" % (win, lose, tie))"
   ]
  },
  {
   "cell_type": "code",
   "execution_count": 4,
   "metadata": {},
   "outputs": [
    {
     "name": "stdout",
     "output_type": "stream",
     "text": [
      "--------------\n",
      "1. 친구 리스트 출력\n",
      "2. 친구 추가\n",
      "3. 친구 삭제\n",
      "4. 이름 변경\n",
      "9. 종료\n",
      "메뉴를 선택하시오 : 2\n",
      "이름을 입력하시오 : d\n",
      "--------------\n",
      "1. 친구 리스트 출력\n",
      "2. 친구 추가\n",
      "3. 친구 삭제\n",
      "4. 이름 변경\n",
      "9. 종료\n",
      "메뉴를 선택하시오 : 2\n",
      "이름을 입력하시오 : sf\n",
      "--------------\n",
      "1. 친구 리스트 출력\n",
      "2. 친구 추가\n",
      "3. 친구 삭제\n",
      "4. 이름 변경\n",
      "9. 종료\n",
      "메뉴를 선택하시오 : 4\n",
      "['d', 'sf']\n",
      "수정 대상을 입력하시오 : d\n",
      "수정할 이름을 입력하시오 : 아리\n",
      "--------------\n",
      "1. 친구 리스트 출력\n",
      "2. 친구 추가\n",
      "3. 친구 삭제\n",
      "4. 이름 변경\n",
      "9. 종료\n",
      "메뉴를 선택하시오 : 1\n",
      "['아리', 'sf']\n",
      "--------------\n",
      "1. 친구 리스트 출력\n",
      "2. 친구 추가\n",
      "3. 친구 삭제\n",
      "4. 이름 변경\n",
      "9. 종료\n",
      "메뉴를 선택하시오 : 9\n"
     ]
    }
   ],
   "source": [
    "# '''\n",
    "# ##연락처 관리 프로그램                  #CRUD: 프로그램의 기본 기능(create, update, delete)\n",
    "# -----------------------\n",
    "# 1. 친구 리스트 출력                    # 집합자료형 사용\n",
    "# 2. 친구 추가\n",
    "# 3. 친구 삭제\n",
    "# 4. 이름 변경                           # 수정 가능한 집합자료형 사용(list? dict?)\n",
    "# 9. 종료\n",
    "# 메뉴를 선택하시오 : 2\n",
    "# 이름을 입력하시오 : 홍길동\n",
    "# -------------------------\n",
    "# 1. 친구 리스트 출력\n",
    "# 2. 친구 추가\n",
    "# 3. 친구 삭제\n",
    "# 4. 이름 변경\n",
    "# 9. 종료\n",
    "# 메뉴를 선택하시오 : 1\n",
    "# [\"홍길동\"]\n",
    "# '''\n",
    "\n",
    "# 변수 선언 - 프로그램 입력\n",
    "\n",
    "\n",
    "friends = []                  # 변수 선언(초기값 입력)\n",
    "menu = 0                            \n",
    "\n",
    "while menu != 9:               # 메뉴에 9입력 전까지 반복 (메뉴 변수 선언 필요)\n",
    "#while True:                   # 무한 반복\n",
    "    print(\"--------------\")\n",
    "    print(\"1. 친구 리스트 출력\")\n",
    "    print(\"2. 친구 추가\")\n",
    "    print(\"3. 친구 삭제\")\n",
    "    print(\"4. 이름 변경\")\n",
    "    print(\"9. 종료\")\n",
    "\n",
    "    menu = int(input(\"메뉴를 선택하시오 : \"))\n",
    "    \n",
    "    if menu == 9:\n",
    "        break\n",
    "        \n",
    "    if menu == 1:\n",
    "        print(friends)\n",
    "    elif menu == 2:\n",
    "        name = input(\"이름을 입력하시오 : \")            # 이름 입력 변수 사용\n",
    "        friends.append(name)                             # 리스트 추가 함수 사용\n",
    "    elif menu == 3:\n",
    "        del_name = input(\"삭제할 이름 입력하시오 : \")    # 삭제할 이름 입력 받음\n",
    "        if del_name in friends:                         # 삭제할 이름이 친구 리스트에 있는 경우 삭제 조건(안전장치)\n",
    "            friends.remove(del_name)\n",
    "        else:\n",
    "            print(\"친구 목록에 없는 이름입니다\")         #리스트에 이름 없다면 \n",
    "    elif menu == 4:\n",
    "        print(friends)\n",
    "        old_name = input(\"수정 대상을 입력하시오 : \")                  # 수정 대상 입력\n",
    "        if old_name in friends:\n",
    "            re_name = input(\"수정할 이름을 입력하시오 : \")                # 수정 이름 입력\n",
    "            index = friends.index(old_name)                               # 친구 리스트의 대상 이름 검색\n",
    "            friends[index] = re_name                                      # 검색된 이름을 수정할 이름으로 교체\n",
    "        else:\n",
    "            print(\"이름이 발견되지 않았습니다\")\n",
    "            "
   ]
  },
  {
   "cell_type": "code",
   "execution_count": 14,
   "metadata": {},
   "outputs": [
    {
     "name": "stdout",
     "output_type": "stream",
     "text": [
      "**********\n",
      "**********\n",
      "**********\n",
      "\n",
      "-------------\n",
      "*\n",
      "**\n",
      "***\n",
      "****\n",
      "\n",
      "-------------\n",
      "\n",
      "**\n",
      "****\n",
      "******\n"
     ]
    }
   ],
   "source": [
    "'''\n",
    "반복문의 중첩\n",
    "-------------\n",
    "\n",
    "******************\n",
    "******************\n",
    "******************\n",
    "\n",
    "-> 행과 열로 이루어진 테이블 형태\n",
    "(행과 열의 반복 횟수로 중첩 가능)\n",
    "(행 우선: 행이 한 번 반복할 때 열이 몇 번 반복되게 할 것인가?)\n",
    "'''\n",
    "\n",
    "for row in range(3):           #행의 반복 횟수\n",
    "    for col in range(10):      #열의 반복 횟수\n",
    "        print(\"*\", end = \"\")   #열 표시\n",
    "    print()                    #줄 바꿈\n",
    "\n",
    "print(\"\\n-------------\")\n",
    "\n",
    "'''\n",
    "*\n",
    "**\n",
    "***\n",
    "****\n",
    "'''\n",
    "\n",
    "for row in range(4):\n",
    "    for col in range(row + 1):\n",
    "        print(\"*\", end = \"\")\n",
    "    print()         \n",
    "    \n",
    "print(\"\\n-------------\")\n",
    "\n",
    "'''\n",
    "    *\n",
    "   ***\n",
    "  *****\n",
    "  \n",
    "'''\n",
    "\n",
    "for row in range(4):\n",
    "    for col in range(row):\n",
    "        print(\"*\" * 2, end = \"\")\n",
    "    print()      \n",
    "        "
   ]
  },
  {
   "cell_type": "code",
   "execution_count": null,
   "metadata": {
    "scrolled": true
   },
   "outputs": [],
   "source": []
  }
 ],
 "metadata": {
  "kernelspec": {
   "display_name": "Python 3",
   "language": "python",
   "name": "python3"
  },
  "language_info": {
   "codemirror_mode": {
    "name": "ipython",
    "version": 3
   },
   "file_extension": ".py",
   "mimetype": "text/x-python",
   "name": "python",
   "nbconvert_exporter": "python",
   "pygments_lexer": "ipython3",
   "version": "3.7.3"
  }
 },
 "nbformat": 4,
 "nbformat_minor": 2
}
