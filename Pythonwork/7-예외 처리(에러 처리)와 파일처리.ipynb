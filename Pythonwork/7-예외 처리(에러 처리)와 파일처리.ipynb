{
 "cells": [
  {
   "cell_type": "markdown",
   "metadata": {},
   "source": [
    "# 예외처리(에러 처리)\n",
    "\n",
    "## 예외 처리 이유\n",
    "\n",
    "+ 자연스러운 에러 메시지 출력\n",
    "\n",
    "+ 프로그램의 비정상적인 종료 방지\n",
    "\n",
    "\n",
    "## 문법\n",
    "\n",
    "    try:\n",
    "        코드(try 내 코드 모니터링: error 발생 여지 있는 코드)\n",
    "        ...\n",
    "    except [예외처리 클래스 [as 변수]]:     \n",
    "        코드(대처)\n",
    "        ...\n",
    "    [else:\n",
    "        코드(예외 발생하지 않았을 때 실행)\n",
    "        ...]     # 생략 가능\n",
    "        \n",
    "    [finally:\n",
    "        코드(예외 발생과는 무관하게 항상 실행)\n",
    "        ...]     # 실행 보장\n",
    "        \n",
    "        \n",
    "## 에러 발생 유형\n",
    "\n",
    "+ 에러 발생 유형들이 클래스로 지정되어 있다(예외처리 클래스)\n",
    "\n",
    "\n",
    "## traceback\n",
    "\n",
    "+ 에러 메세지 자세히 추적(구체적인 메세지 내용/위치 확인)\n",
    "\n",
    "\n",
    "## raise\n",
    "\n",
    "+ 예외를 일부러 발생시킴\n",
    "\n",
    "+ 용도:\n",
    "    - 예외에 대한 test\n",
    "    - 사용자 정의 예외처리 클래스: 사용자가 간주한 에러 사항 "
   ]
  },
  {
   "cell_type": "code",
   "execution_count": 25,
   "metadata": {},
   "outputs": [
    {
     "name": "stdout",
     "output_type": "stream",
     "text": [
      "2.785515320334262\n",
      "나머지 코드 실행함...\n"
     ]
    }
   ],
   "source": [
    "def test(num):\n",
    "    a = 10 / num\n",
    "    print(a)\n",
    "    \n",
    "    print(\"나머지 코드 실행함...\")\n",
    "    \n",
    "################\n",
    "\n",
    "test(3.59)\n",
    "#test(0)"
   ]
  },
  {
   "cell_type": "code",
   "execution_count": 4,
   "metadata": {},
   "outputs": [
    {
     "name": "stdout",
     "output_type": "stream",
     "text": [
      "2.0\n",
      "나머지 코드 실행함...\n",
      "0으로 나누면 안됩니다\n",
      "나머지 코드 실행함...\n"
     ]
    }
   ],
   "source": [
    "# 에러가 발생 알 경우\n",
    "\n",
    "def test(num):\n",
    "    try:     # 에러 발생할 수 있는 코드를 포함시킨다\n",
    "        a = 10 / num     # 0 투입하여 에러 발생(except로 연결)\n",
    "        print(a)     # 에러 발생하여 출력x\n",
    "    except:     # 에러 대처\n",
    "        print(\"0으로 나누면 안됩니다\")\n",
    "    \n",
    "    print(\"나머지 코드 실행함...\")\n",
    "    \n",
    "################\n",
    "\n",
    "test(5)\n",
    "test(0)"
   ]
  },
  {
   "cell_type": "code",
   "execution_count": 12,
   "metadata": {},
   "outputs": [
    {
     "name": "stdout",
     "output_type": "stream",
     "text": [
      "10.0\n",
      "인덱스 사용이 잘못되었습니다 list index out of range\n",
      "나머지 코드 실행함...\n"
     ]
    }
   ],
   "source": [
    "# 다중 exception: 에러 발생 모를 경우 or 대처해둔 에러 타입이 다른 경우\n",
    "#                 \"뭐가 나올지 몰라 다 준비해봤어\"\n",
    "\n",
    "def test(num):\n",
    "    try:    \n",
    "        a = 10 / num     \n",
    "        print(a)\n",
    "        \n",
    "        b = [0, 1, 2]\n",
    "        print(b[4])\n",
    "        \n",
    "    except ZeroDivisionError:     # 에러 유형 zero division 발생할 경우(document 'error and exceptions' 참고)\n",
    "        print(\"0으로 나누면 안됩니다\")\n",
    "    except IndexError as err:     # as 변수 생략 가능\n",
    "        print(\"인덱스 사용이 잘못되었습니다\", err)     # 에러 내용도 같이 출력(개발자 위함)\n",
    "    except Exception:     # Exception: 예외 처리 최상위 클래스(모든 예외 클래스 다 포함). 구체적 - > 포괄적 클래스 순서\n",
    "        print(\"일반 오류\")\n",
    "    \n",
    "    print(\"나머지 코드 실행함...\")\n",
    "    \n",
    "#####################################\n",
    "\n",
    "test(1)"
   ]
  },
  {
   "cell_type": "code",
   "execution_count": 19,
   "metadata": {},
   "outputs": [
    {
     "name": "stdout",
     "output_type": "stream",
     "text": [
      "2.5\n",
      "2\n",
      "예외가 발생하지 않았습니다\n",
      "무조건 출력되는 문장\n",
      "나머지 코드 실행함...\n",
      "----------------------------------------------------------------------------------------------------\n",
      "0으로 나누면 안됩니다\n",
      "무조건 출력되는 문장\n"
     ]
    }
   ],
   "source": [
    "# else  &  finally: 생략 가능\n",
    "\n",
    "def test(num):\n",
    "    try:    \n",
    "        a = 10 / num     \n",
    "        print(a)\n",
    "        \n",
    "        b = [1, 2, 3]\n",
    "        print(b[1])\n",
    "        \n",
    "    except ZeroDivisionError:     \n",
    "        print(\"0으로 나누면 안됩니다\")\n",
    "    except IndexError as err:    \n",
    "        print(\"인덱스 사용이 잘못되었습니다\", err)  \n",
    "    else:\n",
    "        print(\"예외가 발생하지 않았습니다\")     # 예외 발생하지 않았을 때 출력\n",
    "    finally:\n",
    "        print(\"무조건 출력되는 문장\")     # 예외가 발생했든 안 했든 출력(실행 보장)\n",
    "    \n",
    "    print(\"나머지 코드 실행함...\")\n",
    "    \n",
    "#####################################\n",
    "\n",
    "test(4)     # 정상 경우\n",
    "\n",
    "print(\"-\" * 100)\n",
    "\n",
    "test(0)     # 에러 발생 경우"
   ]
  },
  {
   "cell_type": "code",
   "execution_count": 22,
   "metadata": {},
   "outputs": [
    {
     "name": "stdout",
     "output_type": "stream",
     "text": [
      "2.5\n",
      "예외가 발생하지 않았습니다\n",
      "무조건 출력되는 문장\n",
      "나머지 코드 실행함...\n",
      "----------------------------------------------------------------------------------------------------\n",
      "0으로 나누면 안됩니다\n",
      "무조건 출력되는 문장\n"
     ]
    },
    {
     "ename": "SystemExit",
     "evalue": "",
     "output_type": "error",
     "traceback": [
      "An exception has occurred, use %tb to see the full traceback.\n",
      "\u001b[1;31mSystemExit\u001b[0m\n"
     ]
    }
   ],
   "source": [
    "import sys\n",
    "\n",
    "def test(num):\n",
    "    try:    \n",
    "        a = 10 / num     \n",
    "        print(a)\n",
    "        \n",
    "    except ZeroDivisionError:     \n",
    "        print(\"0으로 나누면 안됩니다\")\n",
    "        #return     # 함수 강제 종료(break = 반복문): try 밖의 코드는 실행하지 않아도, finally 코드는 실행하고 종료\n",
    "        sys.exit()     # 강제 종료: try 밖의 코드는 실행하지 않아도, finally 코드는 실행하고 종료\n",
    "    except IndexError as err:    \n",
    "        print(\"인덱스 사용이 잘못되었습니다\", err)  \n",
    "    else:\n",
    "        print(\"예외가 발생하지 않았습니다\")     # 예외 발생하지 않았을 때 출력\n",
    "    finally:\n",
    "        print(\"무조건 출력되는 문장\")     # 예외가 발생했든 안 했든 출력(실행 보장)\n",
    "    \n",
    "    print(\"나머지 코드 실행함...\")\n",
    "    \n",
    "#####################################\n",
    "\n",
    "test(4)     # 정상 경우\n",
    "\n",
    "print(\"-\" * 100)\n",
    "\n",
    "test(0)     # 에러 발생 경우"
   ]
  },
  {
   "cell_type": "markdown",
   "metadata": {},
   "source": [
    "---\n",
    "### traceback"
   ]
  },
  {
   "cell_type": "code",
   "execution_count": 24,
   "metadata": {},
   "outputs": [
    {
     "name": "stdout",
     "output_type": "stream",
     "text": [
      "에러 원인:  division by zero\n"
     ]
    },
    {
     "name": "stderr",
     "output_type": "stream",
     "text": [
      "Traceback (most recent call last):\n",
      "  File \"<ipython-input-24-bd380847e7ad>\", line 5, in third\n",
      "    a = 10 / 0\n",
      "ZeroDivisionError: division by zero\n"
     ]
    }
   ],
   "source": [
    "import traceback\n",
    "\n",
    "def third():\n",
    "    try:\n",
    "        a = 10 / 0\n",
    "        print(a)\n",
    "    except ZeroDivisionError as err:\n",
    "        print(\"에러 원인: \", err)\n",
    "        traceback.print_exc()     # 에러 발생 장소에 대한 구체적인 정보 제공\n",
    "\n",
    "def second():\n",
    "    third()\n",
    "    \n",
    "def first():\n",
    "    second()\n",
    "    \n",
    "###################################\n",
    "\n",
    "first()"
   ]
  },
  {
   "cell_type": "markdown",
   "metadata": {},
   "source": [
    "---\n",
    "### raise"
   ]
  },
  {
   "cell_type": "code",
   "execution_count": 29,
   "metadata": {},
   "outputs": [
    {
     "name": "stdout",
     "output_type": "stream",
     "text": [
      "0으로 나누면 안됩니다 \n",
      "잘 실행되었나?\n"
     ]
    }
   ],
   "source": [
    "# 예외처리 확인\n",
    "\n",
    "def test():\n",
    "    try:\n",
    "        a = 10 / 2\n",
    "        raise ZeroDivisionError     # 에러 일부러 발생(예외처리 잘 되었는지 확인)\n",
    "        print(a)\n",
    "    except ZeroDivisionError as err:\n",
    "        print(\"0으로 나누면 안됩니다\", err)\n",
    "        \n",
    "    print(\"잘 실행되었나?\")\n",
    "    \n",
    "######################################\n",
    "\n",
    "test()"
   ]
  },
  {
   "cell_type": "code",
   "execution_count": 36,
   "metadata": {},
   "outputs": [
    {
     "name": "stdout",
     "output_type": "stream",
     "text": [
      "프로그램 시작\n",
      "5.0\n",
      "음수로 나눌 수 없다\n"
     ]
    }
   ],
   "source": [
    "# 사용자 정의 에러\n",
    "\n",
    "def possitiveDivide(a, b):\n",
    "    if b < 0:\n",
    "        raise NegativeDivideError     # 사용자 정의 에러 발생시킴\n",
    "    return a/b\n",
    "\n",
    "###########################\n",
    "\n",
    "class NegativeDivideError(Exception):     # 에러 타입으로 클래스 만들 경우 부모 클래스 상속 필요\n",
    "    pass     # 내용 필요x\n",
    "\n",
    "###########################\n",
    "\n",
    "def main():\n",
    "    print(\"프로그램 시작\")\n",
    "    \n",
    "    try:\n",
    "        result = possitiveDivide(10, 2)\n",
    "        print(result)\n",
    "    \n",
    "        result = possitiveDivide(10, -2)\n",
    "        print(result)\n",
    "    except:\n",
    "        print(\"음수로 나눌 수 없다\")\n",
    "    \n",
    "###########################\n",
    "\n",
    "if __name__ == \"__main__\":\n",
    "    main()"
   ]
  },
  {
   "cell_type": "code",
   "execution_count": 39,
   "metadata": {},
   "outputs": [
    {
     "name": "stdout",
     "output_type": "stream",
     "text": [
      "n1: 10\n",
      "n2: 2\n",
      "프로그램 시작\n",
      "5.0\n",
      "5.0\n"
     ]
    }
   ],
   "source": [
    "def main(n1, n2):\n",
    "    result = n1/n2\n",
    "    print(result)\n",
    "    \n",
    "###########################\n",
    "\n",
    "if __name__ == \"__main__\":\n",
    "    print(\"프로그램 시작\")\n",
    "    n1 = int(input(\"n1: \"))\n",
    "    n2 = int(input(\"n2: \"))\n",
    "    main(n1, n2)"
   ]
  },
  {
   "cell_type": "markdown",
   "metadata": {},
   "source": [
    "# 파일처리\n",
    "\n",
    "\n",
    "## pickle\n",
    "\n",
    "+ 모든 파이썬의 객체를 저장하고 읽을 수 있다\n",
    "\n",
    "+ pickle 모듈로 데이터를 저장하거나 불러올 때는 byte 형식으로 읽고 써야 한다(rb, wb)\n",
    "\n"
   ]
  },
  {
   "cell_type": "code",
   "execution_count": 1,
   "metadata": {},
   "outputs": [
    {
     "ename": "AttributeError",
     "evalue": "'_io.TextIOWrapper' object has no attribute 'replace'",
     "output_type": "error",
     "traceback": [
      "\u001b[1;31m---------------------------------------------------------------------------\u001b[0m",
      "\u001b[1;31mAttributeError\u001b[0m                            Traceback (most recent call last)",
      "\u001b[1;32m<ipython-input-1-0e83ac425b4b>\u001b[0m in \u001b[0;36m<module>\u001b[1;34m\u001b[0m\n\u001b[0;32m      5\u001b[0m \u001b[0mf\u001b[0m\u001b[1;33m.\u001b[0m\u001b[0mwrite\u001b[0m\u001b[1;33m(\u001b[0m\u001b[1;34m\"\\n 파이썬 어렵다..\"\u001b[0m\u001b[1;33m)\u001b[0m\u001b[1;33m\u001b[0m\u001b[1;33m\u001b[0m\u001b[0m\n\u001b[0;32m      6\u001b[0m \u001b[0mf\u001b[0m\u001b[1;33m.\u001b[0m\u001b[0mwrite\u001b[0m\u001b[1;33m(\u001b[0m\u001b[1;34m\"\\n 으어어어\"\u001b[0m\u001b[1;33m)\u001b[0m\u001b[1;33m\u001b[0m\u001b[1;33m\u001b[0m\u001b[0m\n\u001b[1;32m----> 7\u001b[1;33m \u001b[0mf\u001b[0m\u001b[1;33m.\u001b[0m\u001b[0mreplace\u001b[0m\u001b[1;33m(\u001b[0m\u001b[1;34m\"으어어어\"\u001b[0m\u001b[1;33m,\u001b[0m \u001b[1;34m\"어이쿠\"\u001b[0m\u001b[1;33m)\u001b[0m\u001b[1;33m\u001b[0m\u001b[1;33m\u001b[0m\u001b[0m\n\u001b[0m\u001b[0;32m      8\u001b[0m \u001b[0mf\u001b[0m\u001b[1;33m.\u001b[0m\u001b[0mclose\u001b[0m\u001b[1;33m(\u001b[0m\u001b[1;33m)\u001b[0m\u001b[1;33m\u001b[0m\u001b[1;33m\u001b[0m\u001b[0m\n",
      "\u001b[1;31mAttributeError\u001b[0m: '_io.TextIOWrapper' object has no attribute 'replace'"
     ]
    }
   ],
   "source": [
    "#with open(\"data/ftest.txt\", \"w\") as f:\n",
    "    \n",
    "f = open(\"data/ftest.txt\", \"w\", encoding = \"utf-8\")\n",
    "f.write(\"파이썬 파일 연습 중\")\n",
    "f.write(\"\\n 파이썬 어렵다..\")\n",
    "f.write(\"\\n 으어어어\")\n",
    "f.close()"
   ]
  },
  {
   "cell_type": "code",
   "execution_count": 47,
   "metadata": {},
   "outputs": [
    {
     "name": "stdout",
     "output_type": "stream",
     "text": [
      "빅데이터수업 파일 연습 중\n",
      " 빅데이터수업 어렵다..\n",
      " 으어어어\n"
     ]
    }
   ],
   "source": [
    "f = open(\"data/ftest.txt\", \"r\", encoding = \"utf-8\")\n",
    "txt = f.read()\n",
    "txt = txt.replace(\"파이썬\", \"빅데이터수업\")     # 변수 = replace(변환 대상, 변환 내용)\n",
    "print(txt)\n",
    "f.close()"
   ]
  },
  {
   "cell_type": "code",
   "execution_count": 6,
   "metadata": {},
   "outputs": [
    {
     "name": "stdout",
     "output_type": "stream",
     "text": [
      "파이썬 파일 연습 중\n",
      "\n"
     ]
    }
   ],
   "source": [
    "f = open(\"C:\\\\Users\\\\acorn\\\\hghbigdata\\\\pythonwork\\\\basic\\\\data\\\\ftest.txt\", \"r\", encoding=\"utf-8\")\n",
    "txt = f.readline()\n",
    "print(txt)\n",
    "f.close()\n"
   ]
  },
  {
   "cell_type": "code",
   "execution_count": 56,
   "metadata": {},
   "outputs": [],
   "source": [
    "import pickle\n",
    "\n",
    "f = open(\"data/test.pickle\", \"wb\")     # wb: 데이터 2진수로 바꿔서 저장\n",
    "\n",
    "phones = {\"tom\":\"111-1111\", \"길동\":\"222-2222\"}\n",
    "li = [\"마우스\", \"키보드\"]\n",
    "t = (phones, li)\n",
    "\n",
    "pickle.dump(t, f)     # 저장: (저장할 data, 저장할 파일 위치)\n",
    "pickle.dump(li, f)     \n",
    "\n",
    "f.close()"
   ]
  },
  {
   "cell_type": "code",
   "execution_count": 1,
   "metadata": {},
   "outputs": [
    {
     "ename": "NameError",
     "evalue": "name 'pickle' is not defined",
     "output_type": "error",
     "traceback": [
      "\u001b[1;31m---------------------------------------------------------------------------\u001b[0m",
      "\u001b[1;31mNameError\u001b[0m                                 Traceback (most recent call last)",
      "\u001b[1;32m<ipython-input-1-ed805285d133>\u001b[0m in \u001b[0;36m<module>\u001b[1;34m\u001b[0m\n\u001b[0;32m      1\u001b[0m \u001b[0mf\u001b[0m \u001b[1;33m=\u001b[0m \u001b[0mopen\u001b[0m\u001b[1;33m(\u001b[0m\u001b[1;34m\"data/test.pickle\"\u001b[0m\u001b[1;33m,\u001b[0m \u001b[1;34m\"rb\"\u001b[0m\u001b[1;33m)\u001b[0m     \u001b[1;31m# rb: 2진수로 불러옴(저장한 순서대로 불러와야 한다)\u001b[0m\u001b[1;33m\u001b[0m\u001b[1;33m\u001b[0m\u001b[0m\n\u001b[0;32m      2\u001b[0m \u001b[1;33m\u001b[0m\u001b[0m\n\u001b[1;32m----> 3\u001b[1;33m \u001b[0ma\u001b[0m\u001b[1;33m,\u001b[0m \u001b[0mb\u001b[0m \u001b[1;33m=\u001b[0m \u001b[0mpickle\u001b[0m\u001b[1;33m.\u001b[0m\u001b[0mload\u001b[0m\u001b[1;33m(\u001b[0m\u001b[0mf\u001b[0m\u001b[1;33m)\u001b[0m\u001b[1;33m\u001b[0m\u001b[1;33m\u001b[0m\u001b[0m\n\u001b[0m\u001b[0;32m      4\u001b[0m \u001b[0mprint\u001b[0m\u001b[1;33m(\u001b[0m\u001b[0ma\u001b[0m\u001b[1;33m)\u001b[0m\u001b[1;33m\u001b[0m\u001b[1;33m\u001b[0m\u001b[0m\n\u001b[0;32m      5\u001b[0m \u001b[0mprint\u001b[0m\u001b[1;33m(\u001b[0m\u001b[0mb\u001b[0m\u001b[1;33m)\u001b[0m\u001b[1;33m\u001b[0m\u001b[1;33m\u001b[0m\u001b[0m\n",
      "\u001b[1;31mNameError\u001b[0m: name 'pickle' is not defined"
     ]
    }
   ],
   "source": [
    "f = open(\"data/test.pickle\", \"rb\")     # rb: 2진수로 불러옴(저장한 순서대로 불러와야 한다)\n",
    "\n",
    "a, b = pickle.load(f)\n",
    "print(a)\n",
    "print(b)\n",
    "\n",
    "c = pickle.load(f)     # 불러옴\n",
    "print(c)\n",
    "\n",
    "f.close()"
   ]
  },
  {
   "cell_type": "code",
   "execution_count": 59,
   "metadata": {},
   "outputs": [],
   "source": [
    "# 데이터 압축\n",
    "\n",
    "import gzip\n",
    "\n",
    "data = {\n",
    "    \"a\":[1, 2.5, 3, 4+6j], \n",
    "    \"b\":(\"character string\", b\"byte string\"), \n",
    "    \"c\":{None, True, False}\n",
    "}\n",
    "\n",
    "f = gzip.open(\"data/test2.pickle\", \"wb\")\n",
    "\n",
    "pickle.dump(data, f)\n",
    "\n",
    "f.close()"
   ]
  },
  {
   "cell_type": "code",
   "execution_count": 60,
   "metadata": {},
   "outputs": [
    {
     "name": "stdout",
     "output_type": "stream",
     "text": [
      "{'a': [1, 2.5, 3, (4+6j)], 'b': ('character string', b'byte string'), 'c': {False, True, None}}\n"
     ]
    }
   ],
   "source": [
    "f = gzip.open(\"data/test2.pickle\", \"rb\")\n",
    "data = pickle.load(f)\n",
    "print(data)\n",
    "f.close()"
   ]
  },
  {
   "cell_type": "code",
   "execution_count": null,
   "metadata": {},
   "outputs": [],
   "source": [
    "'''\n",
    "파일 download 후\n",
    "\n",
    "숫자를 입력하세요: 4034\n",
    "찾았습니다\n",
    "못 찾았습니다\n",
    "'''"
   ]
  },
  {
   "cell_type": "code",
   "execution_count": 2,
   "metadata": {},
   "outputs": [
    {
     "name": "stdout",
     "output_type": "stream",
     "text": [
      "숫자를 입력하시오(종료는 x): x\n",
      "종료합니다\n"
     ]
    }
   ],
   "source": [
    "with open(\"C:\\\\Users\\\\acorn\\\\hghbigdata\\\\download\\\\pi_million_digits.txt\", \"r\") as f:\n",
    "    pi = f.read()\n",
    "    \n",
    "    while True: \n",
    "        menu = input(\"숫자를 입력하시오(종료는 x): \")\n",
    "        \n",
    "        if menu == \"x\":\n",
    "            print(\"종료합니다\")\n",
    "            break\n",
    "    \n",
    "        if menu in pi:\n",
    "            print(\"찾았습니다\")\n",
    "        else:\n",
    "            print(\"못 찾았습니다\")"
   ]
  },
  {
   "cell_type": "markdown",
   "metadata": {},
   "source": [
    "# GUI"
   ]
  },
  {
   "cell_type": "markdown",
   "metadata": {},
   "source": [
    "---\n",
    "다른 사람에게 파이썬 코드 보낼 때\n",
    "\n",
    "pyinstaller: 간단한 파이썬 코드 실행 프로그램\n",
    "\n",
    "설치: cmd prompt(명령실행창) - pip install pyinstaller\n",
    "\n",
    "파일이 있는 위치에서 cmd prompt - pyinstaller 파일명.확장자 - dist 폴더에 실행파일(.exe) 만들어짐\n",
    "\n",
    "\n",
    "옵션 추가(test3.py 열기)\n",
    "\n",
    "명령창 안 뜨도록/하나의 실행파일로 간단히: pyinstaller --noconsole --onefile test3.py\n",
    "                                                      (명령창x)   (하나의 실행파일)\n",
    "                                                      \n",
    "실행파일에 아이콘 넣기:\n",
    "1. 아이콘 준비: *.ico     cj> 이미지를 아이콘으로: http://icoconvert.com \n",
    "2. 옵션 추가: --icon= (이미지 경로)   ex) pyinstaller --icon=../res/test.ico test3.py\n"
   ]
  },
  {
   "cell_type": "markdown",
   "metadata": {},
   "source": [
    "---\n",
    "wxFormBuilder: 레이아웃 지원 프로그램(시각적으로 보여주며 기본 코드 자동 생성)\n",
    "\n",
    "-> pycharm 에서 수정 필요"
   ]
  },
  {
   "cell_type": "code",
   "execution_count": null,
   "metadata": {},
   "outputs": [],
   "source": []
  },
  {
   "cell_type": "code",
   "execution_count": null,
   "metadata": {},
   "outputs": [],
   "source": []
  }
 ],
 "metadata": {
  "kernelspec": {
   "display_name": "Python 3",
   "language": "python",
   "name": "python3"
  },
  "language_info": {
   "codemirror_mode": {
    "name": "ipython",
    "version": 3
   },
   "file_extension": ".py",
   "mimetype": "text/x-python",
   "name": "python",
   "nbconvert_exporter": "python",
   "pygments_lexer": "ipython3",
   "version": "3.7.3"
  }
 },
 "nbformat": 4,
 "nbformat_minor": 2
}
