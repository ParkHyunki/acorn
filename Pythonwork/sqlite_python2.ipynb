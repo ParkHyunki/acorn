{
 "cells": [
  {
   "cell_type": "code",
   "execution_count": 2,
   "metadata": {},
   "outputs": [],
   "source": [
    "import sqlite3\n",
    "\n",
    "import csv"
   ]
  },
  {
   "cell_type": "code",
   "execution_count": 4,
   "metadata": {},
   "outputs": [],
   "source": [
    "file = csv.reader(open(\"data/input.csv\"), delimiter=\",\")\n",
    "header = next(file)\n",
    "\n",
    "conn = sqlite3.connect(\"data/sqlite_test.db\")\n",
    "cur = conn.cursor()\n",
    "\n",
    "for row in file:\n",
    "    data = []\n",
    "    for col in range(len(header)):\n",
    "        data.append(row[col])\n",
    "        \n",
    "    cur.execute(\"insert into suppliers values(?, ?, ?, ?, ?)\", data)\n",
    "    \n",
    "conn.commit()\n",
    "conn.close()"
   ]
  },
  {
   "cell_type": "code",
   "execution_count": 6,
   "metadata": {},
   "outputs": [
    {
     "name": "stdout",
     "output_type": "stream",
     "text": [
      "('A', '001-1001', '2341', 500000.0, '2014-01-20')\n",
      "('A', '001-1002', '2341', 500000.0, '2014-01-20')\n",
      "('A', '001-1003', '5467', 750000.0, '2014-01-20')\n",
      "('A', '001-1004', '5467', 750000.0, '2014-01-20')\n",
      "('B', '001-1005', '7009', 250000.0, '2018-01-30')\n",
      "('B', '001-1006', '7009', 250000.0, '2018-01-30')\n",
      "('B', '001-1007', '6650', 125000.0, '2017-02-03')\n",
      "('B', '001-1008', '6650', 125000.0, '2017-02-03')\n",
      "('C', '001-1009', '3321', 615000.0, '2017-02-03')\n",
      "('C', '001-1010', '3321', 615000.0, '2017-02-10')\n",
      "('C', '001-1011', '3321', 615000.0, '2017-02-17')\n",
      "('C', '001-1012', '3321', 615000.0, '2017-02-24')\n",
      "('A', '001-1001', '2341', 500000.0, '2014-01-20')\n",
      "('A', '001-1002', '2341', 500000.0, '2014-01-20')\n",
      "('A', '001-1003', '5467', 750000.0, '2014-01-20')\n",
      "('A', '001-1004', '5467', 750000.0, '2014-01-20')\n",
      "('B', '001-1005', '7009', 250000.0, '2018-01-30')\n",
      "('B', '001-1006', '7009', 250000.0, '2018-01-30')\n",
      "('B', '001-1007', '6650', 125000.0, '2017-02-03')\n",
      "('B', '001-1008', '6650', 125000.0, '2017-02-03')\n",
      "('C', '001-1009', '3321', 615000.0, '2017-02-03')\n",
      "('C', '001-1010', '3321', 615000.0, '2017-02-10')\n",
      "('C', '001-1011', '3321', 615000.0, '2017-02-17')\n",
      "('C', '001-1012', '3321', 615000.0, '2017-02-24')\n",
      "('A', '001-1001', '2341', 500000.0, '2014-01-20')\n",
      "('A', '001-1002', '2341', 500000.0, '2014-01-20')\n",
      "('A', '001-1003', '5467', 750000.0, '2014-01-20')\n",
      "('A', '001-1004', '5467', 750000.0, '2014-01-20')\n",
      "('B', '001-1005', '7009', 250000.0, '2018-01-30')\n",
      "('B', '001-1006', '7009', 250000.0, '2018-01-30')\n",
      "('B', '001-1007', '6650', 125000.0, '2017-02-03')\n",
      "('B', '001-1008', '6650', 125000.0, '2017-02-03')\n",
      "('C', '001-1009', '3321', 615000.0, '2017-02-03')\n",
      "('C', '001-1010', '3321', 615000.0, '2017-02-10')\n",
      "('C', '001-1011', '3321', 615000.0, '2017-02-17')\n",
      "('C', '001-1012', '3321', 615000.0, '2017-02-24')\n"
     ]
    }
   ],
   "source": [
    "conn = sqlite3.connect(\"data/sqlite_test.db\")\n",
    "cur = conn.cursor()\n",
    "\n",
    "sql = \"select * from suppliers\"\n",
    "\n",
    "cur.execute(sql)\n",
    "\n",
    "for row in cur:\n",
    "    print(row)\n",
    "\n",
    "\n",
    "conn.close()"
   ]
  },
  {
   "cell_type": "code",
   "execution_count": 8,
   "metadata": {},
   "outputs": [],
   "source": [
    "conn = sqlite3.connect(\"data/sqlite_test.db\")\n",
    "cur = conn.cursor()\n",
    "\n",
    "sql = \"insert into suppliers values('hong', 5, 4, 6, 50)\"\n",
    "cur.execute(sql)\n",
    "\n",
    "conn.commit()\n",
    "conn.close()"
   ]
  },
  {
   "cell_type": "code",
   "execution_count": 9,
   "metadata": {},
   "outputs": [],
   "source": [
    "conn = sqlite3.connect(\"data/sqlite_test.db\")\n",
    "cur = conn.cursor()\n",
    "\n",
    "sql = \"delete from suppliers where 'supplier name'='hong'\"\n",
    "\n",
    "cur.execute(sql)\n",
    "\n",
    "conn.commit()\n",
    "conn.close()"
   ]
  },
  {
   "cell_type": "code",
   "execution_count": null,
   "metadata": {},
   "outputs": [],
   "source": [
    "db.books.inset()\n",
    "\n",
    "db.createCollections(\"books\")"
   ]
  },
  {
   "cell_type": "code",
   "execution_count": null,
   "metadata": {},
   "outputs": [],
   "source": [
    "db.emp.find({\"empno\":{$gt:3}}).pretty()"
   ]
  },
  {
   "cell_type": "code",
   "execution_count": null,
   "metadata": {},
   "outputs": [],
   "source": []
  }
 ],
 "metadata": {
  "kernelspec": {
   "display_name": "Python 3",
   "language": "python",
   "name": "python3"
  },
  "language_info": {
   "codemirror_mode": {
    "name": "ipython",
    "version": 3
   },
   "file_extension": ".py",
   "mimetype": "text/x-python",
   "name": "python",
   "nbconvert_exporter": "python",
   "pygments_lexer": "ipython3",
   "version": "3.6.8"
  }
 },
 "nbformat": 4,
 "nbformat_minor": 2
}
