{
 "cells": [
  {
   "cell_type": "markdown",
   "metadata": {},
   "source": [
    "## 정규 표현식(Regular Expression)\n",
    "\n",
    "1. 복잡한 문자열에 접근하기 위한 기준 마련\n",
    "\n",
    "    1) 반복 사용 : 변수 = re.compile(\"패턴\")\n",
    "    \n",
    "    2) 일회성 사용 : re.파이썬제공메서드(\"패턴\", \"찾는 문자\")\n",
    "\n",
    "\n",
    "2. 도움말 : http://docs.python.org/3/library/re.html\n",
    "\n",
    "\n",
    "3. 주요 기능 약속 기호\n",
    "\n",
    "    1) 반복\n",
    "        * : 0회 이상(나올 수도 있고, 안 나올 수도 있다)\n",
    "        + : 1회 이상\n",
    "        ? : 0회 또는 1회(like의 _와 비슷)\n",
    "        {n} : n회 반복\n",
    "        {m, n} : m회부터 n회까지 반복\n",
    "        \n",
    "    2) 매칭 메타문자\n",
    "        . : 줄바꿈 문자를 제외한 모든 문자와 매치\n",
    "        ^ : 문자열의 시작과 매치\n",
    "        [^] : 제외\n",
    "        $ : 문자열의 마지막과 매치\n",
    "        [] : 문자 집합 중 한 문자를 의미\n",
    "        | : 또는(or) 의미\n",
    "        {} : 정규식을 그룹으로 묶음\n",
    "        \n",
    "    3) 특수문자(\\문자)\n",
    "        \\d : 모든 숫자와 매치\n",
    "        \\D : 숫자가 아닌 문자와 매치\n",
    "        \\s : 공백 문자와 매치\n",
    "        \\S : 공백 문자가 아닌 모든 것과 매치\n",
    "        \\w : 숫자 또는 문자와 매치\n",
    "        \\W : 숫자 또는 문자가 아닌 모든 문자와 매치\n",
    "   \n",
    "   \n",
    "4. 파이썬에서 제공하는 메서드\n",
    "    \n",
    "    compile() : 정규표현식 객체 생성(패턴 정의) -> 표현식의 반복적인 사용시 사용\n",
    "    \n",
    "    match() : 문자열의 처음부터 정규식과 매치되는지 조사\n",
    "    \n",
    "    search() : 문자열 전체를 검색하여 정규식과 매치되는지 조사\n",
    "    \n",
    "    split()\n",
    "    \n",
    "    findall() : 정규식과 매치되는 모든 문자열(substring)을 리스트로 돌려준다\n",
    "    \n",
    "    finditer() : 정규식과 매치되는 모든 문자열을 반복 가능한 객체로 돌려준다\n",
    "    \n",
    "    sub() : 변경, 교체(replace와 비슷)\n",
    "    \n",
    "    ...\n",
    "\n",
    "5. 컴파일 옵션\n",
    "\n",
    "    DOTALL : .의 제한 보완(줄바꿈 문자까지 매치 가능)  => S\n",
    "    \n",
    "    IGNORECASE : 대소문자 구별x  => I\n",
    "    \n",
    "    MULTILINE : 여러 줄에 걸쳐 처리  => M"
   ]
  },
  {
   "cell_type": "code",
   "execution_count": 1,
   "metadata": {},
   "outputs": [],
   "source": [
    "import re  # 정규표현식 불러오기 위한 모듈\n",
    "\n",
    "p = re.compile(\"[a-z]\")  # 정규표현식 사용하게 해주는 객체 (\"a부터 z까지\" 중 한 개의 소문자를 찾겠다)\n",
    "\n",
    "p = re.compile(\"[a-z]*\")  # a부터 z까지 중 안 나올 수도 있고 여러번 나올 수도 있다"
   ]
  },
  {
   "cell_type": "code",
   "execution_count": 1,
   "metadata": {},
   "outputs": [],
   "source": [
    "import re\n",
    "\n",
    "p = re.compile(\"[a-z]+\")  # 알파벳 소문자로만 이어진 단어를 찾는다"
   ]
  },
  {
   "cell_type": "code",
   "execution_count": 2,
   "metadata": {},
   "outputs": [
    {
     "name": "stdout",
     "output_type": "stream",
     "text": [
      "<re.Match object; span=(0, 6), match='python'>\n"
     ]
    }
   ],
   "source": [
    "# match()\n",
    "\n",
    "m = p.match(\"python\")  # 내가 찾고자 하는 패턴과 현재 데이터가 맞는가. span=범위\n",
    "print(m)"
   ]
  },
  {
   "cell_type": "code",
   "execution_count": 3,
   "metadata": {},
   "outputs": [
    {
     "name": "stdout",
     "output_type": "stream",
     "text": [
      "None\n"
     ]
    }
   ],
   "source": [
    "m = p.match(\"3 python\")  # 숫자가 먼저 와 매치x : None 출력\n",
    "print(m)"
   ]
  },
  {
   "cell_type": "code",
   "execution_count": 4,
   "metadata": {},
   "outputs": [
    {
     "name": "stdout",
     "output_type": "stream",
     "text": [
      "<re.Match object; span=(0, 8), match='3 python'>\n"
     ]
    }
   ],
   "source": [
    "import re\n",
    "\n",
    "p = re.compile(\". [a-z]+\")  # . : 공백 문자 제외한 모든 문자 찾는다. = re.compile(\"[0-9] [a-z]+\")\n",
    "\n",
    "m = p.match(\"3 python\") \n",
    "print(m)"
   ]
  },
  {
   "cell_type": "code",
   "execution_count": 5,
   "metadata": {},
   "outputs": [
    {
     "name": "stdout",
     "output_type": "stream",
     "text": [
      "<re.Match object; span=(0, 6), match='python'>\n"
     ]
    }
   ],
   "source": [
    "# search()\n",
    "\n",
    "p = re.compile(\"[a-z]+\")\n",
    "\n",
    "m = p.search(\"python\")\n",
    "print(m)"
   ]
  },
  {
   "cell_type": "code",
   "execution_count": 6,
   "metadata": {},
   "outputs": [
    {
     "name": "stdout",
     "output_type": "stream",
     "text": [
      "<re.Match object; span=(2, 8), match='python'>\n"
     ]
    }
   ],
   "source": [
    "m = p.search(\"3 python\")  # 전체 가져와서 찾아보기 때문에 매치 문자 찾았다고 출력\n",
    "                          # match()는 하나씩 가져와 확인하기 때문에 None 출력\n",
    "print(m)"
   ]
  },
  {
   "cell_type": "code",
   "execution_count": null,
   "metadata": {},
   "outputs": [],
   "source": [
    "= re.search(\"패턴\", \"찾고자 하는 문자\")  # 일회성 사용(따로 객체 생성x)"
   ]
  },
  {
   "cell_type": "code",
   "execution_count": 8,
   "metadata": {},
   "outputs": [
    {
     "name": "stdout",
     "output_type": "stream",
     "text": [
      "<re.Match object; span=(0, 4), match='1234'>\n"
     ]
    }
   ],
   "source": [
    "m = re.search(\"[0-9]+\", \"1234 abc가나다ABC_567\")  # 하나 이상 반복되는 순수 숫자를 찾겠다\n",
    "print(m)"
   ]
  },
  {
   "cell_type": "code",
   "execution_count": 9,
   "metadata": {},
   "outputs": [
    {
     "name": "stdout",
     "output_type": "stream",
     "text": [
      "<re.Match object; span=(14, 18), match='_567'>\n"
     ]
    }
   ],
   "source": [
    "m = re.search(\"_[0-9]+\", \"1234 abc가나다ABC_567\")  # _로 시작하는 숫자가 하나 이상 반복되는 패턴을 찾겠다\n",
    "print(m)"
   ]
  },
  {
   "cell_type": "code",
   "execution_count": 16,
   "metadata": {},
   "outputs": [
    {
     "name": "stdout",
     "output_type": "stream",
     "text": [
      "['life', 'is', 'too', 'short']\n"
     ]
    }
   ],
   "source": [
    "# findall() : 매칭되는 것은 전부 찾겠다\n",
    "\n",
    "p = re.compile(\"[a-z]+\")\n",
    "\n",
    "m = p.findall(\"life 333 is 222 too 10short\")  # 해당하는 알파벳 소문자만 찾아서 보여준다\n",
    "print(m)"
   ]
  },
  {
   "cell_type": "code",
   "execution_count": 27,
   "metadata": {},
   "outputs": [
    {
     "name": "stdout",
     "output_type": "stream",
     "text": [
      "['123']\n",
      "['가나다']\n",
      "['1', '2', '3', '4', '5', '5', '5', '6']\n",
      "['1234', '555', '6']\n",
      "['12', '34', '55']\n",
      "['123', '555']\n"
     ]
    }
   ],
   "source": [
    "data = \"1234 abc가나다ABC_555_6\"\n",
    "\n",
    "print(re.findall(\"123\", data))  # 일회성으로 직접 패턴 만들어 찾는다. 지정된 숫자만 찾아 출력\n",
    "print(re.findall(\"가나다\", data))\n",
    "print(re.findall(\"[0-9]\", data))  # 한 자리에 해당하는 숫자 찾아 출력\n",
    "print(re.findall(\"[0-9]+\", data))  # 한 자리 이상 연속적인 숫자 찾아 출력\n",
    "print(re.findall(\"[0-9]{2}\", data))  # 숫자가 2자리까지만 반복되는 것 찾아 출력\n",
    "print(re.findall(\"[0-9]{2,3}\", data))  # 최소 2자리에서 3자리 반복되는 숫자"
   ]
  },
  {
   "cell_type": "code",
   "execution_count": 35,
   "metadata": {},
   "outputs": [
    {
     "name": "stdout",
     "output_type": "stream",
     "text": [
      "['abc', 'mbc']\n",
      "['1']\n",
      "[]\n",
      "['234 abc가나다ABC_555_6 mbc air air']\n",
      "['abc', 'air', 'air']\n",
      "['air']\n"
     ]
    }
   ],
   "source": [
    "data = \"1234 abc가나다ABC_555_6 mbc air air\"\n",
    "\n",
    "print(re.findall(\".bc\", data))  # 앞에는 어떤 문자가 와도 상관없고, bc로 끝나는 문자만 찾아\n",
    "print(re.findall(\"^1+\", data))  # 1로 시작하고 연속적으로 이루어져 있는 문자\n",
    "print(re.findall(\"^2+\", data))  # 2로 시작하는 문자 없다\n",
    "print(re.findall(\"[^1]+\", data))  # [^] = 제외. 1을 제외한 나머지 문자들 찾는다\n",
    "print(re.findall(\"a..\", data))  # a로 시작하는 모든 문자\n",
    "print(re.findall(\"air$\", data))  # 문장 맨 마지막에 있는 air만 찾겠다"
   ]
  },
  {
   "cell_type": "code",
   "execution_count": 43,
   "metadata": {},
   "outputs": [
    {
     "name": "stdout",
     "output_type": "stream",
     "text": [
      "['8', '0', '1', '0', '0', '5', '0']\n",
      "['8', '0', '1', '0', '0', '5', '0']\n",
      "['8', '0', '1', '0', '0', '5', '0']\n",
      "['8', '0', '1', '0', '0', '5', '0']\n",
      "['80', '10', '50']\n"
     ]
    }
   ],
   "source": [
    "# 특수문자\n",
    "\n",
    "data = \"tom 80, james 100, oscar 50\"\n",
    "\n",
    "print(re.findall(\"[0-9]\", data))\n",
    "print(re.findall(\"\\d\", data))  # 위와 같은 의미(모든 숫자와 매치)\n",
    "print(re.findall(\"\\\\d\", data))  # \\ 무효화(이스케이프 문자)\n",
    "print(re.findall(r\"\\d\", data))  # r\"\" : row 데이터 의미(작성 그대로 인식).  접두사 붙여서 문자열 제어/정의\n",
    "print(re.findall(r\"\\d{2}\", data))  # 숫자가 2개 반복되는 것 매치"
   ]
  },
  {
   "cell_type": "code",
   "execution_count": 44,
   "metadata": {},
   "outputs": [
    {
     "name": "stdout",
     "output_type": "stream",
     "text": [
      "['mbc', 'kbs', 'sbs', 'ytn']\n"
     ]
    }
   ],
   "source": [
    "# split() : 정규표현식으로 내가 원하는 패턴으로 분리해서 사용(문자열 split과 기능상 차이)\n",
    "\n",
    "print(re.split(\"\\W+\", \"mbc,kbs sbs:ytn\"))  # 분리가 통일되어 있지 않다(문자열 split 사용x)\n",
    "                                           # \\W 사용하여 숫자와 문자가 아닌 것으로 구분"
   ]
  },
  {
   "cell_type": "code",
   "execution_count": 45,
   "metadata": {},
   "outputs": [
    {
     "name": "stdout",
     "output_type": "stream",
     "text": [
      "888 abc가나다ABC_888\n"
     ]
    }
   ],
   "source": [
    "# sub() 변경, 교체 : re.sub(\"패턴\", \"바꿀 내용\", \"데이터\")\n",
    "\n",
    "m = re.sub(\"[0-9]+\", \"888\", \"1234 abc가나다ABC_567\")  # 숫자만 찾아서 888로 변경. 값 한번에 변경시 사용\n",
    "print(m)"
   ]
  },
  {
   "cell_type": "code",
   "execution_count": 49,
   "metadata": {},
   "outputs": [
    {
     "name": "stdout",
     "output_type": "stream",
     "text": [
      "<re.Match object; span=(0, 6), match='python'>\n",
      "python\n",
      "0 6\n",
      "(0, 6)\n"
     ]
    }
   ],
   "source": [
    "# match() / search() 에서 사용되는 메서드: group(), start(), end(), span()\n",
    "\n",
    "m = p.match(\"python\")\n",
    "print(m)\n",
    "\n",
    "print(m.group())  # 찾은 패턴의 결과값 가져온다\n",
    "print(m.start(), m.end())  # start() : 시작 위치. match는 항상 0, end() : 끝 위치\n",
    "print(m.span())  # 위치 출력"
   ]
  },
  {
   "cell_type": "code",
   "execution_count": 50,
   "metadata": {},
   "outputs": [
    {
     "name": "stdout",
     "output_type": "stream",
     "text": [
      "<re.Match object; span=(2, 8), match='python'>\n",
      "python\n",
      "2 8\n",
      "(2, 8)\n"
     ]
    }
   ],
   "source": [
    "m = p.search(\"3 python\")\n",
    "print(m)\n",
    "\n",
    "print(m.group()) \n",
    "print(m.start(), m.end())  # match와 달리 시작 위치값 변경\n",
    "print(m.span())  "
   ]
  },
  {
   "cell_type": "code",
   "execution_count": 51,
   "metadata": {},
   "outputs": [
    {
     "name": "stdout",
     "output_type": "stream",
     "text": [
      "None\n"
     ]
    }
   ],
   "source": [
    "# 컴파일 옵션\n",
    "\n",
    "p = re.compile(\"a.b\")  # 앞뒤에 a와 b가 위치하고, 그 사이에 어떤 문자가 와도 상관x\n",
    "\n",
    "m = p.match(\"a\\nb\")  # .은 줄바꿈 문자는 찾을 수 없다\n",
    "print(m)"
   ]
  },
  {
   "cell_type": "code",
   "execution_count": 53,
   "metadata": {},
   "outputs": [
    {
     "name": "stdout",
     "output_type": "stream",
     "text": [
      "<re.Match object; span=(0, 3), match='a\\nb'>\n"
     ]
    }
   ],
   "source": [
    "p = re.compile(\"a.b\", re.DOTALL)  # .이 가진 제한 보완(모든 문자 찾을 수 있다)\n",
    "\n",
    "m = p.match(\"a\\nb\") \n",
    "print(m)"
   ]
  },
  {
   "cell_type": "code",
   "execution_count": 57,
   "metadata": {},
   "outputs": [
    {
     "name": "stdout",
     "output_type": "stream",
     "text": [
      "<re.Match object; span=(0, 1), match='p'>\n",
      "None\n",
      "<re.Match object; span=(0, 1), match='P'>\n",
      "<re.Match object; span=(0, 1), match='P'>\n"
     ]
    }
   ],
   "source": [
    "p = re.compile(\"[a-z]\")  # 소문자만 찾아 매치\n",
    "p1 = re.compile(\"[a-zA-Z]\")  # 대소문자 찾아 매치\n",
    "p2 = re.compile(\"[a-z]\", re.I)  # I = IGNORECASE : 대소문자 구분x 옵션\n",
    "\n",
    "print(p.match(\"python\"))\n",
    "print(p.match(\"Python\"))  # 첫 글자가 대문자라 못 찾는다\n",
    "print(p1.match(\"Python\"))\n",
    "print(p2.match(\"Python\"))"
   ]
  },
  {
   "cell_type": "code",
   "execution_count": 58,
   "metadata": {},
   "outputs": [
    {
     "name": "stdout",
     "output_type": "stream",
     "text": [
      "['python one']\n"
     ]
    }
   ],
   "source": [
    "p = re.compile(\"^python\\s\\w+\")  # 앞글자는 python, 그 다음은 공백문자, 그 다음은 숫자 또는 문자와 매치\n",
    "\n",
    "data = \"\"\"python one\n",
    "life is too short\n",
    "python two\n",
    "you need python\n",
    "python three\n",
    "\"\"\"\n",
    "\n",
    "print(p.findall(data))"
   ]
  },
  {
   "cell_type": "code",
   "execution_count": 59,
   "metadata": {},
   "outputs": [
    {
     "name": "stdout",
     "output_type": "stream",
     "text": [
      "['python one', 'python two', 'python three']\n"
     ]
    }
   ],
   "source": [
    "p = re.compile(\"^python\\s\\w+\", re.M)  # 여러 줄 처리 : 다수의 결과값 출력\n",
    "\n",
    "data = \"\"\"python one\n",
    "life is too short\n",
    "python two\n",
    "you need python\n",
    "python three\n",
    "\"\"\"\n",
    "\n",
    "print(p.findall(data))"
   ]
  },
  {
   "cell_type": "code",
   "execution_count": null,
   "metadata": {},
   "outputs": [],
   "source": []
  }
 ],
 "metadata": {
  "kernelspec": {
   "display_name": "Python 3",
   "language": "python",
   "name": "python3"
  },
  "language_info": {
   "codemirror_mode": {
    "name": "ipython",
    "version": 3
   },
   "file_extension": ".py",
   "mimetype": "text/x-python",
   "name": "python",
   "nbconvert_exporter": "python",
   "pygments_lexer": "ipython3",
   "version": "3.7.3"
  }
 },
 "nbformat": 4,
 "nbformat_minor": 2
}
