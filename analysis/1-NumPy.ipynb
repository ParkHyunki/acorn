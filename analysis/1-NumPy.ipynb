{
 "cells": [
  {
   "cell_type": "markdown",
   "metadata": {},
   "source": [
    "# 특징\n",
    "\n",
    "1) 벡터 및 행렬 연산과 관련된 편리한 기능 제공(숫자 데이터와 관련된 도움)\n",
    "\n",
    "2) list와 거의 동일 but, NumPy 배열(같은 형식으로만 묶음: 처리속도 ↑)의 특징 갖는다\n",
    "    - 모든 원소가 같은 자료형이여야 한다\n",
    "        \n",
    "    - 원소의 개수 수정x\n",
    "        \n",
    "    - 제한적이기는 하지만 성능 우수(다량의 데이터 분석)\n",
    "    \n",
    "    cf. 배열: 같은 형식으로 이루어진 데이터를 연속적으로 저장\n",
    "       \n",
    "3) 빠른 속도 지원\n",
    "\n",
    "4) 벡터화 연산, 배열 인덱싱 통한 질의 가능\n",
    "\n",
    "5) Documnet = http://www.numpy.org\n",
    "\n",
    "\n",
    "    "
   ]
  },
  {
   "cell_type": "code",
   "execution_count": 2,
   "metadata": {},
   "outputs": [],
   "source": [
    "import numpy as np"
   ]
  },
  {
   "cell_type": "markdown",
   "metadata": {},
   "source": [
    "## 배열\n",
    "\n",
    "1) 정의: 같은 형식으로 이루어진 데이터를 연속적으로 저장. 파이썬에서 배열 사용 위해 NumPy 사용\n",
    "\n",
    "2) 종류\n",
    "\n",
    "    - 1차원 배열: 한 줄로 연속되어 이루어진 데이터 배열. 배열의 최소단위. \n",
    "                  데이터에 직접적으로 접근(인덱스에 접근하면 바로 값 사용 가능)\n",
    "    \n",
    "    - 다차원 배열: 이전 차원 배열들의 집합. 데이터에 간접적으로 접근(행, 열 통해 인덱스 접근(값의 주소))\n",
    "                   차원 늘어날수록 데이터 관리 위한 주소가 하나씩 늘어난다(간접 접근)"
   ]
  },
  {
   "cell_type": "markdown",
   "metadata": {},
   "source": [
    "### 1차원 배열"
   ]
  },
  {
   "cell_type": "code",
   "execution_count": null,
   "metadata": {},
   "outputs": [],
   "source": [
    "a1 = [1, 2, 3, 4, 5, 10, 20]  # -> 리스트(배열x)\n",
    "print(a1)\n",
    "print(type(a1))\n",
    "\n",
    "a2 = np.array([1, 2, 3, 4, 5, 10, 20])  # -> 배열 특성 가진 데이터(처리 속도 다르다). ndarray = 다차원 배열 위한 객체\n",
    "print(a2)\n",
    "print(type(a2))\n",
    "print(a2.shape)  # 배열의 차원과 데이터 개수 알려준다. (7, ) = 7개의 데이터가 1차원 배열로 있다"
   ]
  },
  {
   "cell_type": "code",
   "execution_count": null,
   "metadata": {},
   "outputs": [],
   "source": [
    "# 벡터화 연산\n",
    "# cf.벡터화: 수치 사용할 때 방향에 따라 의미가 다르다(데이터가 방향성을 갖는다)\n",
    "\n",
    "data = [0, 1, 2, 3, 4, 5, 6, 7, 8, 9]\n",
    "print(data*2)  # 데이터 연산x. 데이터 반복하여 처리\n",
    "\n",
    "data2 = np.array(data)\n",
    "print(data2*2)  # 벡터화 연산: 각각의 데이터 연산(여러 개의 데이터를 묶어 한번에 연산 가능)\n",
    "print(data2-2)"
   ]
  },
  {
   "cell_type": "markdown",
   "metadata": {},
   "source": [
    "### 2차원 배열"
   ]
  },
  {
   "cell_type": "code",
   "execution_count": null,
   "metadata": {},
   "outputs": [],
   "source": [
    "ar = np.array([[0, 1, 2], \n",
    "               [3, 4, 5]])\n",
    "print(ar)\n",
    "print(ar.shape)  # 출력 의미: 2행 3열로 이루어진 데이터다\n",
    "\n",
    "print(len(ar))  # 행의 개수 2개(전체적 배열 관리하는 주소)\n",
    "print(len(ar[1]))  # 행의 주소(ar[1])로 물어본다: 열의 개수 출력\n",
    "print(ar[0][2])  # 실제 값 접근"
   ]
  },
  {
   "cell_type": "markdown",
   "metadata": {},
   "source": [
    "### 3차원 배열"
   ]
  },
  {
   "cell_type": "code",
   "execution_count": null,
   "metadata": {},
   "outputs": [],
   "source": [
    "# 2차원 배열을 하나로 합친 배열\n",
    "\n",
    "ar = np.array([[[1, 2, 3, 4], [5, 6, 7, 8], [9, 10, 11, 12]], \n",
    "               [[1, 2, 3, 4], [5, 6, 7, 8], [9, 10, 11, 12]]])\n",
    "  # 1차원 배열들을 하나로 묶어 2차원 배열로, 2차원 배열들을 하나로 묶어 3차원으로\n",
    "print(ar)\n",
    "print(ar.shape)  # 출력 의미: 2면 3행 4열로 이루어진 데이터\n",
    "print(ar.ndim)  # 배열 차원 확인\n",
    "\n",
    "print(len(ar), len(ar[0]), len(ar[0][0]))  # 2차원 배열 2개 관리, 2차원의 개수(행의 개수), 1차원의 개수(열의 개수)\n",
    "print(ar[0][1][2])  # 실제 값 접근"
   ]
  },
  {
   "cell_type": "code",
   "execution_count": null,
   "metadata": {},
   "outputs": [],
   "source": [
    "nd = np.array([[[1]]])  # [] = 차원을 나타내는 기호로 사용\n",
    "print(nd)\n",
    "print(nd.ndim)\n",
    "print(nd.shape)\n",
    "\n",
    "print(nd[0][0][0])"
   ]
  },
  {
   "cell_type": "markdown",
   "metadata": {},
   "source": [
    "## 배열의 인덱싱"
   ]
  },
  {
   "cell_type": "code",
   "execution_count": 22,
   "metadata": {},
   "outputs": [
    {
     "name": "stdout",
     "output_type": "stream",
     "text": [
      "2 4\n",
      "2 4 5\n"
     ]
    }
   ],
   "source": [
    "ar = np.array([0, 1, 2, 3, 4])\n",
    "print(ar[2], ar[-1])\n",
    "\n",
    "ar2 = np.array([[0, 1, 2], [3, 4, 5]])\n",
    "print(ar2[0, 2], ar2[1, 1], ar2[-1, -1])"
   ]
  },
  {
   "cell_type": "code",
   "execution_count": null,
   "metadata": {},
   "outputs": [],
   "source": [
    "# fancy indexing : 다양한 인덱싱 방법\n",
    "\n",
    "ar = np.array([i for i in range(10)])\n",
    "idx = np.array([True, False, True, False, True, False, True, False, True, False])\n",
    "\n",
    "print(ar[idx])  # idx 인덱스 삼아 True인 값만 출력\n",
    "print(ar % 2)\n",
    "print(ar % 2 == 0)  # 벡터 연산 통해 True, False 구분\n",
    "print(ar[ar % 2 == 0])  # 벡터 연산의 결과값을 인덱스 삼아 출력 (= print(ar[idx]))"
   ]
  },
  {
   "cell_type": "code",
   "execution_count": null,
   "metadata": {},
   "outputs": [],
   "source": [
    "ar = np.array([[1, 2, 3, 4], [5, 6, 7, 8], [9, 10, 11, 12]])\n",
    "print(ar)\n",
    "print(\"----------\")\n",
    "\n",
    "# 범위 이용하여 인덱싱(슬라이싱)\n",
    "print(ar[1:3, 0:2])  # 행과 열의 위치를 범위로\n",
    "print(\"----------\")\n",
    "print(ar[1:3, :])\n",
    "print(\"----------\")\n",
    "print(ar[[2, 0, 1], :])  # 원하는 행 출력: 3번째 행, 1번째 행, 2번째 행의 전체 열 출력\n",
    "print(\"----------\")\n",
    "print(ar[:2, :2])"
   ]
  },
  {
   "cell_type": "markdown",
   "metadata": {},
   "source": [
    "## NumPy의 자료형\n",
    "\n",
    "    - b : boolian(True / False)\n",
    "    - i : 정수형                                                     ex. i8 = 8자리의 정수\n",
    "    - u : 부호가 없는 정수형(양의 정수)\n",
    "    - f : 부동 소수점(실수)\n",
    "    - c : 복소수\n",
    "    - O : 객체\n",
    "    - S : byte 문자열(1 byte를 한 글자로 = 영문자, ASCII코드)        ex. S24 = 24자리의 문자열\n",
    "    - U : 유니코드(2 byte를 한 글자로 = 영문자를 제외한 문자들)"
   ]
  },
  {
   "cell_type": "code",
   "execution_count": null,
   "metadata": {},
   "outputs": [],
   "source": [
    "ar = np.array([1, 2, 3])\n",
    "print(ar.dtype)  # 자료형 타입과 기본 크기 확인\n",
    "\n",
    "ar1 = np.array([1.0, 2.0, 3.0])\n",
    "print(ar1.dtype)  # 부동 소수점 타입\n",
    "\n",
    "ar2 = np.array([1, 2, 3.0])  # 정수와 실수 혼용(큰 형식의 데이터 타입 기준으로 타입화)\n",
    "print(ar2.dtype)"
   ]
  },
  {
   "cell_type": "code",
   "execution_count": null,
   "metadata": {},
   "outputs": [],
   "source": [
    "ar = np.array([1, 2, 3], dtype=\"f\")  # 데이터 타입 별도 지정 가능(기본크기는 원래 데이터 타입)\n",
    "print(ar.dtype)\n",
    "print(ar[0] + ar[1])  # 부동 소수점으로 출력"
   ]
  },
  {
   "cell_type": "code",
   "execution_count": null,
   "metadata": {},
   "outputs": [],
   "source": [
    "ar = np.array([1, 2, 3], dtype=\"U\")  # 정수를 유니코드(문자)로\n",
    "print(ar.dtype)\n",
    "print(ar[0] + ar[1])  # 문자열 연결로 출력"
   ]
  },
  {
   "cell_type": "markdown",
   "metadata": {},
   "source": [
    "## 배열 생성"
   ]
  },
  {
   "cell_type": "code",
   "execution_count": null,
   "metadata": {},
   "outputs": [],
   "source": [
    "ar = np.zeros(5)  # 0으로 채워진 배열 생성\n",
    "print(ar)\n",
    "\n",
    "ar1 = np.zeros((2, 3), dtype = \"i\")  # 2행 3열로 0으로 채워진 배열 생성. 정수형으로 데이터 타입 지정\n",
    "print(ar1)\n",
    "print(ar1.dtype)\n",
    "\n",
    "ar2 = np.zeros(5, dtype = \"U4\")  # 데이터 타입 유니코드(최대4글자)로\n",
    "ar2[0] = \"abc\"\n",
    "ar2[1] = \"으라야압\"\n",
    "ar2[2] = \"ABCDEF\"  # 4글자 제한이기 때문에 ABCD만 저장\n",
    "print(ar2)"
   ]
  },
  {
   "cell_type": "code",
   "execution_count": null,
   "metadata": {},
   "outputs": [],
   "source": [
    "ar = np.ones((2, 3, 4))  # 1로 채워진 3차원 배열 생성(2문 3행 4열)\n",
    "print(ar)\n",
    "\n",
    "data = np.zeros((2, 3))\n",
    "ar = np.ones_like(data)  # 0으로 채워진 2차원 배열을 1로 다시 채운다. ones_like = 크기를 명시하지 않고 다른 배열과 크기 맞춰서 생성\n",
    "print(ar)\n",
    "\n",
    "ar1 = np.empty((4, 3))  # 원래 메모리의 값(Garbage값)으로 채워진 2차원 배열 생성\n",
    "print(ar1)\n"
   ]
  },
  {
   "cell_type": "code",
   "execution_count": null,
   "metadata": {},
   "outputs": [],
   "source": [
    "# arange() : 값 생성 (range()와 비슷)\n",
    "\n",
    "print(np.arange(10))  # 배열로 0~9까지 생성\n",
    "print(np.arange(3, 21, 2))  # (3부터 시작해 20까지 2씩 건너뛰어서 생성)"
   ]
  },
  {
   "cell_type": "code",
   "execution_count": null,
   "metadata": {},
   "outputs": [],
   "source": [
    "# linspace() : 구간을 나눌 때 사용\n",
    "\n",
    "print(np.linspace(0, 100, 5))  # (0부터 100까지 5등분)"
   ]
  },
  {
   "cell_type": "markdown",
   "metadata": {},
   "source": [
    "## 전치연산(Transpose): 행과 열의 위치 변환"
   ]
  },
  {
   "cell_type": "code",
   "execution_count": null,
   "metadata": {},
   "outputs": [],
   "source": [
    "ar = np.array([[1, 2, 3], [4, 5, 6]])\n",
    "print(ar)\n",
    "\n",
    "print(ar.T)  # 행과 열 변환"
   ]
  },
  {
   "cell_type": "markdown",
   "metadata": {},
   "source": [
    "## 배열의 크기 변환\n",
    "\n",
    "    - reshape() : 원하는 크기로 변경\n",
    "    - flatten() : 다차원을 일차원으로\n",
    "    - ravel() : 다차원을 일차원으로\n"
   ]
  },
  {
   "cell_type": "code",
   "execution_count": null,
   "metadata": {},
   "outputs": [],
   "source": [
    "ar = np.arange(12)\n",
    "print(ar)\n",
    "\n",
    "ar1 = ar.reshape(3, 4)  # ar 배열을 3행 4열의 2차원 배열로 변환\n",
    "print(ar1)\n",
    "\n",
    "ar2 = ar.reshape(3, -1)  # (3행으로 나누고 나머지로 열 구성)\n",
    "print(ar2)\n",
    "\n",
    "ar3 = ar.reshape(2, 2, 3)  # 2면 2행 3열의 3차원 배열로 변환\n",
    "print(ar3)\n",
    "\n",
    "ar4 = ar.reshape(2, 2, -1)  # 2면 2행으로 나누고 나머지로 열 구성\n",
    "print(ar4)\n",
    "\n",
    "ar5 = ar.reshape(2, -1, 3)  # 2면 3열로 나누고 나머지로 행 구성\n",
    "print(ar5)\n",
    "\n",
    "print(ar5.flatten())  # 3차원 배열인 ar5를 1차원 배열로 변환\n",
    "print(ar4.ravel())  # flatten()과 차이x"
   ]
  },
  {
   "cell_type": "markdown",
   "metadata": {},
   "source": [
    "## 배열 연결 : 배열을 마치 쌓아올리는 것처럼 연결\n",
    "\n",
    "    - stack() : 옵션 통해 연결 + 차원 높임\n",
    "    - hstack() : 수평으로 연결\n",
    "    - vstack() : 수직으로 연결\n",
    "    - dstack() : 깊이(차원이 높을수록 깊이가 깊다)에 따른 연결\n",
    "    - tile()"
   ]
  },
  {
   "cell_type": "code",
   "execution_count": null,
   "metadata": {},
   "outputs": [],
   "source": [
    "# hstack(), vstack()\n",
    "\n",
    "ar1 = np.ones((2, 3))\n",
    "ar2 = np.zeros((2, 2))\n",
    "\n",
    "ar3 = np.hstack([ar1, ar2])  # 수평으로 ar1과 ar2 연결(행의 개수로 맞춤)\n",
    "print(ar3)\n",
    "\n",
    "ar4 = np.vstack([ar1, ar2])  # 수직으로 ar1과 ar2 연결(열의 개수로 맞춤)\n",
    "print(ar4)  # ar1과 ar2 열의 개수가 달라 에러 발생\n"
   ]
  },
  {
   "cell_type": "code",
   "execution_count": null,
   "metadata": {},
   "outputs": [],
   "source": [
    "# dstack\n",
    "\n",
    "ar1 = np.ones((3, 4))\n",
    "ar2 = np.zeros((3, 4))\n",
    "\n",
    "ar3 = np.dstack([ar1, ar2])  # 2차원을 깊게 만든다 = 3차원\n",
    "print(ar3)\n",
    "print(ar3.shape)  # 3행 4열짜리 2차원 배열 2개 연결 = 3면 4행 2열(3 * 4 * 2)"
   ]
  },
  {
   "cell_type": "code",
   "execution_count": null,
   "metadata": {},
   "outputs": [],
   "source": [
    "# stack()\n",
    "\n",
    "ar1 = np.ones((3, 4))\n",
    "ar2 = np.zeros((3, 4))\n",
    "\n",
    "ar3 = np.vstack([ar1, ar2])  # 2차원 배열 수직 연결\n",
    "print(ar3)\n",
    "print(\"-----------------\")\n",
    "\n",
    "ar4 = np.stack([ar1, ar2])  # 2차원 배열 수직으로 연결하여 3차원 배열로\n",
    "print(ar4)\n",
    "print(\"-----------------\")\n",
    "\n",
    "ar5 = np.stack([ar1, ar2], axis=0)  # axis 설정 변경하여 연결 축 설정 가능(0은 기본값 = 열 기준, 1 = 행 기준)\n",
    "print(ar5, ar5.shape)  # (2면 3행 4열)\n",
    "print(\"-----------------\")\n",
    "\n",
    "ar6 = np.stack([ar1, ar2], axis=1)  # 행 기준으로 3차원 배열로 연결\n",
    "print(ar6, ar6.shape)  # (3면 2행 4열)"
   ]
  },
  {
   "cell_type": "markdown",
   "metadata": {},
   "source": [
    "## 2차원 좌표의 순서쌍 : meshgrid()"
   ]
  },
  {
   "cell_type": "code",
   "execution_count": 6,
   "metadata": {},
   "outputs": [
    {
     "name": "stdout",
     "output_type": "stream",
     "text": [
      "[[0 1 2]\n",
      " [0 1 2]\n",
      " [0 1 2]\n",
      " [0 1 2]\n",
      " [0 1 2]]\n",
      "[[0 0 0]\n",
      " [1 1 1]\n",
      " [2 2 2]\n",
      " [3 3 3]\n",
      " [4 4 4]]\n",
      "[[(0, 0), (1, 0), (2, 0)], [(0, 1), (1, 1), (2, 1)], [(0, 2), (1, 2), (2, 2)], [(0, 3), (1, 3), (2, 3)], [(0, 4), (1, 4), (2, 4)]]\n"
     ]
    },
    {
     "data": {
      "image/png": "[encoded data removed]",
      "text/plain": [
       "<Figure size 432x288 with 1 Axes>"
      ]
     },
     "metadata": {
      "needs_background": "light"
     },
     "output_type": "display_data"
    }
   ],
   "source": [
    "x = np.arange(3)\n",
    "y = np.arange(5)\n",
    "\n",
    "X, Y = np.meshgrid(x, y)  # 크기가 다른 두 개의 데이터를 shape으로 맞춰\n",
    "print(X)\n",
    "print(Y)\n",
    "\n",
    "Z = [list(zip(x, y)) for x, y in zip(X, Y)]\n",
    "print(Z)\n",
    "\n",
    "import matplotlib.pylab as plt  # 시각화 위한 모듈\n",
    "\n",
    "plt.figure\n",
    "\n",
    "plt.scatter(X, Y)  # scatter() : 산포도 그려주는 함수\n",
    "\n",
    "plt.show()"
   ]
  },
  {
   "cell_type": "markdown",
   "metadata": {},
   "source": [
    "## 브로드 캐스팅\n",
    "\n",
    "    - 정의: 크기가 서로 다른 행렬(벡터)끼리 연산 가능하게 하는 것\n",
    "        ex. 리스트*2=반복, 배열*2=연산(브로드캐스팅 지원되기 때문)"
   ]
  },
  {
   "cell_type": "code",
   "execution_count": 39,
   "metadata": {},
   "outputs": [
    {
     "name": "stdout",
     "output_type": "stream",
     "text": [
      "[[0 1 2]\n",
      " [1 2 3]\n",
      " [2 3 4]\n",
      " [3 4 5]\n",
      " [4 5 6]]\n",
      "--------------------------\n",
      "[[0]\n",
      " [1]\n",
      " [2]\n",
      " [3]\n",
      " [4]]\n",
      "--------------------------\n",
      "[[ 0  1  2]\n",
      " [ 2  3  4]\n",
      " [ 4  5  6]\n",
      " [ 6  7  8]\n",
      " [ 8  9 10]]\n",
      "--------------------------\n",
      "[0 1 2]\n",
      "--------------------------\n",
      "[[0 2 4]\n",
      " [1 3 5]\n",
      " [2 4 6]\n",
      " [3 5 7]\n",
      " [4 6 8]]\n"
     ]
    }
   ],
   "source": [
    "x = np.vstack([range(7)[i:i+3] for i in range(5)])  # 수직으로 결합(vstack 통해 5행 3열의 2차원 배열)\n",
    "print(x)\n",
    "print(\"--------------------------\")\n",
    "\n",
    "y = np.arange(5)[:, np.newaxis]  # [np.newaxis : 열 하나 새로 생성하여 5행 2열의 2차원 배열로]\n",
    "print(y)\n",
    "print(\"--------------------------\")\n",
    "\n",
    "print(x+y)  # 브로드 캐스팅 지원되기 때문에 자동으로 자리를 맞춰 연산 가능(행열 규칙 내에서)\n",
    "print(\"--------------------------\")\n",
    "\n",
    "z = np.arange(3)\n",
    "print(z)\n",
    "print(\"--------------------------\")\n",
    "\n",
    "print(x+z)  # 다른 차원의 배열끼리 연산 가능"
   ]
  },
  {
   "cell_type": "code",
   "execution_count": 27,
   "metadata": {},
   "outputs": [
    {
     "data": {
      "text/plain": [
       "[range(0, 3), range(1, 4), range(2, 5), range(3, 6), range(4, 7)]"
      ]
     },
     "execution_count": 27,
     "metadata": {},
     "output_type": "execute_result"
    }
   ],
   "source": [
    "x = [range(7)[i:i+3] for i in range(5)]  # 5번 반복이니 range() 5개 생성. 맨 앞 range(7)로 열값이 7까지 되도록 범위 지정\n",
    "x\n",
    "\n",
    "y = np.arange(5)[:7]  # 1차원 배열 [범위지정 : 범위를 6까지 지정해도 range(5)이기 때문에 0~4까지 출력]\n",
    "y"
   ]
  },
  {
   "cell_type": "markdown",
   "metadata": {},
   "source": [
    "## 차원 축소(Dimension Reduction) 연산\n",
    "\n",
    "1) 원본 데이터 중 하나의 특징이 강조된 값 추출하는 것이기때문에 차원 축소로 본다\n",
    "\n",
    "    - 최대값 / 최소값 : max, min, argmax, argmin \n",
    "    \n",
    "    - 통계 : 합계(sum), 평균(mean), 중간값(median), 표준편차(std), 분산(var)\n",
    "    \n",
    "    - 불리언 : all(모두 참=True), any(하나만 참=True)"
   ]
  },
  {
   "cell_type": "code",
   "execution_count": 49,
   "metadata": {},
   "outputs": [
    {
     "name": "stdout",
     "output_type": "stream",
     "text": [
      "0\n",
      "1\n",
      "True\n",
      "False\n",
      "합계:  6\n",
      "열 합계:  [3 3]\n",
      "행 합계:  [2 4]\n"
     ]
    }
   ],
   "source": [
    "x = np.array([1, 3, 2])\n",
    "    \n",
    "result = np.argmin(x)  # 최소값의 위치\n",
    "print(result)\n",
    "\n",
    "result1 = np.argmax(x)  # 최대값의 위치\n",
    "print(result1)\n",
    "\n",
    "print(np.any([True, True, False]))  # or\n",
    "print(np.all([True, True, False]))  # and\n",
    "\n",
    "x = np.array([[1, 1], [2, 2]])\n",
    "print(\"합계: \", x.sum())  # 차원 상관 없이 전체 데이터의 합계\n",
    "print(\"열 합계: \", x.sum(axis=0))\n",
    "print(\"행 합계: \", x.sum(axis=1))  # axis 속성 부여 통해 열/행 합계"
   ]
  },
  {
   "cell_type": "markdown",
   "metadata": {},
   "source": [
    "## 정렬"
   ]
  },
  {
   "cell_type": "code",
   "execution_count": 55,
   "metadata": {},
   "outputs": [
    {
     "name": "stdout",
     "output_type": "stream",
     "text": [
      "[[ 4  3  5  7]\n",
      " [ 1 12 11  9]\n",
      " [ 2 15  1 14]]\n",
      "[[ 3  4  5  7]\n",
      " [ 1  9 11 12]\n",
      " [ 1  2 14 15]]\n"
     ]
    }
   ],
   "source": [
    "ar = np.array([[4, 3, 5, 7], \n",
    "               [1, 12, 11, 9], \n",
    "               [2, 15, 1, 14]])\n",
    "\n",
    "np.sort(ar)  # sort() : 정렬(기본 : 행 기준)\n",
    "np.sort(ar, axis=1)  # 행 기준 정렬\n",
    "np.sort(ar, axis=0)  # 열 기준 정렬\n",
    "\n",
    "print(ar)  # 원본 데이터는 변화x (별도의 메모리에 따로 처리)\n",
    "\n",
    "ar.sort()  # in-place : 원본 데이터 자체가 변화 (= ar=ar.sort())\n",
    "print(ar)"
   ]
  },
  {
   "cell_type": "code",
   "execution_count": 58,
   "metadata": {},
   "outputs": [
    {
     "name": "stdout",
     "output_type": "stream",
     "text": [
      "[2 3 1 0]\n",
      "[12 25 38 42]\n"
     ]
    }
   ],
   "source": [
    "# argsort() : 각 위치에 있는 값에 대한 정렬의 순서 출력(오름차순)\n",
    "\n",
    "ar = np.array([42, 38, 12, 25])\n",
    "\n",
    "idx = np.argsort(ar)\n",
    "print(idx)  # 위치\n",
    "print(ar[idx])  # 실제 값"
   ]
  },
  {
   "cell_type": "markdown",
   "metadata": {},
   "source": [
    "## 기술통계(데이터 정리/요약)\n",
    "\n",
    "    - 데이터 개수 : len()\n",
    "    \n",
    "    - 평균 / 중앙값 : mean() / median()\n",
    "    \n",
    "    - 분산 : var()\n",
    "    \n",
    "    - 표준편차 : std()\n",
    "    \n",
    "    - 최대값 / 최소값 : max() / min()\n",
    "    \n",
    "    - 사분위수 : percentile()"
   ]
  },
  {
   "cell_type": "code",
   "execution_count": 61,
   "metadata": {},
   "outputs": [
    {
     "name": "stdout",
     "output_type": "stream",
     "text": [
      "최소값:  -24.0\n",
      "1사분위:  0.0\n",
      "2사분위:  5.0\n",
      "3사분위:  10.0\n",
      "최대값:  23.0\n"
     ]
    }
   ],
   "source": [
    "# 사분위수 : 100을 4등분으로 나누어 파악(25 / 50 / 75 / 100)\n",
    "\n",
    "x = np.array([18,   5,  10,  23,  19,  -8,  10,   0,   0,   5,   2,  15,   8,\n",
    "              2,   5,   4,  15,  -1,   4,  -7, -24,   7,   9,  -6,  23, -13])\n",
    "\n",
    "print(\"최소값: \", np.percentile(x, 0))  # =최소값\n",
    "print(\"1사분위: \", np.percentile(x, 25))\n",
    "print(\"2사분위: \", np.percentile(x, 50))  # =중앙값/평균\n",
    "print(\"3사분위: \", np.percentile(x, 75))\n",
    "print(\"최대값: \", np.percentile(x, 100))  # =최대값"
   ]
  },
  {
   "cell_type": "code",
   "execution_count": 63,
   "metadata": {},
   "outputs": [
    {
     "data": {
      "text/plain": [
       "DescribeResult(nobs=26, minmax=(-24, 23), mean=4.8076923076923075, variance=119.84153846153846, skewness=-0.4762339485461929, kurtosis=0.37443381660038977)"
      ]
     },
     "execution_count": 63,
     "metadata": {},
     "output_type": "execute_result"
    }
   ],
   "source": [
    "from scipy.stats import describe  # scipy 라이브러리 사용\n",
    "\n",
    "x = np.array([18,   5,  10,  23,  19,  -8,  10,   0,   0,   5,   2,  15,   8,\n",
    "              2,   5,   4,  15,  -1,   4,  -7, -24,   7,   9,  -6,  23, -13])\n",
    "\n",
    "describe(x)   # 기술통계와 관련된 결과 출력"
   ]
  },
  {
   "cell_type": "markdown",
   "metadata": {},
   "source": [
    "## 난수(임의의 수)\n",
    "\n",
    "    - rand() : 0~1 사이의 균일 분포가 되어있는 데이터 중 임의 선택\n",
    "    \n",
    "    - randn() : 표준 정규분포에서 임의의 데이터 선택\n",
    "    \n",
    "    - randint() : 균일분포의 정수 데이터 중 임의 선택\n",
    "    \n",
    "    cf. 정규분포: 평균값에 대한 신뢰가 높다(데이터에 대한 신뢰가 높다) "
   ]
  },
  {
   "cell_type": "code",
   "execution_count": 68,
   "metadata": {},
   "outputs": [
    {
     "data": {
      "text/plain": [
       "array([[0.60884263, 0.91748316, 0.16481901, 0.59483709, 0.73901807],\n",
       "       [0.86877309, 0.95822703, 0.89051768, 0.99871711, 0.62594452],\n",
       "       [0.71302588, 0.10856654, 0.28503613, 0.94324695, 0.74961126]])"
      ]
     },
     "execution_count": 68,
     "metadata": {},
     "output_type": "execute_result"
    }
   ],
   "source": [
    "np.random.rand(10)\n",
    "\n",
    "np.random.rand(3, 5)  # 3행 5열의 2차원 배열을 난수로 채움"
   ]
  },
  {
   "cell_type": "code",
   "execution_count": 73,
   "metadata": {},
   "outputs": [
    {
     "data": {
      "text/plain": [
       "array([[18, 17, 13, 14],\n",
       "       [12, 11, 12, 13],\n",
       "       [16, 11, 15, 18]])"
      ]
     },
     "execution_count": 73,
     "metadata": {},
     "output_type": "execute_result"
    }
   ],
   "source": [
    "np.random.randint(10)  # 0~9까지의 정수\n",
    "\n",
    "np.random.randint(11, 20)  # 11~19까지의 범위 지정\n",
    "\n",
    "np.random.randint(11, 20, size=100)  # size : 개수 지정해주는 옵션\n",
    "\n",
    "np.random.randint(11, 20, size=(3, 4))  # 3행 4열의 2차원 배열 생성"
   ]
  },
  {
   "cell_type": "code",
   "execution_count": 82,
   "metadata": {},
   "outputs": [
    {
     "data": {
      "text/plain": [
       "array([0.5881308 , 0.89771373, 0.89153073, 0.81583748, 0.03588959])"
      ]
     },
     "execution_count": 82,
     "metadata": {},
     "output_type": "execute_result"
    }
   ],
   "source": [
    "# 난수의 고정 : 시작점 지정하여 재현성 확보(같은 결과를 보여주기 위함)\n",
    "\n",
    "np.random.seed(20)  # seed() : 시작점 지정(임의의 값)\n",
    "\n",
    "np.random.rand(5)"
   ]
  },
  {
   "cell_type": "code",
   "execution_count": 84,
   "metadata": {},
   "outputs": [
    {
     "name": "stdout",
     "output_type": "stream",
     "text": [
      "[0 1 2 3 4 5 6 7 8 9]\n",
      "[3 1 5 4 8 9 6 0 2 7]\n"
     ]
    }
   ],
   "source": [
    "# 데이터 순서 변경\n",
    "\n",
    "x = np.arange(10)\n",
    "print(x)\n",
    "\n",
    "np.random.shuffle(x)  # shuffle 통해 데이터 순서 무작위로 섞음\n",
    "print(x)"
   ]
  },
  {
   "cell_type": "code",
   "execution_count": 95,
   "metadata": {},
   "outputs": [
    {
     "data": {
      "text/plain": [
       "array([3, 3, 3, 0, 2, 2, 2, 3, 0, 2], dtype=int64)"
      ]
     },
     "execution_count": 95,
     "metadata": {},
     "output_type": "execute_result"
    }
   ],
   "source": [
    "# 샘플링 : replace = False. 비복원 추출(나머지에서 추출) / replace = True. 복원 추출(처음 개수로 복원 후 추출)\n",
    "\n",
    "np.random.choice(5, 5)  # choice() : 샘플링 위한 함수. 기본값=복원\n",
    "np.random.choice(10, 10, replace=False)  # 비복원으로 샘플링  =shuffle()\n",
    "\n",
    "np.random.choice(5, 10, p=[0.1, 0, 0.3, 0.6, 0])  # p : 확률 지정. 0~4까지 각 숫자들에 대한 확률(합계=1)"
   ]
  },
  {
   "cell_type": "markdown",
   "metadata": {},
   "source": [
    "## 정수형 데이터 카운팅 : 특정 데이터들의 개수 확인\n",
    "\n",
    "    - unique() : 중복 제외한 데이터 출력(데이터 종류 확인). 현재 주어진 데이터에 대한 개수\n",
    "    \n",
    "    - bincount() : 발생하지 않은 사건에 대해서도 카운트"
   ]
  },
  {
   "cell_type": "code",
   "execution_count": 97,
   "metadata": {},
   "outputs": [
    {
     "name": "stdout",
     "output_type": "stream",
     "text": [
      "['a' 'b' 'c']\n",
      "['a' 'b' 'c']\n",
      "[2 2 1]\n"
     ]
    }
   ],
   "source": [
    "# unique\n",
    "\n",
    "ar = np.array(['a', 'b', 'b', 'c', 'a'])\n",
    "\n",
    "print(np.unique(ar))  # 중복 데이터 제외한 데이터 리스트 출력\n",
    "\n",
    "index, count = np.unique(ar, return_counts=True)  # 결과값 2개이기 때문에 변수 2개 지정. return_counts 속성 부여 통해 확인\n",
    "print(index)  # 중복 데이터 제외한 데이터 리스트\n",
    "print(count)  # 특정 데이터 개수"
   ]
  },
  {
   "cell_type": "code",
   "execution_count": 103,
   "metadata": {},
   "outputs": [
    {
     "data": {
      "text/plain": [
       "array([0, 2, 3, 1, 0], dtype=int64)"
      ]
     },
     "execution_count": 103,
     "metadata": {},
     "output_type": "execute_result"
    }
   ],
   "source": [
    "# bincount\n",
    "\n",
    "ar = np.array([1, 1, 2, 2, 2, 3])\n",
    "\n",
    "np.bincount(ar, minlength=5)  # 범위 지정 통해 어떤 값이 나오고, 어떤 값이 안 나왔는지\n",
    "                              # 0은 발생x, 1은 2번, 3은 1번, 4는 발생x"
   ]
  },
  {
   "cell_type": "markdown",
   "metadata": {},
   "source": [
    "# 실습\n",
    "\n",
    "    - https://grouplens.org/datasets/movielens/ : 간단한 데이터 제공 사이트\n",
    "    \n",
    "    - movielens lates datasets 다운\n",
    "    \n",
    "    - 사용할 데이터: rating.csv(userId, movieId, rating, timestamp)"
   ]
  },
  {
   "cell_type": "code",
   "execution_count": 4,
   "metadata": {},
   "outputs": [
    {
     "name": "stdout",
     "output_type": "stream",
     "text": [
      "[[        1      1193         5 978300760]\n",
      " [        1       661         3 978302109]\n",
      " [        1       914         3 978301968]\n",
      " ...\n",
      " [     6040       562         5 956704746]\n",
      " [     6040      1096         4 956715648]\n",
      " [     6040      1097         4 956715569]]\n",
      "(1000209, 4)\n"
     ]
    }
   ],
   "source": [
    "# 데이터 불러오기: ratings.dat\n",
    "\n",
    "data1 = np.loadtxt(\"data/movielens/ratings.dat\", delimiter=\"::\", dtype=np.int64)\n",
    "    # 데이터 구분 위해 loadtxt 사용(open은 구분 없이 전체 불러온다). dtype 통해 정수형 데이터로 불러옴\n",
    "print(data1)\n",
    "print(data1.shape)  # 전체 데이터 크기 확인: 4개의 열로 이루어진 100만개의 데이터"
   ]
  },
  {
   "cell_type": "code",
   "execution_count": 113,
   "metadata": {},
   "outputs": [
    {
     "name": "stdout",
     "output_type": "stream",
     "text": [
      "<_csv.reader object at 0x0000000006872E18>\n"
     ]
    }
   ],
   "source": [
    "# 데이터 불러오기: ratings.csv\n",
    "\n",
    "import csv\n",
    "\n",
    "data2 = csv.reader(open(\"data/movielens/ratings.csv\", \"r\"))  # 기본 default가 \"r\"이기 때문에 안 써도 된다\n",
    "print(data2)\n",
    "\n",
    "for line in data2:\n",
    "    print(line)  # 객체형으로 받아오기 때문에 한 줄씩 받아놔야 한다"
   ]
  },
  {
   "cell_type": "code",
   "execution_count": 121,
   "metadata": {},
   "outputs": [
    {
     "name": "stdout",
     "output_type": "stream",
     "text": [
      "[[        1      1193         5 978300760]\n",
      " [        1       661         3 978302109]\n",
      " [        1       914         3 978301968]\n",
      " [        1      3408         4 978300275]\n",
      " [        1      2355         5 978824291]\n",
      " [        1      1197         3 978302268]\n",
      " [        1      1287         5 978302039]\n",
      " [        1      2804         5 978300719]\n",
      " [        1       594         4 978302268]\n",
      " [        1       919         4 978301368]]\n",
      "[[   1  938]\n",
      " [   1 2398]\n",
      " [   1 2918]\n",
      " [   1 1035]\n",
      " [   1 2791]\n",
      " [   1 2687]\n",
      " [   1 2018]\n",
      " [   1 3105]\n",
      " [   1 2797]\n",
      " [   1 2321]]\n",
      "<built-in method mean of numpy.ndarray object at 0x000000000A28B030>\n"
     ]
    }
   ],
   "source": [
    "data1 = np.loadtxt(\"data/movielens/ratings.dat\", delimiter=\"::\", dtype=np.int64)\n",
    "\n",
    "# 1행부터 10행까지 출력\n",
    "print(data1[:10])\n",
    "\n",
    "# 11행부터 20행까지 출력(userid와 movieid만 출력)\n",
    "print(data1[11:21, :2])\n"
   ]
  },
  {
   "cell_type": "code",
   "execution_count": 133,
   "metadata": {},
   "outputs": [
    {
     "name": "stdout",
     "output_type": "stream",
     "text": [
      "3.581564453029317\n"
     ]
    }
   ],
   "source": [
    "#전체 평점의 평균\n",
    "avg = data1[:, 2:3]\n",
    "print(avg.mean())\n"
   ]
  },
  {
   "cell_type": "code",
   "execution_count": 5,
   "metadata": {},
   "outputs": [
    {
     "name": "stdout",
     "output_type": "stream",
     "text": [
      "결과: \n",
      "[[1, 4.188679245283019], [2, 3.7131782945736433], [3, 3.9019607843137254], [4, 4.190476190476191], [5, 3.1464646464646466], [6, 3.9014084507042255], [7, 4.32258064516129], [8, 3.884892086330935], [9, 3.7358490566037736], [10, 4.114713216957606]]\n"
     ]
    }
   ],
   "source": [
    "# 사용자별 평점 평균(10명)\n",
    "\n",
    "user = np.unique(data1[:, 0])  # user id 중 중복 data 제외\n",
    "\n",
    "mean_value = []\n",
    "\n",
    "for user_id in user:  # 반복문 : 중복 data 제외한 user id 중\n",
    "    row_data = data1[data1[:, 0] == user_id, :]  # row_data 변수: 행 = data1의 전체 행 1열이 user_id(중복 제외한 user id와)와 같은 행\n",
    "                                                  #               열 = 열 전체 출력\n",
    "    value = row_data[:, 2].mean()  # row_data의 3열의 평균값을 value 변수에 저장\n",
    "    \n",
    "    mean_value.append([user_id, value])  # mean_value 변수에 user id에 따른 평균값 저장\n",
    "    \n",
    "print(\"결과: \")\n",
    "print(mean_value[:10])  # 10개까지 출력\n",
    "\n",
    "     \n",
    "    "
   ]
  },
  {
   "cell_type": "code",
   "execution_count": 20,
   "metadata": {},
   "outputs": [
    {
     "name": "stdout",
     "output_type": "stream",
     "text": [
      "(6040, 2)\n",
      "<class 'numpy.ndarray'>\n",
      "282\n",
      "[283.           4.96296296]\n",
      "4.962962962962963\n",
      "[3597 4485 2743 ... 3323 2338  282]\n",
      "[283.           4.96296296]\n"
     ]
    }
   ],
   "source": [
    "# 사용자 중 가장 높은 평점 준 사람\n",
    "\n",
    "user = np.unique(data1[:, 0])\n",
    "\n",
    "mean_value = []\n",
    "\n",
    "for user_id in user:\n",
    "    row_data = data1[data1[:, 0] == user_id, :] \n",
    "                                                  \n",
    "    value = row_data[:, 2].mean() \n",
    "    \n",
    "    mean_value.append([user_id, value]) \n",
    "\n",
    "    \n",
    "arr = np.array(mean_value)  # mean_value 배열화\n",
    "print(arr.shape)\n",
    "print(type(arr))\n",
    "\n",
    "print(np.argmax(arr[:, 1]))  # 최대값 위치 알아내기 위해 argmax 사용\n",
    "print(arr[282])  # 282번째 호출\n",
    "\n",
    "print(np.max(arr[:, 1]))  # 최대값만 출력\n",
    "\n",
    "\n",
    "print(np.argsort(arr[:, 1]))  # 오름차순 정렬: 마지막 값이 평점 가장 큰 데이터\n",
    "print(arr[282])\n"
   ]
  },
  {
   "cell_type": "code",
   "execution_count": 21,
   "metadata": {},
   "outputs": [
    {
     "name": "stdout",
     "output_type": "stream",
     "text": [
      "283 4.962962962962963\n"
     ]
    }
   ],
   "source": [
    "max = 0\n",
    "idx = 0\n",
    "\n",
    "for i in mean_value:\n",
    "    if i[1] > max:\n",
    "        max = i[1]\n",
    "        idx = i[0]\n",
    "        \n",
    "print(idx, max)"
   ]
  },
  {
   "cell_type": "code",
   "execution_count": 24,
   "metadata": {
    "scrolled": true
   },
   "outputs": [
    {
     "name": "stdout",
     "output_type": "stream",
     "text": [
      "[[ 1.          4.18867925]\n",
      " [ 2.          3.71317829]\n",
      " [ 3.          3.90196078]\n",
      " [ 4.          4.19047619]\n",
      " [ 5.          3.14646465]\n",
      " [ 6.          3.90140845]\n",
      " [ 7.          4.32258065]\n",
      " [ 8.          3.88489209]\n",
      " [ 9.          3.73584906]\n",
      " [10.          4.11471322]]\n"
     ]
    }
   ],
   "source": [
    "# 결과값 저장: NumPy 형식의 데이터만 저장 가능\n",
    "\n",
    "print(arr[:10])\n",
    "\n",
    "np.savetxt(\"data/movielens/id_rations.csv\", arr, fmt=\"%.1f\", delimiter=\",\")"
   ]
  }
 ],
 "metadata": {
  "kernelspec": {
   "display_name": "Python 3",
   "language": "python",
   "name": "python3"
  },
  "language_info": {
   "codemirror_mode": {
    "name": "ipython",
    "version": 3
   },
   "file_extension": ".py",
   "mimetype": "text/x-python",
   "name": "python",
   "nbconvert_exporter": "python",
   "pygments_lexer": "ipython3",
   "version": "3.6.8"
  }
 },
 "nbformat": 4,
 "nbformat_minor": 2
}
